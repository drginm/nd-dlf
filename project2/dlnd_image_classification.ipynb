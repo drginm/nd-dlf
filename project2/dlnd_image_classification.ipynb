{
 "cells": [
  {
   "cell_type": "markdown",
   "metadata": {
    "collapsed": true
   },
   "source": [
    "# Image Classification\n",
    "In this project, you'll classify images from the [CIFAR-10 dataset](https://www.cs.toronto.edu/~kriz/cifar.html).  The dataset consists of airplanes, dogs, cats, and other objects. You'll preprocess the images, then train a convolutional neural network on all the samples. The images need to be normalized and the labels need to be one-hot encoded.  You'll get to apply what you learned and build a convolutional, max pooling, dropout, and fully connected layers.  At the end, you'll get to see your neural network's predictions on the sample images.\n",
    "## Get the Data\n",
    "Run the following cell to download the [CIFAR-10 dataset for python](https://www.cs.toronto.edu/~kriz/cifar-10-python.tar.gz)."
   ]
  },
  {
   "cell_type": "code",
   "execution_count": 3,
   "metadata": {
    "collapsed": false
   },
   "outputs": [
    {
     "name": "stderr",
     "output_type": "stream",
     "text": [
      "CIFAR-10 Dataset: 171MB [03:21, 846KB/s]                                                                               \n"
     ]
    },
    {
     "name": "stdout",
     "output_type": "stream",
     "text": [
      "All files found!\n"
     ]
    }
   ],
   "source": [
    "\"\"\"\n",
    "DON'T MODIFY ANYTHING IN THIS CELL THAT IS BELOW THIS LINE\n",
    "\"\"\"\n",
    "from urllib.request import urlretrieve\n",
    "from os.path import isfile, isdir\n",
    "from tqdm import tqdm\n",
    "import problem_unittests as tests\n",
    "import tarfile\n",
    "\n",
    "cifar10_dataset_folder_path = 'cifar-10-batches-py'\n",
    "\n",
    "class DLProgress(tqdm):\n",
    "    last_block = 0\n",
    "\n",
    "    def hook(self, block_num=1, block_size=1, total_size=None):\n",
    "        self.total = total_size\n",
    "        self.update((block_num - self.last_block) * block_size)\n",
    "        self.last_block = block_num\n",
    "\n",
    "if not isfile('cifar-10-python.tar.gz'):\n",
    "    with DLProgress(unit='B', unit_scale=True, miniters=1, desc='CIFAR-10 Dataset') as pbar:\n",
    "        urlretrieve(\n",
    "            'https://www.cs.toronto.edu/~kriz/cifar-10-python.tar.gz',\n",
    "            'cifar-10-python.tar.gz',\n",
    "            pbar.hook)\n",
    "\n",
    "if not isdir(cifar10_dataset_folder_path):\n",
    "    with tarfile.open('cifar-10-python.tar.gz') as tar:\n",
    "        tar.extractall()\n",
    "        tar.close()\n",
    "\n",
    "\n",
    "tests.test_folder_path(cifar10_dataset_folder_path)"
   ]
  },
  {
   "cell_type": "markdown",
   "metadata": {},
   "source": [
    "## Explore the Data\n",
    "The dataset is broken into batches to prevent your machine from running out of memory.  The CIFAR-10 dataset consists of 5 batches, named `data_batch_1`, `data_batch_2`, etc.. Each batch contains the labels and images that are one of the following:\n",
    "* airplane\n",
    "* automobile\n",
    "* bird\n",
    "* cat\n",
    "* deer\n",
    "* dog\n",
    "* frog\n",
    "* horse\n",
    "* ship\n",
    "* truck\n",
    "\n",
    "Understanding a dataset is part of making predictions on the data.  Play around with the code cell below by changing the `batch_id` and `sample_id`. The `batch_id` is the id for a batch (1-5). The `sample_id` is the id for a image and label pair in the batch.\n",
    "\n",
    "Ask yourself \"What are all possible labels?\", \"What is the range of values for the image data?\", \"Are the labels in order or random?\".  Answers to questions like these will help you preprocess the data and end up with better predictions."
   ]
  },
  {
   "cell_type": "code",
   "execution_count": 11,
   "metadata": {
    "collapsed": false
   },
   "outputs": [
    {
     "name": "stdout",
     "output_type": "stream",
     "text": [
      "\n",
      "Stats of batch 1:\n",
      "Samples: 10000\n",
      "Label Counts: {0: 1005, 1: 974, 2: 1032, 3: 1016, 4: 999, 5: 937, 6: 1030, 7: 1001, 8: 1025, 9: 981}\n",
      "First 20 Labels: [6, 9, 9, 4, 1, 1, 2, 7, 8, 3, 4, 7, 7, 2, 9, 9, 9, 3, 2, 6]\n",
      "\n",
      "Example of Image 5:\n",
      "Image - Min Value: 0 Max Value: 252\n",
      "Image - Shape: (32, 32, 3)\n",
      "Label - Label Id: 1 Name: automobile\n"
     ]
    },
    {
     "data": {
      "image/png": "[encoded data removed]",
      "text/plain": [
       "<matplotlib.figure.Figure at 0x1b4ac82c7f0>"
      ]
     },
     "metadata": {
      "image/png": {
       "height": 250,
       "width": 253
      }
     },
     "output_type": "display_data"
    }
   ],
   "source": [
    "%matplotlib inline\n",
    "%config InlineBackend.figure_format = 'retina'\n",
    "\n",
    "import helper\n",
    "import numpy as np\n",
    "\n",
    "# Explore the dataset\n",
    "batch_id = 1\n",
    "sample_id = 5\n",
    "helper.display_stats(cifar10_dataset_folder_path, batch_id, sample_id)"
   ]
  },
  {
   "cell_type": "markdown",
   "metadata": {},
   "source": [
    "## Implement Preprocess Functions\n",
    "### Normalize\n",
    "In the cell below, implement the `normalize` function to take in image data, `x`, and return it as a normalized Numpy array. The values should be in the range of 0 to 1, inclusive.  The return object should be the same shape as `x`."
   ]
  },
  {
   "cell_type": "code",
   "execution_count": 21,
   "metadata": {
    "collapsed": false
   },
   "outputs": [
    {
     "name": "stdout",
     "output_type": "stream",
     "text": [
      "Tests Passed\n"
     ]
    }
   ],
   "source": [
    "def normalize(x, a = 0, b = 1):\n",
    "    \"\"\"\n",
    "    Normalize a list of sample image data in the range of 0 to 1\n",
    "    : x: List of image data.  The image shape is (32, 32, 3)\n",
    "    : return: Numpy array of normalize data\n",
    "    \"\"\"\n",
    "    # TODO: Implement Function\n",
    "    x_min = np.amin(x)\n",
    "    x_max = np.amax(x)\n",
    "\n",
    "    return a + (x - x_min) * (b - a) / (x_max - x_min)\n",
    "\n",
    "\n",
    "\"\"\"\n",
    "DON'T MODIFY ANYTHING IN THIS CELL THAT IS BELOW THIS LINE\n",
    "\"\"\"\n",
    "tests.test_normalize(normalize)"
   ]
  },
  {
   "cell_type": "markdown",
   "metadata": {},
   "source": [
    "### One-hot encode\n",
    "Just like the previous code cell, you'll be implementing a function for preprocessing.  This time, you'll implement the `one_hot_encode` function. The input, `x`, are a list of labels.  Implement the function to return the list of labels as One-Hot encoded Numpy array.  The possible values for labels are 0 to 9. The one-hot encoding function should return the same encoding for each value between each call to `one_hot_encode`.  Make sure to save the map of encodings outside the function.\n",
    "\n",
    "Hint: Don't reinvent the wheel."
   ]
  },
  {
   "cell_type": "code",
   "execution_count": 75,
   "metadata": {
    "collapsed": false
   },
   "outputs": [
    {
     "name": "stdout",
     "output_type": "stream",
     "text": [
      "Tests Passed\n"
     ]
    }
   ],
   "source": [
    "from sklearn.preprocessing import LabelBinarizer\n",
    "\n",
    "enc = None\n",
    "\n",
    "def one_hot_encode(x):\n",
    "    \"\"\"\n",
    "    One hot encode a list of sample labels. Return a one-hot encoded vector for each label.\n",
    "    : x: List of sample Labels\n",
    "    : return: Numpy array of one-hot encoded labels\n",
    "    \"\"\"\n",
    "    global enc\n",
    "    # TODO: Implement Function\n",
    "    if enc == None:\n",
    "        enc = LabelBinarizer()\n",
    "        unique_values = np.unique(x)\n",
    "        enc.fit(x)\n",
    "        \n",
    "    one_hot = enc.transform(x)\n",
    "    return one_hot\n",
    "\n",
    "\n",
    "\"\"\"\n",
    "DON'T MODIFY ANYTHING IN THIS CELL THAT IS BELOW THIS LINE\n",
    "\"\"\"\n",
    "tests.test_one_hot_encode(one_hot_encode)"
   ]
  },
  {
   "cell_type": "markdown",
   "metadata": {},
   "source": [
    "### Randomize Data\n",
    "As you saw from exploring the data above, the order of the samples are randomized.  It doesn't hurt to randomize it again, but you don't need to for this dataset."
   ]
  },
  {
   "cell_type": "markdown",
   "metadata": {},
   "source": [
    "## Preprocess all the data and save it\n",
    "Running the code cell below will preprocess all the CIFAR-10 data and save it to file. The code below also uses 10% of the training data for validation."
   ]
  },
  {
   "cell_type": "code",
   "execution_count": 76,
   "metadata": {
    "collapsed": false
   },
   "outputs": [],
   "source": [
    "\"\"\"\n",
    "DON'T MODIFY ANYTHING IN THIS CELL\n",
    "\"\"\"\n",
    "# Preprocess Training, Validation, and Testing Data\n",
    "helper.preprocess_and_save_data(cifar10_dataset_folder_path, normalize, one_hot_encode)"
   ]
  },
  {
   "cell_type": "markdown",
   "metadata": {},
   "source": [
    "# Check Point\n",
    "This is your first checkpoint.  If you ever decide to come back to this notebook or have to restart the notebook, you can start from here.  The preprocessed data has been saved to disk."
   ]
  },
  {
   "cell_type": "code",
   "execution_count": 1,
   "metadata": {
    "collapsed": true
   },
   "outputs": [],
   "source": [
    "\"\"\"\n",
    "DON'T MODIFY ANYTHING IN THIS CELL\n",
    "\"\"\"\n",
    "import pickle\n",
    "import problem_unittests as tests\n",
    "import helper\n",
    "\n",
    "# Load the Preprocessed Validation data\n",
    "valid_features, valid_labels = pickle.load(open('preprocess_validation.p', mode='rb'))"
   ]
  },
  {
   "cell_type": "markdown",
   "metadata": {},
   "source": [
    "## Build the network\n",
    "For the neural network, you'll build each layer into a function.  Most of the code you've seen has been outside of functions. To test your code more thoroughly, we require that you put each layer in a function.  This allows us to give you better feedback and test for simple mistakes using our unittests before you submit your project.\n",
    "\n",
    "If you're finding it hard to dedicate enough time for this course a week, we've provided a small shortcut to this part of the project. In the next couple of problems, you'll have the option to use [TensorFlow Layers](https://www.tensorflow.org/api_docs/python/tf/layers) or [TensorFlow Layers (contrib)](https://www.tensorflow.org/api_guides/python/contrib.layers) to build each layer, except \"Convolutional & Max Pooling\" layer.  TF Layers is similar to Keras's and TFLearn's abstraction to layers, so it's easy to pickup.\n",
    "\n",
    "If you would like to get the most of this course, try to solve all the problems without TF Layers.  Let's begin!\n",
    "### Input\n",
    "The neural network needs to read the image data, one-hot encoded labels, and dropout keep probability. Implement the following functions\n",
    "* Implement `neural_net_image_input`\n",
    " * Return a [TF Placeholder](https://www.tensorflow.org/api_docs/python/tf/placeholder)\n",
    " * Set the shape using `image_shape` with batch size set to `None`.\n",
    " * Name the TensorFlow placeholder \"x\" using the TensorFlow `name` parameter in the [TF Placeholder](https://www.tensorflow.org/api_docs/python/tf/placeholder).\n",
    "* Implement `neural_net_label_input`\n",
    " * Return a [TF Placeholder](https://www.tensorflow.org/api_docs/python/tf/placeholder)\n",
    " * Set the shape using `n_classes` with batch size set to `None`.\n",
    " * Name the TensorFlow placeholder \"y\" using the TensorFlow `name` parameter in the [TF Placeholder](https://www.tensorflow.org/api_docs/python/tf/placeholder).\n",
    "* Implement `neural_net_keep_prob_input`\n",
    " * Return a [TF Placeholder](https://www.tensorflow.org/api_docs/python/tf/placeholder) for dropout keep probability.\n",
    " * Name the TensorFlow placeholder \"keep_prob\" using the TensorFlow `name` parameter in the [TF Placeholder](https://www.tensorflow.org/api_docs/python/tf/placeholder).\n",
    "\n",
    "These names will be used at the end of the project to load your saved model.\n",
    "\n",
    "Note: `None` for shapes in TensorFlow allow for a dynamic size."
   ]
  },
  {
   "cell_type": "code",
   "execution_count": 117,
   "metadata": {
    "collapsed": false
   },
   "outputs": [
    {
     "name": "stdout",
     "output_type": "stream",
     "text": [
      "Image Input Tests Passed.\n",
      "Label Input Tests Passed.\n",
      "Keep Prob Tests Passed.\n"
     ]
    }
   ],
   "source": [
    "import tensorflow as tf\n",
    "\n",
    "def neural_net_image_input(image_shape):\n",
    "    \"\"\"\n",
    "    Return a Tensor for a bach of image input\n",
    "    : image_shape: Shape of the images\n",
    "    : return: Tensor for image input.\n",
    "    \"\"\"\n",
    "    placeholder_shape = [None] + [x for x in image_shape]\n",
    "\n",
    "    return tf.placeholder(tf.float32, placeholder_shape, name=\"x\")\n",
    "\n",
    "\n",
    "def neural_net_label_input(n_classes):\n",
    "    \"\"\"\n",
    "    Return a Tensor for a batch of label input\n",
    "    : n_classes: Number of classes\n",
    "    : return: Tensor for label input.\n",
    "    \"\"\"\n",
    "    return tf.placeholder(tf.float32, [None, n_classes], name=\"y\")\n",
    "\n",
    "\n",
    "def neural_net_keep_prob_input():\n",
    "    \"\"\"\n",
    "    Return a Tensor for keep probability\n",
    "    : return: Tensor for keep probability.\n",
    "    \"\"\"\n",
    "    return tf.placeholder(tf.float32, name=\"keep_prob\")\n",
    "\n",
    "def create_weights(shape):\n",
    "    #tf.Variable(tf.random_normal(shape))\n",
    "    return tf.Variable(tf.truncated_normal(shape, stddev=0.05))\n",
    "\n",
    "def create_biases(length):\n",
    "    #tf.Variable(tf.random_normal([conv_num_outputs]))\n",
    "    return tf.Variable(tf.constant(0.05, shape=[length]))\n",
    "\n",
    "\"\"\"\n",
    "DON'T MODIFY ANYTHING IN THIS CELL THAT IS BELOW THIS LINE\n",
    "\"\"\"\n",
    "tf.reset_default_graph()\n",
    "tests.test_nn_image_inputs(neural_net_image_input)\n",
    "tests.test_nn_label_inputs(neural_net_label_input)\n",
    "tests.test_nn_keep_prob_inputs(neural_net_keep_prob_input)"
   ]
  },
  {
   "cell_type": "markdown",
   "metadata": {},
   "source": [
    "### Convolution and Max Pooling Layer\n",
    "Convolution layers have a lot of success with images. For this code cell, you should implement the function `conv2d_maxpool` to apply convolution then max pooling:\n",
    "* Create the weight and bias using `conv_ksize`, `conv_num_outputs` and the shape of `x_tensor`.\n",
    "* Apply a convolution to `x_tensor` using weight and `conv_strides`.\n",
    " * We recommend you use same padding, but you're welcome to use any padding.\n",
    "* Add bias\n",
    "* Add a nonlinear activation to the convolution.\n",
    "* Apply Max Pooling using `pool_ksize` and `pool_strides`.\n",
    " * We recommend you use same padding, but you're welcome to use any padding.\n",
    "\n",
    "Note: You **can't** use [TensorFlow Layers](https://www.tensorflow.org/api_docs/python/tf/layers) or [TensorFlow Layers (contrib)](https://www.tensorflow.org/api_guides/python/contrib.layers) for this layer.  You're free to use any TensorFlow package for all the other layers."
   ]
  },
  {
   "cell_type": "code",
   "execution_count": 125,
   "metadata": {
    "collapsed": false
   },
   "outputs": [
    {
     "name": "stdout",
     "output_type": "stream",
     "text": [
      "Tests Passed\n"
     ]
    }
   ],
   "source": [
    "def maxpool2d(x, kernel_width, kernel_height, strides_width, strides_height, padding):\n",
    "    return tf.nn.max_pool(\n",
    "        x,\n",
    "        ksize=[1, kernel_width, kernel_height, 1],\n",
    "        strides=[1, strides_width, strides_height, 1],\n",
    "        padding=padding)\n",
    "\n",
    "def conv2d_maxpool(x_tensor, conv_num_outputs, conv_ksize, conv_strides, pool_ksize, pool_strides):\n",
    "    \"\"\"\n",
    "    Apply convolution then max pooling to x_tensor\n",
    "    :param x_tensor: TensorFlow Tensor\n",
    "    :param conv_num_outputs: Number of outputs for the convolutional layer\n",
    "    :param conv_strides: Stride 2-D Tuple for convolution\n",
    "    :param pool_ksize: kernal size 2-D Tuple for pool\n",
    "    :param pool_strides: Stride 2-D Tuple for pool\n",
    "    : return: A tensor that represents convolution and max pooling of x_tensor\n",
    "    \"\"\"\n",
    "    padding = 'SAME'\n",
    "    \n",
    "    shape = [conv_ksize[0], conv_ksize[1], x_tensor.shape[3].value, conv_num_outputs]\n",
    "    \n",
    "    weights = create_weights(shape)\n",
    "    bias =  create_biases(conv_num_outputs)\n",
    "    strides = [1, conv_strides[0], conv_strides[1], 1]\n",
    "    \n",
    "    conv = tf.nn.conv2d(x_tensor, weights, strides=strides, padding = padding) + bias\n",
    "    #conv = tf.nn.bias_add(conv, bias)\n",
    "    \n",
    "    conv = tf.nn.relu(conv)\n",
    "    conv = maxpool2d(conv, pool_ksize[0], pool_ksize[1], pool_strides[0], pool_strides[1], padding)\n",
    "    \n",
    "    return conv\n",
    "\n",
    "\n",
    "\"\"\"\n",
    "DON'T MODIFY ANYTHING IN THIS CELL THAT IS BELOW THIS LINE\n",
    "\"\"\"\n",
    "tests.test_con_pool(conv2d_maxpool)"
   ]
  },
  {
   "cell_type": "markdown",
   "metadata": {},
   "source": [
    "### Flatten Layer\n",
    "Implement the `flatten` function to change the dimension of `x_tensor` from a 4-D tensor to a 2-D tensor.  The output should be the shape (*Batch Size*, *Flattened Image Size*). You can use [TensorFlow Layers](https://www.tensorflow.org/api_docs/python/tf/layers) or [TensorFlow Layers (contrib)](https://www.tensorflow.org/api_guides/python/contrib.layers) for this layer."
   ]
  },
  {
   "cell_type": "code",
   "execution_count": 126,
   "metadata": {
    "collapsed": false
   },
   "outputs": [
    {
     "name": "stdout",
     "output_type": "stream",
     "text": [
      "Tests Passed\n"
     ]
    }
   ],
   "source": [
    "def flatten(x_tensor):\n",
    "    \"\"\"\n",
    "    Flatten x_tensor to (Batch Size, Flattened Image Size)\n",
    "    : x_tensor: A tensor of size (Batch Size, ...), where ... are the image dimensions.\n",
    "    : return: A tensor of size (Batch Size, Flattened Image Size).\n",
    "    \"\"\"\n",
    "    # TODO: Implement Function\n",
    "    shape = x_tensor.get_shape()\n",
    "    num_features = shape[1:4].num_elements()\n",
    "    flat_layer = tf.reshape(x_tensor, [-1, num_features])\n",
    "    return flat_layer\n",
    "\n",
    "\n",
    "\"\"\"\n",
    "DON'T MODIFY ANYTHING IN THIS CELL THAT IS BELOW THIS LINE\n",
    "\"\"\"\n",
    "tests.test_flatten(flatten)"
   ]
  },
  {
   "cell_type": "markdown",
   "metadata": {},
   "source": [
    "### Fully-Connected Layer\n",
    "Implement the `fully_conn` function to apply a fully connected layer to `x_tensor` with the shape (*Batch Size*, *num_outputs*). You can use [TensorFlow Layers](https://www.tensorflow.org/api_docs/python/tf/layers) or [TensorFlow Layers (contrib)](https://www.tensorflow.org/api_guides/python/contrib.layers) for this layer."
   ]
  },
  {
   "cell_type": "code",
   "execution_count": 127,
   "metadata": {
    "collapsed": false
   },
   "outputs": [
    {
     "name": "stdout",
     "output_type": "stream",
     "text": [
      "Tests Passed\n"
     ]
    }
   ],
   "source": [
    "def fully_conn(x_tensor, num_outputs, use_relu=True):\n",
    "    \"\"\"\n",
    "    Apply a fully connected layer to x_tensor using weight and bias\n",
    "    : x_tensor: A 2-D tensor where the first dimension is batch size.\n",
    "    : num_outputs: The number of output that the new tensor should be.\n",
    "    : return: A 2-D tensor where the second dimension is num_outputs.\n",
    "    \"\"\"\n",
    "    # TODO: Implement Function\n",
    "    shape = [x_tensor.get_shape()[1].value, num_outputs]\n",
    "    \n",
    "    weights = create_weights(shape)\n",
    "    bias = create_biases(num_outputs)\n",
    "    \n",
    "    fc_layer = tf.matmul(x_tensor, weights) + bias\n",
    "\n",
    "    if use_relu:\n",
    "        fc_layer = tf.nn.relu(fc_layer)\n",
    "    \n",
    "    return fc_layer\n",
    "\n",
    "\n",
    "\"\"\"\n",
    "DON'T MODIFY ANYTHING IN THIS CELL THAT IS BELOW THIS LINE\n",
    "\"\"\"\n",
    "tests.test_fully_conn(fully_conn)"
   ]
  },
  {
   "cell_type": "markdown",
   "metadata": {},
   "source": [
    "### Output Layer\n",
    "Implement the `output` function to apply a fully connected layer to `x_tensor` with the shape (*Batch Size*, *num_outputs*). You can use [TensorFlow Layers](https://www.tensorflow.org/api_docs/python/tf/layers) or [TensorFlow Layers (contrib)](https://www.tensorflow.org/api_guides/python/contrib.layers) for this layer.\n",
    "\n",
    "Note: Activation, softmax, or cross entropy shouldn't be applied to this."
   ]
  },
  {
   "cell_type": "code",
   "execution_count": 128,
   "metadata": {
    "collapsed": false
   },
   "outputs": [
    {
     "name": "stdout",
     "output_type": "stream",
     "text": [
      "Tests Passed\n"
     ]
    }
   ],
   "source": [
    "def output(x_tensor, num_outputs):\n",
    "    \"\"\"\n",
    "    Apply a output layer to x_tensor using weight and bias\n",
    "    : x_tensor: A 2-D tensor where the first dimension is batch size.\n",
    "    : num_outputs: The number of output that the new tensor should be.\n",
    "    : return: A 2-D tensor where the second dimension is num_outputs.\n",
    "    \"\"\"\n",
    "    # TODO: Implement Function\n",
    "    output = fully_conn(x_tensor, num_outputs, use_relu=False)\n",
    "\n",
    "    output = tf.nn.softmax(output)\n",
    "    return output\n",
    "\n",
    "\n",
    "\"\"\"\n",
    "DON'T MODIFY ANYTHING IN THIS CELL THAT IS BELOW THIS LINE\n",
    "\"\"\"\n",
    "tests.test_output(output)"
   ]
  },
  {
   "cell_type": "markdown",
   "metadata": {},
   "source": [
    "### Create Convolutional Model\n",
    "Implement the function `conv_net` to create a convolutional neural network model. The function takes in a batch of images, `x`, and outputs logits.  Use the layers you created above to create this model:\n",
    "\n",
    "* Apply 1, 2, or 3 Convolution and Max Pool layers\n",
    "* Apply a Flatten Layer\n",
    "* Apply 1, 2, or 3 Fully Connected Layers\n",
    "* Apply an Output Layer\n",
    "* Return the output\n",
    "* Apply [TensorFlow's Dropout](https://www.tensorflow.org/api_docs/python/tf/nn/dropout) to one or more layers in the model using `keep_prob`. "
   ]
  },
  {
   "cell_type": "code",
   "execution_count": 143,
   "metadata": {
    "collapsed": false
   },
   "outputs": [
    {
     "name": "stdout",
     "output_type": "stream",
     "text": [
      "Neural Network Built!\n"
     ]
    }
   ],
   "source": [
    "tf.reset_default_graph()\n",
    "\n",
    "def conv_net(x, keep_prob):\n",
    "    \"\"\"\n",
    "    Create a convolutional neural network model\n",
    "    : x: Placeholder tensor that holds image data.\n",
    "    : keep_prob: Placeholder tensor that hold dropout keep probability.\n",
    "    : return: Tensor that represents logits\n",
    "    \"\"\"\n",
    "    # TODO: Apply 1, 2, or 3 Convolution and Max Pool layers\n",
    "    #    Play around with different number of outputs, kernel size and stride\n",
    "    # Function Definition from Above:\n",
    "    #    conv2d_maxpool(x_tensor, conv_num_outputs, conv_ksize, conv_strides, pool_ksize, pool_strides)\n",
    "    conv_ksize = (5,5)\n",
    "    conv_strides = (1,1)\n",
    "    pool_ksize = (2,2)\n",
    "    pool_strides = (1,1)\n",
    "    conv_num_outputs = 16\n",
    "\n",
    "    x = conv2d_maxpool(x, conv_num_outputs, conv_ksize, conv_strides, pool_ksize, pool_strides)\n",
    "\n",
    "    conv_num_outputs = 36\n",
    "    x = conv2d_maxpool(x, conv_num_outputs, conv_ksize, conv_strides, pool_ksize, pool_strides)\n",
    "    x = tf.nn.dropout(x, keep_prob)\n",
    "\n",
    "    # TODO: Apply a Flatten Layer\n",
    "    # Function Definition from Above:\n",
    "    #   flatten(x_tensor)\n",
    "    x = flatten(x)\n",
    "    \n",
    "\n",
    "    # TODO: Apply 1, 2, or 3 Fully Connected Layers\n",
    "    #    Play around with different number of outputs\n",
    "    # Function Definition from Above:\n",
    "    #   fully_conn(x_tensor, num_outputs)\n",
    "    num_outputs = 1000\n",
    "    x = fully_conn(x, num_outputs)\n",
    "    num_outputs = 128\n",
    "    x = fully_conn(x, num_outputs)\n",
    "    x = tf.nn.dropout(x, keep_prob)\n",
    "    \n",
    "    # TODO: Apply an Output Layer\n",
    "    #    Set this to the number of classes\n",
    "    # Function Definition from Above:\n",
    "    #   output(x_tensor, num_outputs)\n",
    "    num_outputs = 10\n",
    "    x = output(x, num_outputs)\n",
    "    \n",
    "    return x\n",
    "\n",
    "\n",
    "\"\"\"\n",
    "DON'T MODIFY ANYTHING IN THIS CELL THAT IS BELOW THIS LINE\n",
    "\"\"\"\n",
    "\n",
    "##############################\n",
    "## Build the Neural Network ##\n",
    "##############################\n",
    "\n",
    "# Remove previous weights, bias, inputs, etc..\n",
    "tf.reset_default_graph()\n",
    "\n",
    "# Inputs\n",
    "x = neural_net_image_input((32, 32, 3))\n",
    "y = neural_net_label_input(10)\n",
    "keep_prob = neural_net_keep_prob_input()\n",
    "\n",
    "# Model\n",
    "logits = conv_net(x, keep_prob)\n",
    "\n",
    "# Name logits Tensor, so that is can be loaded from disk after training\n",
    "logits = tf.identity(logits, name='logits')\n",
    "\n",
    "# Loss and Optimizer\n",
    "cost = tf.reduce_mean(tf.nn.softmax_cross_entropy_with_logits(logits=logits, labels=y))\n",
    "optimizer = tf.train.AdamOptimizer().minimize(cost)\n",
    "\n",
    "# Accuracy\n",
    "correct_pred = tf.equal(tf.argmax(logits, 1), tf.argmax(y, 1))\n",
    "accuracy = tf.reduce_mean(tf.cast(correct_pred, tf.float32), name='accuracy')\n",
    "\n",
    "tests.test_conv_net(conv_net)"
   ]
  },
  {
   "cell_type": "markdown",
   "metadata": {},
   "source": [
    "## Train the Neural Network\n",
    "### Single Optimization\n",
    "Implement the function `train_neural_network` to do a single optimization.  The optimization should use `optimizer` to optimize in `session` with a `feed_dict` of the following:\n",
    "* `x` for image input\n",
    "* `y` for labels\n",
    "* `keep_prob` for keep probability for dropout\n",
    "\n",
    "This function will be called for each batch, so `tf.global_variables_initializer()` has already been called.\n",
    "\n",
    "Note: Nothing needs to be returned. This function is only optimizing the neural network."
   ]
  },
  {
   "cell_type": "code",
   "execution_count": 130,
   "metadata": {
    "collapsed": false
   },
   "outputs": [
    {
     "name": "stdout",
     "output_type": "stream",
     "text": [
      "Tests Passed\n"
     ]
    }
   ],
   "source": [
    "def train_neural_network(session, optimizer, keep_probability, feature_batch, label_batch):\n",
    "    \"\"\"\n",
    "    Optimize the session on a batch of images and labels\n",
    "    : session: Current TensorFlow session\n",
    "    : optimizer: TensorFlow optimizer function\n",
    "    : keep_probability: keep probability\n",
    "    : feature_batch: Batch of Numpy image data\n",
    "    : label_batch: Batch of Numpy label data\n",
    "    \"\"\"\n",
    "    # TODO: Implement Function\n",
    "    feed_dict_train = {x: feature_batch, y: label_batch, keep_prob: keep_probability}\n",
    "    \n",
    "    session.run(optimizer, feed_dict=feed_dict_train)\n",
    "\n",
    "\n",
    "\"\"\"\n",
    "DON'T MODIFY ANYTHING IN THIS CELL THAT IS BELOW THIS LINE\n",
    "\"\"\"\n",
    "tests.test_train_nn(train_neural_network)"
   ]
  },
  {
   "cell_type": "markdown",
   "metadata": {},
   "source": [
    "### Show Stats\n",
    "Implement the function `print_stats` to print loss and validation accuracy.  Use the global variables `valid_features` and `valid_labels` to calculate validation accuracy.  Use a keep probability of `1.0` to calculate the loss and validation accuracy."
   ]
  },
  {
   "cell_type": "code",
   "execution_count": 131,
   "metadata": {
    "collapsed": false
   },
   "outputs": [],
   "source": [
    "def print_stats(session, feature_batch, label_batch, cost, accuracy):\n",
    "    \"\"\"\n",
    "    Print information about loss and validation accuracy\n",
    "    : session: Current TensorFlow session\n",
    "    : feature_batch: Batch of Numpy image data\n",
    "    : label_batch: Batch of Numpy label data\n",
    "    : cost: TensorFlow cost function\n",
    "    : accuracy: TensorFlow accuracy function\n",
    "    \"\"\"\n",
    "    # TODO: Implement Function\n",
    "    \n",
    "    feed_dict_train = {x: valid_features, y: valid_labels, keep_prob: 1}\n",
    "    acc = session.run(accuracy, feed_dict=feed_dict_train)\n",
    "    \n",
    "    feed_dict_train = {x: feature_batch, y: label_batch, keep_prob: 1}\n",
    "    cst = session.run(cost, feed_dict=feed_dict_train)\n",
    "\n",
    "    # Message for printing.\n",
    "    msg = \"Optimization Training Accuracy: {0:>6.1%} Loss: {1:>.6f}\"\n",
    "\n",
    "    # Print it.\n",
    "    print(msg.format(acc, cst))\n"
   ]
  },
  {
   "cell_type": "markdown",
   "metadata": {},
   "source": [
    "### Hyperparameters\n",
    "Tune the following parameters:\n",
    "* Set `epochs` to the number of iterations until the network stops learning or start overfitting\n",
    "* Set `batch_size` to the highest number that your machine has memory for.  Most people set them to common sizes of memory:\n",
    " * 64\n",
    " * 128\n",
    " * 256\n",
    " * ...\n",
    "* Set `keep_probability` to the probability of keeping a node using dropout"
   ]
  },
  {
   "cell_type": "code",
   "execution_count": 148,
   "metadata": {
    "collapsed": true
   },
   "outputs": [],
   "source": [
    "# TODO: Tune Parameters\n",
    "epochs = 50\n",
    "batch_size = 128\n",
    "keep_probability = 0.5"
   ]
  },
  {
   "cell_type": "markdown",
   "metadata": {},
   "source": [
    "### Train on a Single CIFAR-10 Batch\n",
    "Instead of training the neural network on all the CIFAR-10 batches of data, let's use a single batch. This should save time while you iterate on the model to get a better accuracy.  Once the final validation accuracy is 50% or greater, run the model on all the data in the next section."
   ]
  },
  {
   "cell_type": "code",
   "execution_count": 150,
   "metadata": {
    "collapsed": false
   },
   "outputs": [
    {
     "name": "stdout",
     "output_type": "stream",
     "text": [
      "Checking the Training on a Single Batch...\n",
      "Epoch  1, CIFAR-10 Batch 1:  Optimization Training Accuracy:  26.8% Loss: 2.260999\n",
      "Epoch  2, CIFAR-10 Batch 1:  Optimization Training Accuracy:  29.9% Loss: 2.172641\n",
      "Epoch  3, CIFAR-10 Batch 1:  Optimization Training Accuracy:  31.6% Loss: 2.090768\n",
      "Epoch  4, CIFAR-10 Batch 1:  Optimization Training Accuracy:  35.8% Loss: 2.008010\n",
      "Epoch  5, CIFAR-10 Batch 1:  Optimization Training Accuracy:  37.6% Loss: 2.057317\n",
      "Epoch  6, CIFAR-10 Batch 1:  Optimization Training Accuracy:  41.1% Loss: 2.002477\n",
      "Epoch  7, CIFAR-10 Batch 1:  Optimization Training Accuracy:  42.8% Loss: 1.989776\n",
      "Epoch  8, CIFAR-10 Batch 1:  Optimization Training Accuracy:  43.5% Loss: 1.987189\n",
      "Epoch  9, CIFAR-10 Batch 1:  Optimization Training Accuracy:  44.1% Loss: 1.950570\n",
      "Epoch 10, CIFAR-10 Batch 1:  Optimization Training Accuracy:  42.7% Loss: 1.908974\n",
      "Epoch 11, CIFAR-10 Batch 1:  Optimization Training Accuracy:  42.2% Loss: 1.941389\n",
      "Epoch 12, CIFAR-10 Batch 1:  Optimization Training Accuracy:  46.9% Loss: 1.897011\n",
      "Epoch 13, CIFAR-10 Batch 1:  Optimization Training Accuracy:  44.8% Loss: 1.843086\n",
      "Epoch 14, CIFAR-10 Batch 1:  Optimization Training Accuracy:  47.6% Loss: 1.826220\n",
      "Epoch 15, CIFAR-10 Batch 1:  Optimization Training Accuracy:  48.4% Loss: 1.846163\n",
      "Epoch 16, CIFAR-10 Batch 1:  Optimization Training Accuracy:  47.9% Loss: 1.818457\n",
      "Epoch 17, CIFAR-10 Batch 1:  Optimization Training Accuracy:  47.5% Loss: 1.786884\n",
      "Epoch 18, CIFAR-10 Batch 1:  Optimization Training Accuracy:  48.9% Loss: 1.771540\n",
      "Epoch 19, CIFAR-10 Batch 1:  Optimization Training Accuracy:  49.1% Loss: 1.806541\n",
      "Epoch 20, CIFAR-10 Batch 1:  Optimization Training Accuracy:  47.8% Loss: 1.736935\n",
      "Epoch 21, CIFAR-10 Batch 1:  Optimization Training Accuracy:  50.5% Loss: 1.757671\n",
      "Epoch 22, CIFAR-10 Batch 1:  Optimization Training Accuracy:  48.3% Loss: 1.738064\n",
      "Epoch 23, CIFAR-10 Batch 1:  Optimization Training Accuracy:  50.3% Loss: 1.715036\n",
      "Epoch 24, CIFAR-10 Batch 1:  Optimization Training Accuracy:  50.4% Loss: 1.734407\n",
      "Epoch 25, CIFAR-10 Batch 1:  Optimization Training Accuracy:  50.2% Loss: 1.708319\n",
      "Epoch 26, CIFAR-10 Batch 1:  Optimization Training Accuracy:  52.2% Loss: 1.705818\n",
      "Epoch 27, CIFAR-10 Batch 1:  Optimization Training Accuracy:  51.0% Loss: 1.708520\n",
      "Epoch 28, CIFAR-10 Batch 1:  Optimization Training Accuracy:  50.8% Loss: 1.705735\n",
      "Epoch 29, CIFAR-10 Batch 1:  Optimization Training Accuracy:  49.7% Loss: 1.689820\n",
      "Epoch 30, CIFAR-10 Batch 1:  Optimization Training Accuracy:  50.9% Loss: 1.708725\n",
      "Epoch 31, CIFAR-10 Batch 1:  Optimization Training Accuracy:  51.6% Loss: 1.706311\n",
      "Epoch 32, CIFAR-10 Batch 1:  Optimization Training Accuracy:  50.6% Loss: 1.709248\n",
      "Epoch 33, CIFAR-10 Batch 1:  Optimization Training Accuracy:  51.9% Loss: 1.707952\n",
      "Epoch 34, CIFAR-10 Batch 1:  Optimization Training Accuracy:  51.7% Loss: 1.704199\n",
      "Epoch 35, CIFAR-10 Batch 1:  Optimization Training Accuracy:  50.2% Loss: 1.684120\n",
      "Epoch 36, CIFAR-10 Batch 1:  Optimization Training Accuracy:  50.4% Loss: 1.684440\n",
      "Epoch 37, CIFAR-10 Batch 1:  Optimization Training Accuracy:  52.6% Loss: 1.686515\n",
      "Epoch 38, CIFAR-10 Batch 1:  Optimization Training Accuracy:  51.7% Loss: 1.660410\n",
      "Epoch 39, CIFAR-10 Batch 1:  Optimization Training Accuracy:  52.2% Loss: 1.657542\n",
      "Epoch 40, CIFAR-10 Batch 1:  Optimization Training Accuracy:  51.6% Loss: 1.656663\n",
      "Epoch 41, CIFAR-10 Batch 1:  Optimization Training Accuracy:  51.6% Loss: 1.674394\n",
      "Epoch 42, CIFAR-10 Batch 1:  Optimization Training Accuracy:  52.3% Loss: 1.657060\n",
      "Epoch 43, CIFAR-10 Batch 1:  Optimization Training Accuracy:  50.9% Loss: 1.658298\n",
      "Epoch 44, CIFAR-10 Batch 1:  Optimization Training Accuracy:  52.1% Loss: 1.657758\n",
      "Epoch 45, CIFAR-10 Batch 1:  Optimization Training Accuracy:  51.7% Loss: 1.654901\n",
      "Epoch 46, CIFAR-10 Batch 1:  Optimization Training Accuracy:  52.7% Loss: 1.635008\n",
      "Epoch 47, CIFAR-10 Batch 1:  Optimization Training Accuracy:  52.5% Loss: 1.632003\n",
      "Epoch 48, CIFAR-10 Batch 1:  Optimization Training Accuracy:  51.1% Loss: 1.632220\n",
      "Epoch 49, CIFAR-10 Batch 1:  Optimization Training Accuracy:  52.8% Loss: 1.635032\n",
      "Epoch 50, CIFAR-10 Batch 1:  Optimization Training Accuracy:  52.4% Loss: 1.634259\n"
     ]
    }
   ],
   "source": [
    "\"\"\"\n",
    "DON'T MODIFY ANYTHING IN THIS CELL\n",
    "\"\"\"\n",
    "print('Checking the Training on a Single Batch...')\n",
    "with tf.Session() as sess:\n",
    "    # Initializing the variables\n",
    "    sess.run(tf.global_variables_initializer())\n",
    "    \n",
    "    # Training cycle\n",
    "    for epoch in range(epochs):\n",
    "        batch_i = 1\n",
    "        for batch_features, batch_labels in helper.load_preprocess_training_batch(batch_i, batch_size):\n",
    "            train_neural_network(sess, optimizer, keep_probability, batch_features, batch_labels)\n",
    "        print('Epoch {:>2}, CIFAR-10 Batch {}:  '.format(epoch + 1, batch_i), end='')\n",
    "        print_stats(sess, batch_features, batch_labels, cost, accuracy)"
   ]
  },
  {
   "cell_type": "markdown",
   "metadata": {},
   "source": [
    "### Fully Train the Model\n",
    "Now that you got a good accuracy with a single CIFAR-10 batch, try it with all five batches."
   ]
  },
  {
   "cell_type": "code",
   "execution_count": 151,
   "metadata": {
    "collapsed": false
   },
   "outputs": [
    {
     "name": "stdout",
     "output_type": "stream",
     "text": [
      "Training...\n",
      "Epoch  1, CIFAR-10 Batch 1:  Optimization Training Accuracy:  29.9% Loss: 2.238827\n",
      "Epoch  1, CIFAR-10 Batch 2:  Optimization Training Accuracy:  36.3% Loss: 2.062715\n",
      "Epoch  1, CIFAR-10 Batch 3:  Optimization Training Accuracy:  37.7% Loss: 2.078001\n",
      "Epoch  1, CIFAR-10 Batch 4:  Optimization Training Accuracy:  38.3% Loss: 2.098770\n",
      "Epoch  1, CIFAR-10 Batch 5:  Optimization Training Accuracy:  39.2% Loss: 2.098050\n",
      "Epoch  2, CIFAR-10 Batch 1:  Optimization Training Accuracy:  39.7% Loss: 2.106220\n",
      "Epoch  2, CIFAR-10 Batch 2:  Optimization Training Accuracy:  40.9% Loss: 1.910310\n",
      "Epoch  2, CIFAR-10 Batch 3:  Optimization Training Accuracy:  40.1% Loss: 1.973555\n",
      "Epoch  2, CIFAR-10 Batch 4:  Optimization Training Accuracy:  43.1% Loss: 2.066253\n",
      "Epoch  2, CIFAR-10 Batch 5:  Optimization Training Accuracy:  41.9% Loss: 2.004268\n",
      "Epoch  3, CIFAR-10 Batch 1:  Optimization Training Accuracy:  38.5% Loss: 2.093740\n",
      "Epoch  3, CIFAR-10 Batch 2:  Optimization Training Accuracy:  45.7% Loss: 1.932703\n",
      "Epoch  3, CIFAR-10 Batch 3:  Optimization Training Accuracy:  46.2% Loss: 1.956250\n",
      "Epoch  3, CIFAR-10 Batch 4:  Optimization Training Accuracy:  47.7% Loss: 1.955611\n",
      "Epoch  3, CIFAR-10 Batch 5:  Optimization Training Accuracy:  46.6% Loss: 2.012632\n",
      "Epoch  4, CIFAR-10 Batch 1:  Optimization Training Accuracy:  48.7% Loss: 1.971172\n",
      "Epoch  4, CIFAR-10 Batch 2:  Optimization Training Accuracy:  43.6% Loss: 1.945719\n",
      "Epoch  4, CIFAR-10 Batch 3:  Optimization Training Accuracy:  48.3% Loss: 1.921414\n",
      "Epoch  4, CIFAR-10 Batch 4:  Optimization Training Accuracy:  48.7% Loss: 1.954760\n",
      "Epoch  4, CIFAR-10 Batch 5:  Optimization Training Accuracy:  49.2% Loss: 1.953854\n",
      "Epoch  5, CIFAR-10 Batch 1:  Optimization Training Accuracy:  50.1% Loss: 1.916220\n",
      "Epoch  5, CIFAR-10 Batch 2:  Optimization Training Accuracy:  47.4% Loss: 1.967775\n",
      "Epoch  5, CIFAR-10 Batch 3:  Optimization Training Accuracy:  48.1% Loss: 1.889304\n",
      "Epoch  5, CIFAR-10 Batch 4:  Optimization Training Accuracy:  50.7% Loss: 1.966897\n",
      "Epoch  5, CIFAR-10 Batch 5:  Optimization Training Accuracy:  49.3% Loss: 1.959711\n",
      "Epoch  6, CIFAR-10 Batch 1:  Optimization Training Accuracy:  51.2% Loss: 1.968762\n",
      "Epoch  6, CIFAR-10 Batch 2:  Optimization Training Accuracy:  51.6% Loss: 1.928181\n",
      "Epoch  6, CIFAR-10 Batch 3:  Optimization Training Accuracy:  52.3% Loss: 1.776035\n",
      "Epoch  6, CIFAR-10 Batch 4:  Optimization Training Accuracy:  51.9% Loss: 1.899458\n",
      "Epoch  6, CIFAR-10 Batch 5:  Optimization Training Accuracy:  50.1% Loss: 1.903751\n",
      "Epoch  7, CIFAR-10 Batch 1:  Optimization Training Accuracy:  52.4% Loss: 1.897480\n",
      "Epoch  7, CIFAR-10 Batch 2:  Optimization Training Accuracy:  50.6% Loss: 1.873402\n",
      "Epoch  7, CIFAR-10 Batch 3:  Optimization Training Accuracy:  51.9% Loss: 1.766245\n",
      "Epoch  7, CIFAR-10 Batch 4:  Optimization Training Accuracy:  52.2% Loss: 1.886023\n",
      "Epoch  7, CIFAR-10 Batch 5:  Optimization Training Accuracy:  51.4% Loss: 1.861911\n",
      "Epoch  8, CIFAR-10 Batch 1:  Optimization Training Accuracy:  51.2% Loss: 1.973372\n",
      "Epoch  8, CIFAR-10 Batch 2:  Optimization Training Accuracy:  53.0% Loss: 1.849805\n",
      "Epoch  8, CIFAR-10 Batch 3:  Optimization Training Accuracy:  51.6% Loss: 1.838323\n",
      "Epoch  8, CIFAR-10 Batch 4:  Optimization Training Accuracy:  53.4% Loss: 1.851700\n",
      "Epoch  8, CIFAR-10 Batch 5:  Optimization Training Accuracy:  55.3% Loss: 1.781185\n",
      "Epoch  9, CIFAR-10 Batch 1:  Optimization Training Accuracy:  51.6% Loss: 1.899246\n",
      "Epoch  9, CIFAR-10 Batch 2:  Optimization Training Accuracy:  53.8% Loss: 1.847056\n",
      "Epoch  9, CIFAR-10 Batch 3:  Optimization Training Accuracy:  53.5% Loss: 1.787418\n",
      "Epoch  9, CIFAR-10 Batch 4:  Optimization Training Accuracy:  52.4% Loss: 1.844914\n",
      "Epoch  9, CIFAR-10 Batch 5:  Optimization Training Accuracy:  52.8% Loss: 1.891562\n",
      "Epoch 10, CIFAR-10 Batch 1:  Optimization Training Accuracy:  54.3% Loss: 1.853306\n",
      "Epoch 10, CIFAR-10 Batch 2:  Optimization Training Accuracy:  54.3% Loss: 1.807706\n",
      "Epoch 10, CIFAR-10 Batch 3:  Optimization Training Accuracy:  52.8% Loss: 1.813701\n",
      "Epoch 10, CIFAR-10 Batch 4:  Optimization Training Accuracy:  54.3% Loss: 1.853234\n",
      "Epoch 10, CIFAR-10 Batch 5:  Optimization Training Accuracy:  54.9% Loss: 1.816123\n",
      "Epoch 11, CIFAR-10 Batch 1:  Optimization Training Accuracy:  55.4% Loss: 1.910953\n",
      "Epoch 11, CIFAR-10 Batch 2:  Optimization Training Accuracy:  53.7% Loss: 1.784921\n",
      "Epoch 11, CIFAR-10 Batch 3:  Optimization Training Accuracy:  53.9% Loss: 1.645648\n",
      "Epoch 11, CIFAR-10 Batch 4:  Optimization Training Accuracy:  55.2% Loss: 1.808943\n",
      "Epoch 11, CIFAR-10 Batch 5:  Optimization Training Accuracy:  55.8% Loss: 1.748913\n",
      "Epoch 12, CIFAR-10 Batch 1:  Optimization Training Accuracy:  55.0% Loss: 1.897329\n",
      "Epoch 12, CIFAR-10 Batch 2:  Optimization Training Accuracy:  55.7% Loss: 1.722036\n",
      "Epoch 12, CIFAR-10 Batch 3:  Optimization Training Accuracy:  54.9% Loss: 1.689555\n",
      "Epoch 12, CIFAR-10 Batch 4:  Optimization Training Accuracy:  55.8% Loss: 1.763626\n",
      "Epoch 12, CIFAR-10 Batch 5:  Optimization Training Accuracy:  51.7% Loss: 1.840383\n",
      "Epoch 13, CIFAR-10 Batch 1:  Optimization Training Accuracy:  54.9% Loss: 1.808483\n",
      "Epoch 13, CIFAR-10 Batch 2:  Optimization Training Accuracy:  55.0% Loss: 1.784870\n",
      "Epoch 13, CIFAR-10 Batch 3:  Optimization Training Accuracy:  54.3% Loss: 1.682235\n",
      "Epoch 13, CIFAR-10 Batch 4:  Optimization Training Accuracy:  54.9% Loss: 1.780985\n",
      "Epoch 13, CIFAR-10 Batch 5:  Optimization Training Accuracy:  55.3% Loss: 1.709915\n",
      "Epoch 14, CIFAR-10 Batch 1:  Optimization Training Accuracy:  57.0% Loss: 1.847681\n",
      "Epoch 14, CIFAR-10 Batch 2:  Optimization Training Accuracy:  58.1% Loss: 1.776456\n",
      "Epoch 14, CIFAR-10 Batch 3:  Optimization Training Accuracy:  55.7% Loss: 1.724842\n",
      "Epoch 14, CIFAR-10 Batch 4:  Optimization Training Accuracy:  54.6% Loss: 1.733296\n",
      "Epoch 14, CIFAR-10 Batch 5:  Optimization Training Accuracy:  51.5% Loss: 1.927583\n",
      "Epoch 15, CIFAR-10 Batch 1:  Optimization Training Accuracy:  57.6% Loss: 1.812154\n",
      "Epoch 15, CIFAR-10 Batch 2:  Optimization Training Accuracy:  56.5% Loss: 1.832746\n",
      "Epoch 15, CIFAR-10 Batch 3:  Optimization Training Accuracy:  56.5% Loss: 1.639273\n",
      "Epoch 15, CIFAR-10 Batch 4:  Optimization Training Accuracy:  55.2% Loss: 1.784216\n",
      "Epoch 15, CIFAR-10 Batch 5:  Optimization Training Accuracy:  56.2% Loss: 1.743029\n",
      "Epoch 16, CIFAR-10 Batch 1:  Optimization Training Accuracy:  54.1% Loss: 1.854453\n",
      "Epoch 16, CIFAR-10 Batch 2:  Optimization Training Accuracy:  57.8% Loss: 1.760033\n",
      "Epoch 16, CIFAR-10 Batch 3:  Optimization Training Accuracy:  57.2% Loss: 1.658303\n",
      "Epoch 16, CIFAR-10 Batch 4:  Optimization Training Accuracy:  58.0% Loss: 1.641315\n",
      "Epoch 16, CIFAR-10 Batch 5:  Optimization Training Accuracy:  58.0% Loss: 1.797541\n",
      "Epoch 17, CIFAR-10 Batch 1:  Optimization Training Accuracy:  56.7% Loss: 1.812221\n",
      "Epoch 17, CIFAR-10 Batch 2:  Optimization Training Accuracy:  57.6% Loss: 1.819442\n",
      "Epoch 17, CIFAR-10 Batch 3:  Optimization Training Accuracy:  58.2% Loss: 1.652212\n",
      "Epoch 17, CIFAR-10 Batch 4:  Optimization Training Accuracy:  56.6% Loss: 1.683846\n",
      "Epoch 17, CIFAR-10 Batch 5:  Optimization Training Accuracy:  57.3% Loss: 1.760880\n",
      "Epoch 18, CIFAR-10 Batch 1:  Optimization Training Accuracy:  59.2% Loss: 1.778510\n",
      "Epoch 18, CIFAR-10 Batch 2:  Optimization Training Accuracy:  58.5% Loss: 1.821633\n",
      "Epoch 18, CIFAR-10 Batch 3:  Optimization Training Accuracy:  58.9% Loss: 1.631297\n",
      "Epoch 18, CIFAR-10 Batch 4:  Optimization Training Accuracy:  58.2% Loss: 1.647775\n",
      "Epoch 18, CIFAR-10 Batch 5:  Optimization Training Accuracy:  58.0% Loss: 1.735319\n",
      "Epoch 19, CIFAR-10 Batch 1:  Optimization Training Accuracy:  56.0% Loss: 1.810241\n",
      "Epoch 19, CIFAR-10 Batch 2:  Optimization Training Accuracy:  55.6% Loss: 1.809869\n",
      "Epoch 19, CIFAR-10 Batch 3:  Optimization Training Accuracy:  57.8% Loss: 1.620467\n",
      "Epoch 19, CIFAR-10 Batch 4:  Optimization Training Accuracy:  58.2% Loss: 1.633985\n",
      "Epoch 19, CIFAR-10 Batch 5:  Optimization Training Accuracy:  58.1% Loss: 1.784433\n",
      "Epoch 20, CIFAR-10 Batch 1:  Optimization Training Accuracy:  58.2% Loss: 1.831095\n",
      "Epoch 20, CIFAR-10 Batch 2:  Optimization Training Accuracy:  57.4% Loss: 1.811856\n",
      "Epoch 20, CIFAR-10 Batch 3:  Optimization Training Accuracy:  58.3% Loss: 1.639788\n",
      "Epoch 20, CIFAR-10 Batch 4:  Optimization Training Accuracy:  55.9% Loss: 1.794899\n",
      "Epoch 20, CIFAR-10 Batch 5:  Optimization Training Accuracy:  58.1% Loss: 1.762484\n",
      "Epoch 21, CIFAR-10 Batch 1:  Optimization Training Accuracy:  56.0% Loss: 1.861781\n",
      "Epoch 21, CIFAR-10 Batch 2:  Optimization Training Accuracy:  55.8% Loss: 1.786023\n",
      "Epoch 21, CIFAR-10 Batch 3:  Optimization Training Accuracy:  57.7% Loss: 1.658063\n",
      "Epoch 21, CIFAR-10 Batch 4:  Optimization Training Accuracy:  53.8% Loss: 1.823106\n",
      "Epoch 21, CIFAR-10 Batch 5:  Optimization Training Accuracy:  58.2% Loss: 1.770460\n",
      "Epoch 22, CIFAR-10 Batch 1:  Optimization Training Accuracy:  55.9% Loss: 1.902263\n",
      "Epoch 22, CIFAR-10 Batch 2:  Optimization Training Accuracy:  57.2% Loss: 1.835958\n",
      "Epoch 22, CIFAR-10 Batch 3:  Optimization Training Accuracy:  57.5% Loss: 1.711307\n",
      "Epoch 22, CIFAR-10 Batch 4:  Optimization Training Accuracy:  56.2% Loss: 1.761641\n",
      "Epoch 22, CIFAR-10 Batch 5:  Optimization Training Accuracy:  50.5% Loss: 1.769734\n",
      "Epoch 23, CIFAR-10 Batch 1:  Optimization Training Accuracy:  56.0% Loss: 1.760958\n",
      "Epoch 23, CIFAR-10 Batch 2:  Optimization Training Accuracy:  57.0% Loss: 1.825540\n",
      "Epoch 23, CIFAR-10 Batch 3:  Optimization Training Accuracy:  57.7% Loss: 1.725686\n",
      "Epoch 23, CIFAR-10 Batch 4:  Optimization Training Accuracy:  56.9% Loss: 1.759411\n",
      "Epoch 23, CIFAR-10 Batch 5:  Optimization Training Accuracy:  54.3% Loss: 1.842402\n",
      "Epoch 24, CIFAR-10 Batch 1:  Optimization Training Accuracy:  58.2% Loss: 1.861561\n",
      "Epoch 24, CIFAR-10 Batch 2:  Optimization Training Accuracy:  55.4% Loss: 1.835831\n",
      "Epoch 24, CIFAR-10 Batch 3:  Optimization Training Accuracy:  56.8% Loss: 1.661454\n",
      "Epoch 24, CIFAR-10 Batch 4:  Optimization Training Accuracy:  55.4% Loss: 1.736000\n",
      "Epoch 24, CIFAR-10 Batch 5:  Optimization Training Accuracy:  57.2% Loss: 1.727544\n",
      "Epoch 25, CIFAR-10 Batch 1:  Optimization Training Accuracy:  56.8% Loss: 1.786212\n",
      "Epoch 25, CIFAR-10 Batch 2:  Optimization Training Accuracy:  57.6% Loss: 1.721074\n",
      "Epoch 25, CIFAR-10 Batch 3:  Optimization Training Accuracy:  56.5% Loss: 1.777604\n",
      "Epoch 25, CIFAR-10 Batch 4:  Optimization Training Accuracy:  56.5% Loss: 1.800227\n",
      "Epoch 25, CIFAR-10 Batch 5:  Optimization Training Accuracy:  56.3% Loss: 1.730441\n",
      "Epoch 26, CIFAR-10 Batch 1:  Optimization Training Accuracy:  57.1% Loss: 1.885289\n",
      "Epoch 26, CIFAR-10 Batch 2:  Optimization Training Accuracy:  58.1% Loss: 1.779183\n",
      "Epoch 26, CIFAR-10 Batch 3:  Optimization Training Accuracy:  58.5% Loss: 1.611149\n",
      "Epoch 26, CIFAR-10 Batch 4:  Optimization Training Accuracy:  54.7% Loss: 1.690131\n",
      "Epoch 26, CIFAR-10 Batch 5:  Optimization Training Accuracy:  57.3% Loss: 1.711024\n",
      "Epoch 27, CIFAR-10 Batch 1:  Optimization Training Accuracy:  51.2% Loss: 1.817506\n",
      "Epoch 27, CIFAR-10 Batch 2:  Optimization Training Accuracy:  56.2% Loss: 1.768965\n",
      "Epoch 27, CIFAR-10 Batch 3:  Optimization Training Accuracy:  52.5% Loss: 1.753674\n",
      "Epoch 27, CIFAR-10 Batch 4:  Optimization Training Accuracy:  56.7% Loss: 1.686649\n",
      "Epoch 27, CIFAR-10 Batch 5:  Optimization Training Accuracy:  57.3% Loss: 1.789287\n",
      "Epoch 28, CIFAR-10 Batch 1:  Optimization Training Accuracy:  56.3% Loss: 1.861188\n",
      "Epoch 28, CIFAR-10 Batch 2:  Optimization Training Accuracy:  57.3% Loss: 1.785187\n",
      "Epoch 28, CIFAR-10 Batch 3:  Optimization Training Accuracy:  55.0% Loss: 1.760525\n",
      "Epoch 28, CIFAR-10 Batch 4:  Optimization Training Accuracy:  57.1% Loss: 1.765181\n",
      "Epoch 28, CIFAR-10 Batch 5:  Optimization Training Accuracy:  55.9% Loss: 1.712360\n",
      "Epoch 29, CIFAR-10 Batch 1:  Optimization Training Accuracy:  49.5% Loss: 1.936125\n",
      "Epoch 29, CIFAR-10 Batch 2:  Optimization Training Accuracy:  56.4% Loss: 1.736150\n",
      "Epoch 29, CIFAR-10 Batch 3:  Optimization Training Accuracy:  57.2% Loss: 1.686147\n",
      "Epoch 29, CIFAR-10 Batch 4:  Optimization Training Accuracy:  56.4% Loss: 1.710704\n",
      "Epoch 29, CIFAR-10 Batch 5:  Optimization Training Accuracy:  56.6% Loss: 1.748600\n",
      "Epoch 30, CIFAR-10 Batch 1:  Optimization Training Accuracy:  55.8% Loss: 1.835972\n",
      "Epoch 30, CIFAR-10 Batch 2:  Optimization Training Accuracy:  53.4% Loss: 1.763548\n",
      "Epoch 30, CIFAR-10 Batch 3:  Optimization Training Accuracy:  54.0% Loss: 1.736038\n",
      "Epoch 30, CIFAR-10 Batch 4:  Optimization Training Accuracy:  57.9% Loss: 1.759608\n",
      "Epoch 30, CIFAR-10 Batch 5:  Optimization Training Accuracy:  54.5% Loss: 1.637027\n",
      "Epoch 31, CIFAR-10 Batch 1:  Optimization Training Accuracy:  55.3% Loss: 1.885519\n",
      "Epoch 31, CIFAR-10 Batch 2:  Optimization Training Accuracy:  57.6% Loss: 1.801727\n",
      "Epoch 31, CIFAR-10 Batch 3:  Optimization Training Accuracy:  56.0% Loss: 1.710872\n",
      "Epoch 31, CIFAR-10 Batch 4:  Optimization Training Accuracy:  55.8% Loss: 1.685745\n",
      "Epoch 31, CIFAR-10 Batch 5:  Optimization Training Accuracy:  44.0% Loss: 1.822401\n",
      "Epoch 32, CIFAR-10 Batch 1:  Optimization Training Accuracy:  53.9% Loss: 1.786324\n",
      "Epoch 32, CIFAR-10 Batch 2:  Optimization Training Accuracy:  56.7% Loss: 1.735842\n",
      "Epoch 32, CIFAR-10 Batch 3:  Optimization Training Accuracy:  57.0% Loss: 1.690818\n",
      "Epoch 32, CIFAR-10 Batch 4:  Optimization Training Accuracy:  56.3% Loss: 1.736149\n",
      "Epoch 32, CIFAR-10 Batch 5:  Optimization Training Accuracy:  55.8% Loss: 1.688945\n",
      "Epoch 33, CIFAR-10 Batch 1:  Optimization Training Accuracy:  56.1% Loss: 1.835476\n",
      "Epoch 33, CIFAR-10 Batch 2:  Optimization Training Accuracy:  55.9% Loss: 1.811085\n",
      "Epoch 33, CIFAR-10 Batch 3:  Optimization Training Accuracy:  57.4% Loss: 1.660648\n",
      "Epoch 33, CIFAR-10 Batch 4:  Optimization Training Accuracy:  54.8% Loss: 1.786701\n",
      "Epoch 33, CIFAR-10 Batch 5:  Optimization Training Accuracy:  58.0% Loss: 1.636154\n",
      "Epoch 34, CIFAR-10 Batch 1:  Optimization Training Accuracy:  57.3% Loss: 1.825842\n",
      "Epoch 34, CIFAR-10 Batch 2:  Optimization Training Accuracy:  57.5% Loss: 1.886150\n",
      "Epoch 34, CIFAR-10 Batch 3:  Optimization Training Accuracy:  57.9% Loss: 1.706710\n",
      "Epoch 34, CIFAR-10 Batch 4:  Optimization Training Accuracy:  55.5% Loss: 1.738648\n",
      "Epoch 34, CIFAR-10 Batch 5:  Optimization Training Accuracy:  56.0% Loss: 1.811251\n",
      "Epoch 35, CIFAR-10 Batch 1:  Optimization Training Accuracy:  58.4% Loss: 1.810913\n",
      "Epoch 35, CIFAR-10 Batch 2:  Optimization Training Accuracy:  57.9% Loss: 1.755163\n",
      "Epoch 35, CIFAR-10 Batch 3:  Optimization Training Accuracy:  57.7% Loss: 1.742412\n",
      "Epoch 35, CIFAR-10 Batch 4:  Optimization Training Accuracy:  56.2% Loss: 1.763788\n",
      "Epoch 35, CIFAR-10 Batch 5:  Optimization Training Accuracy:  55.8% Loss: 1.787828\n",
      "Epoch 36, CIFAR-10 Batch 1:  Optimization Training Accuracy:  50.8% Loss: 1.785598\n",
      "Epoch 36, CIFAR-10 Batch 2:  Optimization Training Accuracy:  53.7% Loss: 1.810412\n",
      "Epoch 36, CIFAR-10 Batch 3:  Optimization Training Accuracy:  57.6% Loss: 1.729160\n",
      "Epoch 36, CIFAR-10 Batch 4:  Optimization Training Accuracy:  50.2% Loss: 1.860187\n",
      "Epoch 36, CIFAR-10 Batch 5:  Optimization Training Accuracy:  56.0% Loss: 1.711234\n",
      "Epoch 37, CIFAR-10 Batch 1:  Optimization Training Accuracy:  54.7% Loss: 1.811077\n",
      "Epoch 37, CIFAR-10 Batch 2:  Optimization Training Accuracy:  56.1% Loss: 1.736158\n",
      "Epoch 37, CIFAR-10 Batch 3:  Optimization Training Accuracy:  57.0% Loss: 1.757029\n",
      "Epoch 37, CIFAR-10 Batch 4:  Optimization Training Accuracy:  56.3% Loss: 1.736151\n",
      "Epoch 37, CIFAR-10 Batch 5:  Optimization Training Accuracy:  55.3% Loss: 1.710862\n",
      "Epoch 38, CIFAR-10 Batch 1:  Optimization Training Accuracy:  54.2% Loss: 1.785279\n",
      "Epoch 38, CIFAR-10 Batch 2:  Optimization Training Accuracy:  55.6% Loss: 1.811150\n",
      "Epoch 38, CIFAR-10 Batch 3:  Optimization Training Accuracy:  55.5% Loss: 1.679062\n",
      "Epoch 38, CIFAR-10 Batch 4:  Optimization Training Accuracy:  52.5% Loss: 1.760367\n",
      "Epoch 38, CIFAR-10 Batch 5:  Optimization Training Accuracy:  57.1% Loss: 1.790537\n",
      "Epoch 39, CIFAR-10 Batch 1:  Optimization Training Accuracy:  57.2% Loss: 1.736144\n",
      "Epoch 39, CIFAR-10 Batch 2:  Optimization Training Accuracy:  51.9% Loss: 1.886931\n",
      "Epoch 39, CIFAR-10 Batch 3:  Optimization Training Accuracy:  55.7% Loss: 1.786964\n",
      "Epoch 39, CIFAR-10 Batch 4:  Optimization Training Accuracy:  54.7% Loss: 1.810535\n",
      "Epoch 39, CIFAR-10 Batch 5:  Optimization Training Accuracy:  54.1% Loss: 1.711506\n",
      "Epoch 40, CIFAR-10 Batch 1:  Optimization Training Accuracy:  50.8% Loss: 1.811692\n",
      "Epoch 40, CIFAR-10 Batch 2:  Optimization Training Accuracy:  55.3% Loss: 1.860830\n",
      "Epoch 40, CIFAR-10 Batch 3:  Optimization Training Accuracy:  54.9% Loss: 1.785009\n",
      "Epoch 40, CIFAR-10 Batch 4:  Optimization Training Accuracy:  53.6% Loss: 1.886169\n",
      "Epoch 40, CIFAR-10 Batch 5:  Optimization Training Accuracy:  49.4% Loss: 1.772955\n",
      "Epoch 41, CIFAR-10 Batch 1:  Optimization Training Accuracy:  50.5% Loss: 1.883021\n",
      "Epoch 41, CIFAR-10 Batch 2:  Optimization Training Accuracy:  55.8% Loss: 1.761324\n",
      "Epoch 41, CIFAR-10 Batch 3:  Optimization Training Accuracy:  55.5% Loss: 1.736317\n",
      "Epoch 41, CIFAR-10 Batch 4:  Optimization Training Accuracy:  56.8% Loss: 1.737611\n",
      "Epoch 41, CIFAR-10 Batch 5:  Optimization Training Accuracy:  53.7% Loss: 1.785421\n",
      "Epoch 42, CIFAR-10 Batch 1:  Optimization Training Accuracy:  50.6% Loss: 1.861150\n",
      "Epoch 42, CIFAR-10 Batch 2:  Optimization Training Accuracy:  54.4% Loss: 1.761173\n",
      "Epoch 42, CIFAR-10 Batch 3:  Optimization Training Accuracy:  52.2% Loss: 1.811150\n",
      "Epoch 42, CIFAR-10 Batch 4:  Optimization Training Accuracy:  57.1% Loss: 1.686150\n",
      "Epoch 42, CIFAR-10 Batch 5:  Optimization Training Accuracy:  53.0% Loss: 1.807744\n",
      "Epoch 43, CIFAR-10 Batch 1:  Optimization Training Accuracy:  55.2% Loss: 1.836150\n",
      "Epoch 43, CIFAR-10 Batch 2:  Optimization Training Accuracy:  52.3% Loss: 1.786181\n",
      "Epoch 43, CIFAR-10 Batch 3:  Optimization Training Accuracy:  54.3% Loss: 1.695416\n",
      "Epoch 43, CIFAR-10 Batch 4:  Optimization Training Accuracy:  46.6% Loss: 2.011171\n",
      "Epoch 43, CIFAR-10 Batch 5:  Optimization Training Accuracy:  54.1% Loss: 1.820935\n",
      "Epoch 44, CIFAR-10 Batch 1:  Optimization Training Accuracy:  51.7% Loss: 1.811148\n",
      "Epoch 44, CIFAR-10 Batch 2:  Optimization Training Accuracy:  54.8% Loss: 1.786150\n",
      "Epoch 44, CIFAR-10 Batch 3:  Optimization Training Accuracy:  56.0% Loss: 1.686308\n",
      "Epoch 44, CIFAR-10 Batch 4:  Optimization Training Accuracy:  52.9% Loss: 1.686150\n",
      "Epoch 44, CIFAR-10 Batch 5:  Optimization Training Accuracy:  49.7% Loss: 1.961150\n",
      "Epoch 45, CIFAR-10 Batch 1:  Optimization Training Accuracy:  52.7% Loss: 1.821857\n",
      "Epoch 45, CIFAR-10 Batch 2:  Optimization Training Accuracy:  54.7% Loss: 1.820086\n",
      "Epoch 45, CIFAR-10 Batch 3:  Optimization Training Accuracy:  55.0% Loss: 1.836112\n",
      "Epoch 45, CIFAR-10 Batch 4:  Optimization Training Accuracy:  53.5% Loss: 1.786150\n",
      "Epoch 45, CIFAR-10 Batch 5:  Optimization Training Accuracy:  52.3% Loss: 1.705925\n",
      "Epoch 46, CIFAR-10 Batch 1:  Optimization Training Accuracy:  53.2% Loss: 1.910827\n",
      "Epoch 46, CIFAR-10 Batch 2:  Optimization Training Accuracy:  54.8% Loss: 1.836161\n",
      "Epoch 46, CIFAR-10 Batch 3:  Optimization Training Accuracy:  53.4% Loss: 1.811150\n",
      "Epoch 46, CIFAR-10 Batch 4:  Optimization Training Accuracy:  52.4% Loss: 1.810306\n",
      "Epoch 46, CIFAR-10 Batch 5:  Optimization Training Accuracy:  55.9% Loss: 1.736150\n",
      "Epoch 47, CIFAR-10 Batch 1:  Optimization Training Accuracy:  50.1% Loss: 1.986150\n",
      "Epoch 47, CIFAR-10 Batch 2:  Optimization Training Accuracy:  52.7% Loss: 1.861146\n",
      "Epoch 47, CIFAR-10 Batch 3:  Optimization Training Accuracy:  52.1% Loss: 1.811150\n",
      "Epoch 47, CIFAR-10 Batch 4:  Optimization Training Accuracy:  49.1% Loss: 1.661054\n",
      "Epoch 47, CIFAR-10 Batch 5:  Optimization Training Accuracy:  52.1% Loss: 1.836149\n",
      "Epoch 48, CIFAR-10 Batch 1:  Optimization Training Accuracy:  51.6% Loss: 1.834853\n",
      "Epoch 48, CIFAR-10 Batch 2:  Optimization Training Accuracy:  53.5% Loss: 1.786111\n",
      "Epoch 48, CIFAR-10 Batch 3:  Optimization Training Accuracy:  47.8% Loss: 1.810345\n",
      "Epoch 48, CIFAR-10 Batch 4:  Optimization Training Accuracy:  53.2% Loss: 1.730955\n",
      "Epoch 48, CIFAR-10 Batch 5:  Optimization Training Accuracy:  52.4% Loss: 1.810694\n",
      "Epoch 49, CIFAR-10 Batch 1:  Optimization Training Accuracy:  53.4% Loss: 1.810236\n",
      "Epoch 49, CIFAR-10 Batch 2:  Optimization Training Accuracy:  53.7% Loss: 1.810695\n",
      "Epoch 49, CIFAR-10 Batch 3:  Optimization Training Accuracy:  54.4% Loss: 1.786150\n",
      "Epoch 49, CIFAR-10 Batch 4:  Optimization Training Accuracy:  51.9% Loss: 1.785955\n",
      "Epoch 49, CIFAR-10 Batch 5:  Optimization Training Accuracy:  52.7% Loss: 1.786041\n",
      "Epoch 50, CIFAR-10 Batch 1:  Optimization Training Accuracy:  52.2% Loss: 1.836150\n",
      "Epoch 50, CIFAR-10 Batch 2:  Optimization Training Accuracy:  45.3% Loss: 1.936047\n",
      "Epoch 50, CIFAR-10 Batch 3:  Optimization Training Accuracy:  51.3% Loss: 1.786204\n",
      "Epoch 50, CIFAR-10 Batch 4:  Optimization Training Accuracy:  39.8% Loss: 1.911145\n",
      "Epoch 50, CIFAR-10 Batch 5:  Optimization Training Accuracy:  52.6% Loss: 1.886150\n"
     ]
    }
   ],
   "source": [
    "\"\"\"\n",
    "DON'T MODIFY ANYTHING IN THIS CELL\n",
    "\"\"\"\n",
    "save_model_path = './image_classification'\n",
    "\n",
    "print('Training...')\n",
    "with tf.Session() as sess:\n",
    "    # Initializing the variables\n",
    "    sess.run(tf.global_variables_initializer())\n",
    "    \n",
    "    # Training cycle\n",
    "    for epoch in range(epochs):\n",
    "        # Loop over all batches\n",
    "        n_batches = 5\n",
    "        for batch_i in range(1, n_batches + 1):\n",
    "            for batch_features, batch_labels in helper.load_preprocess_training_batch(batch_i, batch_size):\n",
    "                train_neural_network(sess, optimizer, keep_probability, batch_features, batch_labels)\n",
    "            print('Epoch {:>2}, CIFAR-10 Batch {}:  '.format(epoch + 1, batch_i), end='')\n",
    "            print_stats(sess, batch_features, batch_labels, cost, accuracy)\n",
    "            \n",
    "    # Save Model\n",
    "    saver = tf.train.Saver()\n",
    "    save_path = saver.save(sess, save_model_path)"
   ]
  },
  {
   "cell_type": "markdown",
   "metadata": {},
   "source": [
    "# Checkpoint\n",
    "The model has been saved to disk.\n",
    "## Test Model\n",
    "Test your model against the test dataset.  This will be your final accuracy. You should have an accuracy greater than 50%. If you don't, keep tweaking the model architecture and parameters."
   ]
  },
  {
   "cell_type": "code",
   "execution_count": 152,
   "metadata": {
    "collapsed": false
   },
   "outputs": [
    {
     "name": "stdout",
     "output_type": "stream",
     "text": [
      "Testing Accuracy: 0.5321400316455697\n",
      "\n"
     ]
    },
    {
     "data": {
      "image/png": "[encoded data removed]",
      "text/plain": [
       "<matplotlib.figure.Figure at 0x1cf57e1e898>"
      ]
     },
     "metadata": {
      "image/png": {
       "height": 319,
       "width": 355
      }
     },
     "output_type": "display_data"
    }
   ],
   "source": [
    "\"\"\"\n",
    "DON'T MODIFY ANYTHING IN THIS CELL\n",
    "\"\"\"\n",
    "%matplotlib inline\n",
    "%config InlineBackend.figure_format = 'retina'\n",
    "\n",
    "import tensorflow as tf\n",
    "import pickle\n",
    "import helper\n",
    "import random\n",
    "\n",
    "# Set batch size if not already set\n",
    "try:\n",
    "    if batch_size:\n",
    "        pass\n",
    "except NameError:\n",
    "    batch_size = 64\n",
    "\n",
    "save_model_path = './image_classification'\n",
    "n_samples = 4\n",
    "top_n_predictions = 3\n",
    "\n",
    "def test_model():\n",
    "    \"\"\"\n",
    "    Test the saved model against the test dataset\n",
    "    \"\"\"\n",
    "\n",
    "    test_features, test_labels = pickle.load(open('preprocess_training.p', mode='rb'))\n",
    "    loaded_graph = tf.Graph()\n",
    "\n",
    "    with tf.Session(graph=loaded_graph) as sess:\n",
    "        # Load model\n",
    "        loader = tf.train.import_meta_graph(save_model_path + '.meta')\n",
    "        loader.restore(sess, save_model_path)\n",
    "\n",
    "        # Get Tensors from loaded model\n",
    "        loaded_x = loaded_graph.get_tensor_by_name('x:0')\n",
    "        loaded_y = loaded_graph.get_tensor_by_name('y:0')\n",
    "        loaded_keep_prob = loaded_graph.get_tensor_by_name('keep_prob:0')\n",
    "        loaded_logits = loaded_graph.get_tensor_by_name('logits:0')\n",
    "        loaded_acc = loaded_graph.get_tensor_by_name('accuracy:0')\n",
    "        \n",
    "        # Get accuracy in batches for memory limitations\n",
    "        test_batch_acc_total = 0\n",
    "        test_batch_count = 0\n",
    "        \n",
    "        for train_feature_batch, train_label_batch in helper.batch_features_labels(test_features, test_labels, batch_size):\n",
    "            test_batch_acc_total += sess.run(\n",
    "                loaded_acc,\n",
    "                feed_dict={loaded_x: train_feature_batch, loaded_y: train_label_batch, loaded_keep_prob: 1.0})\n",
    "            test_batch_count += 1\n",
    "\n",
    "        print('Testing Accuracy: {}\\n'.format(test_batch_acc_total/test_batch_count))\n",
    "\n",
    "        # Print Random Samples\n",
    "        random_test_features, random_test_labels = tuple(zip(*random.sample(list(zip(test_features, test_labels)), n_samples)))\n",
    "        random_test_predictions = sess.run(\n",
    "            tf.nn.top_k(tf.nn.softmax(loaded_logits), top_n_predictions),\n",
    "            feed_dict={loaded_x: random_test_features, loaded_y: random_test_labels, loaded_keep_prob: 1.0})\n",
    "        helper.display_image_predictions(random_test_features, random_test_labels, random_test_predictions)\n",
    "\n",
    "\n",
    "test_model()"
   ]
  },
  {
   "cell_type": "markdown",
   "metadata": {},
   "source": [
    "## Why 50-70% Accuracy?\n",
    "You might be wondering why you can't get an accuracy any higher. First things first, 50% isn't bad for a simple CNN.  Pure guessing would get you 10% accuracy. However, you might notice people are getting scores [well above 70%](http://rodrigob.github.io/are_we_there_yet/build/classification_datasets_results.html#43494641522d3130).  That's because we haven't taught you all there is to know about neural networks. We still need to cover a few more techniques.\n",
    "## Submitting This Project\n",
    "When submitting this project, make sure to run all the cells before saving the notebook.  Save the notebook file as \"dlnd_image_classification.ipynb\" and save it as a HTML file under \"File\" -> \"Download as\".  Include the \"helper.py\" and \"problem_unittests.py\" files in your submission."
   ]
  }
 ],
 "metadata": {
  "anaconda-cloud": {},
  "kernelspec": {
   "display_name": "Python [default]",
   "language": "python",
   "name": "python3"
  },
  "language_info": {
   "codemirror_mode": {
    "name": "ipython",
    "version": 3
   },
   "file_extension": ".py",
   "mimetype": "text/x-python",
   "name": "python",
   "nbconvert_exporter": "python",
   "pygments_lexer": "ipython3",
   "version": "3.5.2"
  }
 },
 "nbformat": 4,
 "nbformat_minor": 0
}
