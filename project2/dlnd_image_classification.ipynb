{
 "cells": [
  {
   "cell_type": "markdown",
   "metadata": {
    "collapsed": true
   },
   "source": [
    "# Image Classification\n",
    "In this project, you'll classify images from the [CIFAR-10 dataset](https://www.cs.toronto.edu/~kriz/cifar.html).  The dataset consists of airplanes, dogs, cats, and other objects. You'll preprocess the images, then train a convolutional neural network on all the samples. The images need to be normalized and the labels need to be one-hot encoded.  You'll get to apply what you learned and build a convolutional, max pooling, dropout, and fully connected layers.  At the end, you'll get to see your neural network's predictions on the sample images.\n",
    "## Get the Data\n",
    "Run the following cell to download the [CIFAR-10 dataset for python](https://www.cs.toronto.edu/~kriz/cifar-10-python.tar.gz)."
   ]
  },
  {
   "cell_type": "code",
   "execution_count": 3,
   "metadata": {
    "collapsed": false
   },
   "outputs": [
    {
     "name": "stderr",
     "output_type": "stream",
     "text": [
      "CIFAR-10 Dataset: 171MB [03:21, 846KB/s]                                                                               \n"
     ]
    },
    {
     "name": "stdout",
     "output_type": "stream",
     "text": [
      "All files found!\n"
     ]
    }
   ],
   "source": [
    "\"\"\"\n",
    "DON'T MODIFY ANYTHING IN THIS CELL THAT IS BELOW THIS LINE\n",
    "\"\"\"\n",
    "from urllib.request import urlretrieve\n",
    "from os.path import isfile, isdir\n",
    "from tqdm import tqdm\n",
    "import problem_unittests as tests\n",
    "import tarfile\n",
    "\n",
    "cifar10_dataset_folder_path = 'cifar-10-batches-py'\n",
    "\n",
    "class DLProgress(tqdm):\n",
    "    last_block = 0\n",
    "\n",
    "    def hook(self, block_num=1, block_size=1, total_size=None):\n",
    "        self.total = total_size\n",
    "        self.update((block_num - self.last_block) * block_size)\n",
    "        self.last_block = block_num\n",
    "\n",
    "if not isfile('cifar-10-python.tar.gz'):\n",
    "    with DLProgress(unit='B', unit_scale=True, miniters=1, desc='CIFAR-10 Dataset') as pbar:\n",
    "        urlretrieve(\n",
    "            'https://www.cs.toronto.edu/~kriz/cifar-10-python.tar.gz',\n",
    "            'cifar-10-python.tar.gz',\n",
    "            pbar.hook)\n",
    "\n",
    "if not isdir(cifar10_dataset_folder_path):\n",
    "    with tarfile.open('cifar-10-python.tar.gz') as tar:\n",
    "        tar.extractall()\n",
    "        tar.close()\n",
    "\n",
    "\n",
    "tests.test_folder_path(cifar10_dataset_folder_path)"
   ]
  },
  {
   "cell_type": "markdown",
   "metadata": {},
   "source": [
    "## Explore the Data\n",
    "The dataset is broken into batches to prevent your machine from running out of memory.  The CIFAR-10 dataset consists of 5 batches, named `data_batch_1`, `data_batch_2`, etc.. Each batch contains the labels and images that are one of the following:\n",
    "* airplane\n",
    "* automobile\n",
    "* bird\n",
    "* cat\n",
    "* deer\n",
    "* dog\n",
    "* frog\n",
    "* horse\n",
    "* ship\n",
    "* truck\n",
    "\n",
    "Understanding a dataset is part of making predictions on the data.  Play around with the code cell below by changing the `batch_id` and `sample_id`. The `batch_id` is the id for a batch (1-5). The `sample_id` is the id for a image and label pair in the batch.\n",
    "\n",
    "Ask yourself \"What are all possible labels?\", \"What is the range of values for the image data?\", \"Are the labels in order or random?\".  Answers to questions like these will help you preprocess the data and end up with better predictions."
   ]
  },
  {
   "cell_type": "code",
   "execution_count": 11,
   "metadata": {
    "collapsed": false
   },
   "outputs": [
    {
     "name": "stdout",
     "output_type": "stream",
     "text": [
      "\n",
      "Stats of batch 1:\n",
      "Samples: 10000\n",
      "Label Counts: {0: 1005, 1: 974, 2: 1032, 3: 1016, 4: 999, 5: 937, 6: 1030, 7: 1001, 8: 1025, 9: 981}\n",
      "First 20 Labels: [6, 9, 9, 4, 1, 1, 2, 7, 8, 3, 4, 7, 7, 2, 9, 9, 9, 3, 2, 6]\n",
      "\n",
      "Example of Image 5:\n",
      "Image - Min Value: 0 Max Value: 252\n",
      "Image - Shape: (32, 32, 3)\n",
      "Label - Label Id: 1 Name: automobile\n"
     ]
    },
    {
     "data": {
      "image/png": "[encoded data removed]",
      "text/plain": [
       "<matplotlib.figure.Figure at 0x1b4ac82c7f0>"
      ]
     },
     "metadata": {
      "image/png": {
       "height": 250,
       "width": 253
      }
     },
     "output_type": "display_data"
    }
   ],
   "source": [
    "%matplotlib inline\n",
    "%config InlineBackend.figure_format = 'retina'\n",
    "\n",
    "import helper\n",
    "import numpy as np\n",
    "\n",
    "# Explore the dataset\n",
    "batch_id = 1\n",
    "sample_id = 5\n",
    "helper.display_stats(cifar10_dataset_folder_path, batch_id, sample_id)"
   ]
  },
  {
   "cell_type": "markdown",
   "metadata": {},
   "source": [
    "## Implement Preprocess Functions\n",
    "### Normalize\n",
    "In the cell below, implement the `normalize` function to take in image data, `x`, and return it as a normalized Numpy array. The values should be in the range of 0 to 1, inclusive.  The return object should be the same shape as `x`."
   ]
  },
  {
   "cell_type": "code",
   "execution_count": 21,
   "metadata": {
    "collapsed": false
   },
   "outputs": [
    {
     "name": "stdout",
     "output_type": "stream",
     "text": [
      "Tests Passed\n"
     ]
    }
   ],
   "source": [
    "def normalize(x, a = 0, b = 1):\n",
    "    \"\"\"\n",
    "    Normalize a list of sample image data in the range of 0 to 1\n",
    "    : x: List of image data.  The image shape is (32, 32, 3)\n",
    "    : return: Numpy array of normalize data\n",
    "    \"\"\"\n",
    "    # TODO: Implement Function\n",
    "    x_min = np.amin(x)\n",
    "    x_max = np.amax(x)\n",
    "\n",
    "    return a + (x - x_min) * (b - a) / (x_max - x_min)\n",
    "\n",
    "\n",
    "\"\"\"\n",
    "DON'T MODIFY ANYTHING IN THIS CELL THAT IS BELOW THIS LINE\n",
    "\"\"\"\n",
    "tests.test_normalize(normalize)"
   ]
  },
  {
   "cell_type": "markdown",
   "metadata": {},
   "source": [
    "### One-hot encode\n",
    "Just like the previous code cell, you'll be implementing a function for preprocessing.  This time, you'll implement the `one_hot_encode` function. The input, `x`, are a list of labels.  Implement the function to return the list of labels as One-Hot encoded Numpy array.  The possible values for labels are 0 to 9. The one-hot encoding function should return the same encoding for each value between each call to `one_hot_encode`.  Make sure to save the map of encodings outside the function.\n",
    "\n",
    "Hint: Don't reinvent the wheel."
   ]
  },
  {
   "cell_type": "code",
   "execution_count": 75,
   "metadata": {
    "collapsed": false
   },
   "outputs": [
    {
     "name": "stdout",
     "output_type": "stream",
     "text": [
      "Tests Passed\n"
     ]
    }
   ],
   "source": [
    "from sklearn.preprocessing import LabelBinarizer\n",
    "\n",
    "enc = None\n",
    "\n",
    "def one_hot_encode(x):\n",
    "    \"\"\"\n",
    "    One hot encode a list of sample labels. Return a one-hot encoded vector for each label.\n",
    "    : x: List of sample Labels\n",
    "    : return: Numpy array of one-hot encoded labels\n",
    "    \"\"\"\n",
    "    global enc\n",
    "    # TODO: Implement Function\n",
    "    if enc == None:\n",
    "        enc = LabelBinarizer()\n",
    "        unique_values = np.unique(x)\n",
    "        enc.fit(x)\n",
    "        \n",
    "    one_hot = enc.transform(x)\n",
    "    return one_hot\n",
    "\n",
    "\n",
    "\"\"\"\n",
    "DON'T MODIFY ANYTHING IN THIS CELL THAT IS BELOW THIS LINE\n",
    "\"\"\"\n",
    "tests.test_one_hot_encode(one_hot_encode)"
   ]
  },
  {
   "cell_type": "markdown",
   "metadata": {},
   "source": [
    "### Randomize Data\n",
    "As you saw from exploring the data above, the order of the samples are randomized.  It doesn't hurt to randomize it again, but you don't need to for this dataset."
   ]
  },
  {
   "cell_type": "markdown",
   "metadata": {},
   "source": [
    "## Preprocess all the data and save it\n",
    "Running the code cell below will preprocess all the CIFAR-10 data and save it to file. The code below also uses 10% of the training data for validation."
   ]
  },
  {
   "cell_type": "code",
   "execution_count": 76,
   "metadata": {
    "collapsed": false
   },
   "outputs": [],
   "source": [
    "\"\"\"\n",
    "DON'T MODIFY ANYTHING IN THIS CELL\n",
    "\"\"\"\n",
    "# Preprocess Training, Validation, and Testing Data\n",
    "helper.preprocess_and_save_data(cifar10_dataset_folder_path, normalize, one_hot_encode)"
   ]
  },
  {
   "cell_type": "markdown",
   "metadata": {},
   "source": [
    "# Check Point\n",
    "This is your first checkpoint.  If you ever decide to come back to this notebook or have to restart the notebook, you can start from here.  The preprocessed data has been saved to disk."
   ]
  },
  {
   "cell_type": "code",
   "execution_count": 2,
   "metadata": {
    "collapsed": true
   },
   "outputs": [],
   "source": [
    "\"\"\"\n",
    "DON'T MODIFY ANYTHING IN THIS CELL\n",
    "\"\"\"\n",
    "import pickle\n",
    "import problem_unittests as tests\n",
    "import helper\n",
    "\n",
    "# Load the Preprocessed Validation data\n",
    "valid_features, valid_labels = pickle.load(open('preprocess_validation.p', mode='rb'))"
   ]
  },
  {
   "cell_type": "markdown",
   "metadata": {},
   "source": [
    "## Build the network\n",
    "For the neural network, you'll build each layer into a function.  Most of the code you've seen has been outside of functions. To test your code more thoroughly, we require that you put each layer in a function.  This allows us to give you better feedback and test for simple mistakes using our unittests before you submit your project.\n",
    "\n",
    "If you're finding it hard to dedicate enough time for this course a week, we've provided a small shortcut to this part of the project. In the next couple of problems, you'll have the option to use [TensorFlow Layers](https://www.tensorflow.org/api_docs/python/tf/layers) or [TensorFlow Layers (contrib)](https://www.tensorflow.org/api_guides/python/contrib.layers) to build each layer, except \"Convolutional & Max Pooling\" layer.  TF Layers is similar to Keras's and TFLearn's abstraction to layers, so it's easy to pickup.\n",
    "\n",
    "If you would like to get the most of this course, try to solve all the problems without TF Layers.  Let's begin!\n",
    "### Input\n",
    "The neural network needs to read the image data, one-hot encoded labels, and dropout keep probability. Implement the following functions\n",
    "* Implement `neural_net_image_input`\n",
    " * Return a [TF Placeholder](https://www.tensorflow.org/api_docs/python/tf/placeholder)\n",
    " * Set the shape using `image_shape` with batch size set to `None`.\n",
    " * Name the TensorFlow placeholder \"x\" using the TensorFlow `name` parameter in the [TF Placeholder](https://www.tensorflow.org/api_docs/python/tf/placeholder).\n",
    "* Implement `neural_net_label_input`\n",
    " * Return a [TF Placeholder](https://www.tensorflow.org/api_docs/python/tf/placeholder)\n",
    " * Set the shape using `n_classes` with batch size set to `None`.\n",
    " * Name the TensorFlow placeholder \"y\" using the TensorFlow `name` parameter in the [TF Placeholder](https://www.tensorflow.org/api_docs/python/tf/placeholder).\n",
    "* Implement `neural_net_keep_prob_input`\n",
    " * Return a [TF Placeholder](https://www.tensorflow.org/api_docs/python/tf/placeholder) for dropout keep probability.\n",
    " * Name the TensorFlow placeholder \"keep_prob\" using the TensorFlow `name` parameter in the [TF Placeholder](https://www.tensorflow.org/api_docs/python/tf/placeholder).\n",
    "\n",
    "These names will be used at the end of the project to load your saved model.\n",
    "\n",
    "Note: `None` for shapes in TensorFlow allow for a dynamic size."
   ]
  },
  {
   "cell_type": "code",
   "execution_count": 3,
   "metadata": {
    "collapsed": false
   },
   "outputs": [
    {
     "name": "stdout",
     "output_type": "stream",
     "text": [
      "Image Input Tests Passed.\n",
      "Label Input Tests Passed.\n",
      "Keep Prob Tests Passed.\n"
     ]
    }
   ],
   "source": [
    "import tensorflow as tf\n",
    "\n",
    "def neural_net_image_input(image_shape):\n",
    "    \"\"\"\n",
    "    Return a Tensor for a bach of image input\n",
    "    : image_shape: Shape of the images\n",
    "    : return: Tensor for image input.\n",
    "    \"\"\"\n",
    "    placeholder_shape = [None] + [x for x in image_shape]\n",
    "\n",
    "    return tf.placeholder(tf.float32, placeholder_shape, name=\"x\")\n",
    "\n",
    "\n",
    "def neural_net_label_input(n_classes):\n",
    "    \"\"\"\n",
    "    Return a Tensor for a batch of label input\n",
    "    : n_classes: Number of classes\n",
    "    : return: Tensor for label input.\n",
    "    \"\"\"\n",
    "    return tf.placeholder(tf.float32, [None, n_classes], name=\"y\")\n",
    "\n",
    "\n",
    "def neural_net_keep_prob_input():\n",
    "    \"\"\"\n",
    "    Return a Tensor for keep probability\n",
    "    : return: Tensor for keep probability.\n",
    "    \"\"\"\n",
    "    return tf.placeholder(tf.float32, name=\"keep_prob\")\n",
    "\n",
    "def create_weights(shape):\n",
    "    #tf.Variable(tf.random_normal(shape))\n",
    "    return tf.Variable(tf.truncated_normal(shape, stddev=0.05))\n",
    "\n",
    "def create_biases(length):\n",
    "    #tf.Variable(tf.random_normal([conv_num_outputs]))\n",
    "    return tf.Variable(tf.constant(0.05, shape=[length]))\n",
    "\n",
    "\"\"\"\n",
    "DON'T MODIFY ANYTHING IN THIS CELL THAT IS BELOW THIS LINE\n",
    "\"\"\"\n",
    "tf.reset_default_graph()\n",
    "tests.test_nn_image_inputs(neural_net_image_input)\n",
    "tests.test_nn_label_inputs(neural_net_label_input)\n",
    "tests.test_nn_keep_prob_inputs(neural_net_keep_prob_input)"
   ]
  },
  {
   "cell_type": "markdown",
   "metadata": {},
   "source": [
    "### Convolution and Max Pooling Layer\n",
    "Convolution layers have a lot of success with images. For this code cell, you should implement the function `conv2d_maxpool` to apply convolution then max pooling:\n",
    "* Create the weight and bias using `conv_ksize`, `conv_num_outputs` and the shape of `x_tensor`.\n",
    "* Apply a convolution to `x_tensor` using weight and `conv_strides`.\n",
    " * We recommend you use same padding, but you're welcome to use any padding.\n",
    "* Add bias\n",
    "* Add a nonlinear activation to the convolution.\n",
    "* Apply Max Pooling using `pool_ksize` and `pool_strides`.\n",
    " * We recommend you use same padding, but you're welcome to use any padding.\n",
    "\n",
    "Note: You **can't** use [TensorFlow Layers](https://www.tensorflow.org/api_docs/python/tf/layers) or [TensorFlow Layers (contrib)](https://www.tensorflow.org/api_guides/python/contrib.layers) for this layer.  You're free to use any TensorFlow package for all the other layers."
   ]
  },
  {
   "cell_type": "code",
   "execution_count": 4,
   "metadata": {
    "collapsed": false
   },
   "outputs": [
    {
     "name": "stdout",
     "output_type": "stream",
     "text": [
      "Tests Passed\n"
     ]
    }
   ],
   "source": [
    "def maxpool2d(x, kernel_width, kernel_height, strides_width, strides_height, padding):\n",
    "    return tf.nn.max_pool(\n",
    "        x,\n",
    "        ksize=[1, kernel_width, kernel_height, 1],\n",
    "        strides=[1, strides_width, strides_height, 1],\n",
    "        padding=padding)\n",
    "\n",
    "def conv2d_maxpool(x_tensor, conv_num_outputs, conv_ksize, conv_strides, pool_ksize, pool_strides):\n",
    "    \"\"\"\n",
    "    Apply convolution then max pooling to x_tensor\n",
    "    :param x_tensor: TensorFlow Tensor\n",
    "    :param conv_num_outputs: Number of outputs for the convolutional layer\n",
    "    :param conv_strides: Stride 2-D Tuple for convolution\n",
    "    :param pool_ksize: kernal size 2-D Tuple for pool\n",
    "    :param pool_strides: Stride 2-D Tuple for pool\n",
    "    : return: A tensor that represents convolution and max pooling of x_tensor\n",
    "    \"\"\"\n",
    "    padding = 'SAME'\n",
    "    \n",
    "    shape = [conv_ksize[0], conv_ksize[1], x_tensor.shape[3].value, conv_num_outputs]\n",
    "    \n",
    "    weights = create_weights(shape)\n",
    "    bias =  create_biases(conv_num_outputs)\n",
    "    strides = [1, conv_strides[0], conv_strides[1], 1]\n",
    "    \n",
    "    conv = tf.nn.conv2d(x_tensor, weights, strides=strides, padding = padding) + bias\n",
    "    #conv = tf.nn.bias_add(conv, bias)\n",
    "    \n",
    "    conv = tf.nn.relu(conv)\n",
    "    conv = maxpool2d(conv, pool_ksize[0], pool_ksize[1], pool_strides[0], pool_strides[1], padding)\n",
    "    \n",
    "    return conv\n",
    "\n",
    "\n",
    "\"\"\"\n",
    "DON'T MODIFY ANYTHING IN THIS CELL THAT IS BELOW THIS LINE\n",
    "\"\"\"\n",
    "tests.test_con_pool(conv2d_maxpool)"
   ]
  },
  {
   "cell_type": "markdown",
   "metadata": {},
   "source": [
    "### Flatten Layer\n",
    "Implement the `flatten` function to change the dimension of `x_tensor` from a 4-D tensor to a 2-D tensor.  The output should be the shape (*Batch Size*, *Flattened Image Size*). You can use [TensorFlow Layers](https://www.tensorflow.org/api_docs/python/tf/layers) or [TensorFlow Layers (contrib)](https://www.tensorflow.org/api_guides/python/contrib.layers) for this layer."
   ]
  },
  {
   "cell_type": "code",
   "execution_count": 5,
   "metadata": {
    "collapsed": false
   },
   "outputs": [
    {
     "name": "stdout",
     "output_type": "stream",
     "text": [
      "Tests Passed\n"
     ]
    }
   ],
   "source": [
    "def flatten(x_tensor):\n",
    "    \"\"\"\n",
    "    Flatten x_tensor to (Batch Size, Flattened Image Size)\n",
    "    : x_tensor: A tensor of size (Batch Size, ...), where ... are the image dimensions.\n",
    "    : return: A tensor of size (Batch Size, Flattened Image Size).\n",
    "    \"\"\"\n",
    "    # TODO: Implement Function\n",
    "    shape = x_tensor.get_shape()\n",
    "    num_features = shape[1:4].num_elements()\n",
    "    flat_layer = tf.reshape(x_tensor, [-1, num_features])\n",
    "    return flat_layer\n",
    "\n",
    "\n",
    "\"\"\"\n",
    "DON'T MODIFY ANYTHING IN THIS CELL THAT IS BELOW THIS LINE\n",
    "\"\"\"\n",
    "tests.test_flatten(flatten)"
   ]
  },
  {
   "cell_type": "markdown",
   "metadata": {},
   "source": [
    "### Fully-Connected Layer\n",
    "Implement the `fully_conn` function to apply a fully connected layer to `x_tensor` with the shape (*Batch Size*, *num_outputs*). You can use [TensorFlow Layers](https://www.tensorflow.org/api_docs/python/tf/layers) or [TensorFlow Layers (contrib)](https://www.tensorflow.org/api_guides/python/contrib.layers) for this layer."
   ]
  },
  {
   "cell_type": "code",
   "execution_count": 6,
   "metadata": {
    "collapsed": false
   },
   "outputs": [
    {
     "name": "stdout",
     "output_type": "stream",
     "text": [
      "Tests Passed\n"
     ]
    }
   ],
   "source": [
    "def fully_conn(x_tensor, num_outputs, use_relu=True):\n",
    "    \"\"\"\n",
    "    Apply a fully connected layer to x_tensor using weight and bias\n",
    "    : x_tensor: A 2-D tensor where the first dimension is batch size.\n",
    "    : num_outputs: The number of output that the new tensor should be.\n",
    "    : return: A 2-D tensor where the second dimension is num_outputs.\n",
    "    \"\"\"\n",
    "    # TODO: Implement Function\n",
    "    shape = [x_tensor.get_shape()[1].value, num_outputs]\n",
    "    \n",
    "    weights = create_weights(shape)\n",
    "    bias = create_biases(num_outputs)\n",
    "    \n",
    "    fc_layer = tf.matmul(x_tensor, weights) + bias\n",
    "\n",
    "    if use_relu:\n",
    "        fc_layer = tf.nn.relu(fc_layer)\n",
    "    \n",
    "    return fc_layer\n",
    "\n",
    "\n",
    "\"\"\"\n",
    "DON'T MODIFY ANYTHING IN THIS CELL THAT IS BELOW THIS LINE\n",
    "\"\"\"\n",
    "tests.test_fully_conn(fully_conn)"
   ]
  },
  {
   "cell_type": "markdown",
   "metadata": {},
   "source": [
    "### Output Layer\n",
    "Implement the `output` function to apply a fully connected layer to `x_tensor` with the shape (*Batch Size*, *num_outputs*). You can use [TensorFlow Layers](https://www.tensorflow.org/api_docs/python/tf/layers) or [TensorFlow Layers (contrib)](https://www.tensorflow.org/api_guides/python/contrib.layers) for this layer.\n",
    "\n",
    "Note: Activation, softmax, or cross entropy shouldn't be applied to this."
   ]
  },
  {
   "cell_type": "code",
   "execution_count": 7,
   "metadata": {
    "collapsed": false
   },
   "outputs": [
    {
     "name": "stdout",
     "output_type": "stream",
     "text": [
      "Tests Passed\n"
     ]
    }
   ],
   "source": [
    "def output(x_tensor, num_outputs):\n",
    "    \"\"\"\n",
    "    Apply a output layer to x_tensor using weight and bias\n",
    "    : x_tensor: A 2-D tensor where the first dimension is batch size.\n",
    "    : num_outputs: The number of output that the new tensor should be.\n",
    "    : return: A 2-D tensor where the second dimension is num_outputs.\n",
    "    \"\"\"\n",
    "    # TODO: Implement Function\n",
    "    output = fully_conn(x_tensor, num_outputs, use_relu=False)\n",
    "\n",
    "    return output\n",
    "\n",
    "\n",
    "\"\"\"\n",
    "DON'T MODIFY ANYTHING IN THIS CELL THAT IS BELOW THIS LINE\n",
    "\"\"\"\n",
    "tests.test_output(output)"
   ]
  },
  {
   "cell_type": "markdown",
   "metadata": {},
   "source": [
    "### Create Convolutional Model\n",
    "Implement the function `conv_net` to create a convolutional neural network model. The function takes in a batch of images, `x`, and outputs logits.  Use the layers you created above to create this model:\n",
    "\n",
    "* Apply 1, 2, or 3 Convolution and Max Pool layers\n",
    "* Apply a Flatten Layer\n",
    "* Apply 1, 2, or 3 Fully Connected Layers\n",
    "* Apply an Output Layer\n",
    "* Return the output\n",
    "* Apply [TensorFlow's Dropout](https://www.tensorflow.org/api_docs/python/tf/nn/dropout) to one or more layers in the model using `keep_prob`. "
   ]
  },
  {
   "cell_type": "code",
   "execution_count": 8,
   "metadata": {
    "collapsed": false
   },
   "outputs": [
    {
     "name": "stdout",
     "output_type": "stream",
     "text": [
      "Neural Network Built!\n"
     ]
    }
   ],
   "source": [
    "tf.reset_default_graph()\n",
    "\n",
    "def conv_net(x, keep_prob):\n",
    "    \"\"\"\n",
    "    Create a convolutional neural network model\n",
    "    : x: Placeholder tensor that holds image data.\n",
    "    : keep_prob: Placeholder tensor that hold dropout keep probability.\n",
    "    : return: Tensor that represents logits\n",
    "    \"\"\"\n",
    "    # TODO: Apply 1, 2, or 3 Convolution and Max Pool layers\n",
    "    #    Play around with different number of outputs, kernel size and stride\n",
    "    # Function Definition from Above:\n",
    "    #    conv2d_maxpool(x_tensor, conv_num_outputs, conv_ksize, conv_strides, pool_ksize, pool_strides)\n",
    "    conv_ksize = (5,5)\n",
    "    conv_strides = (1,1)\n",
    "    pool_ksize = (2,2)\n",
    "    pool_strides = (1,1)\n",
    "    conv_num_outputs = 16\n",
    "\n",
    "    x = conv2d_maxpool(x, conv_num_outputs, conv_ksize, conv_strides, pool_ksize, pool_strides)\n",
    "\n",
    "    conv_num_outputs = 36\n",
    "    x = conv2d_maxpool(x, conv_num_outputs, conv_ksize, conv_strides, pool_ksize, pool_strides)\n",
    "    x = tf.nn.dropout(x, keep_prob)\n",
    "\n",
    "    # TODO: Apply a Flatten Layer\n",
    "    # Function Definition from Above:\n",
    "    #   flatten(x_tensor)\n",
    "    x = flatten(x)\n",
    "    \n",
    "\n",
    "    # TODO: Apply 1, 2, or 3 Fully Connected Layers\n",
    "    #    Play around with different number of outputs\n",
    "    # Function Definition from Above:\n",
    "    #   fully_conn(x_tensor, num_outputs)\n",
    "    num_outputs = 1000\n",
    "    x = fully_conn(x, num_outputs)\n",
    "    num_outputs = 128\n",
    "    x = fully_conn(x, num_outputs)\n",
    "    x = tf.nn.dropout(x, keep_prob)\n",
    "    \n",
    "    # TODO: Apply an Output Layer\n",
    "    #    Set this to the number of classes\n",
    "    # Function Definition from Above:\n",
    "    #   output(x_tensor, num_outputs)\n",
    "    num_outputs = 10\n",
    "    x = output(x, num_outputs)\n",
    "    \n",
    "    return x\n",
    "\n",
    "\n",
    "\"\"\"\n",
    "DON'T MODIFY ANYTHING IN THIS CELL THAT IS BELOW THIS LINE\n",
    "\"\"\"\n",
    "\n",
    "##############################\n",
    "## Build the Neural Network ##\n",
    "##############################\n",
    "\n",
    "# Remove previous weights, bias, inputs, etc..\n",
    "tf.reset_default_graph()\n",
    "\n",
    "# Inputs\n",
    "x = neural_net_image_input((32, 32, 3))\n",
    "y = neural_net_label_input(10)\n",
    "keep_prob = neural_net_keep_prob_input()\n",
    "\n",
    "# Model\n",
    "logits = conv_net(x, keep_prob)\n",
    "\n",
    "# Name logits Tensor, so that is can be loaded from disk after training\n",
    "logits = tf.identity(logits, name='logits')\n",
    "\n",
    "# Loss and Optimizer\n",
    "cost = tf.reduce_mean(tf.nn.softmax_cross_entropy_with_logits(logits=logits, labels=y))\n",
    "optimizer = tf.train.AdamOptimizer().minimize(cost)\n",
    "\n",
    "# Accuracy\n",
    "correct_pred = tf.equal(tf.argmax(logits, 1), tf.argmax(y, 1))\n",
    "accuracy = tf.reduce_mean(tf.cast(correct_pred, tf.float32), name='accuracy')\n",
    "\n",
    "tests.test_conv_net(conv_net)"
   ]
  },
  {
   "cell_type": "markdown",
   "metadata": {},
   "source": [
    "## Train the Neural Network\n",
    "### Single Optimization\n",
    "Implement the function `train_neural_network` to do a single optimization.  The optimization should use `optimizer` to optimize in `session` with a `feed_dict` of the following:\n",
    "* `x` for image input\n",
    "* `y` for labels\n",
    "* `keep_prob` for keep probability for dropout\n",
    "\n",
    "This function will be called for each batch, so `tf.global_variables_initializer()` has already been called.\n",
    "\n",
    "Note: Nothing needs to be returned. This function is only optimizing the neural network."
   ]
  },
  {
   "cell_type": "code",
   "execution_count": 9,
   "metadata": {
    "collapsed": false
   },
   "outputs": [
    {
     "name": "stdout",
     "output_type": "stream",
     "text": [
      "Tests Passed\n"
     ]
    }
   ],
   "source": [
    "def train_neural_network(session, optimizer, keep_probability, feature_batch, label_batch):\n",
    "    \"\"\"\n",
    "    Optimize the session on a batch of images and labels\n",
    "    : session: Current TensorFlow session\n",
    "    : optimizer: TensorFlow optimizer function\n",
    "    : keep_probability: keep probability\n",
    "    : feature_batch: Batch of Numpy image data\n",
    "    : label_batch: Batch of Numpy label data\n",
    "    \"\"\"\n",
    "    # TODO: Implement Function\n",
    "    feed_dict_train = {x: feature_batch, y: label_batch, keep_prob: keep_probability}\n",
    "    \n",
    "    session.run(optimizer, feed_dict=feed_dict_train)\n",
    "\n",
    "\n",
    "\"\"\"\n",
    "DON'T MODIFY ANYTHING IN THIS CELL THAT IS BELOW THIS LINE\n",
    "\"\"\"\n",
    "tests.test_train_nn(train_neural_network)"
   ]
  },
  {
   "cell_type": "markdown",
   "metadata": {},
   "source": [
    "### Show Stats\n",
    "Implement the function `print_stats` to print loss and validation accuracy.  Use the global variables `valid_features` and `valid_labels` to calculate validation accuracy.  Use a keep probability of `1.0` to calculate the loss and validation accuracy."
   ]
  },
  {
   "cell_type": "code",
   "execution_count": 10,
   "metadata": {
    "collapsed": false
   },
   "outputs": [],
   "source": [
    "def print_stats(session, feature_batch, label_batch, cost, accuracy):\n",
    "    \"\"\"\n",
    "    Print information about loss and validation accuracy\n",
    "    : session: Current TensorFlow session\n",
    "    : feature_batch: Batch of Numpy image data\n",
    "    : label_batch: Batch of Numpy label data\n",
    "    : cost: TensorFlow cost function\n",
    "    : accuracy: TensorFlow accuracy function\n",
    "    \"\"\"\n",
    "    # TODO: Implement Function\n",
    "    \n",
    "    feed_dict_train = {x: valid_features, y: valid_labels, keep_prob: 1}\n",
    "    acc = session.run(accuracy, feed_dict=feed_dict_train)\n",
    "    \n",
    "    feed_dict_train = {x: feature_batch, y: label_batch, keep_prob: 1}\n",
    "    cst = session.run(cost, feed_dict=feed_dict_train)\n",
    "\n",
    "    # Message for printing.\n",
    "    msg = \"Optimization Training Accuracy: {0:>6.1%} Loss: {1:>.6f}\"\n",
    "\n",
    "    # Print it.\n",
    "    print(msg.format(acc, cst))\n"
   ]
  },
  {
   "cell_type": "markdown",
   "metadata": {},
   "source": [
    "### Hyperparameters\n",
    "Tune the following parameters:\n",
    "* Set `epochs` to the number of iterations until the network stops learning or start overfitting\n",
    "* Set `batch_size` to the highest number that your machine has memory for.  Most people set them to common sizes of memory:\n",
    " * 64\n",
    " * 128\n",
    " * 256\n",
    " * ...\n",
    "* Set `keep_probability` to the probability of keeping a node using dropout"
   ]
  },
  {
   "cell_type": "code",
   "execution_count": 11,
   "metadata": {
    "collapsed": true
   },
   "outputs": [],
   "source": [
    "# TODO: Tune Parameters\n",
    "epochs = 50\n",
    "batch_size = 128\n",
    "keep_probability = 0.5"
   ]
  },
  {
   "cell_type": "markdown",
   "metadata": {},
   "source": [
    "### Train on a Single CIFAR-10 Batch\n",
    "Instead of training the neural network on all the CIFAR-10 batches of data, let's use a single batch. This should save time while you iterate on the model to get a better accuracy.  Once the final validation accuracy is 50% or greater, run the model on all the data in the next section."
   ]
  },
  {
   "cell_type": "code",
   "execution_count": 12,
   "metadata": {
    "collapsed": false
   },
   "outputs": [
    {
     "name": "stdout",
     "output_type": "stream",
     "text": [
      "Checking the Training on a Single Batch...\n",
      "Epoch  1, CIFAR-10 Batch 1:  Optimization Training Accuracy:  34.5% Loss: 1.971251\n",
      "Epoch  2, CIFAR-10 Batch 1:  Optimization Training Accuracy:  41.3% Loss: 1.777735\n",
      "Epoch  3, CIFAR-10 Batch 1:  Optimization Training Accuracy:  45.4% Loss: 1.625786\n",
      "Epoch  4, CIFAR-10 Batch 1:  Optimization Training Accuracy:  47.1% Loss: 1.486923\n",
      "Epoch  5, CIFAR-10 Batch 1:  Optimization Training Accuracy:  48.9% Loss: 1.279565\n",
      "Epoch  6, CIFAR-10 Batch 1:  Optimization Training Accuracy:  48.2% Loss: 0.988414\n",
      "Epoch  7, CIFAR-10 Batch 1:  Optimization Training Accuracy:  50.1% Loss: 0.869982\n",
      "Epoch  8, CIFAR-10 Batch 1:  Optimization Training Accuracy:  50.6% Loss: 0.693611\n",
      "Epoch  9, CIFAR-10 Batch 1:  Optimization Training Accuracy:  52.9% Loss: 0.509951\n",
      "Epoch 10, CIFAR-10 Batch 1:  Optimization Training Accuracy:  52.3% Loss: 0.369836\n",
      "Epoch 11, CIFAR-10 Batch 1:  Optimization Training Accuracy:  50.6% Loss: 0.306073\n",
      "Epoch 12, CIFAR-10 Batch 1:  Optimization Training Accuracy:  51.8% Loss: 0.206021\n",
      "Epoch 13, CIFAR-10 Batch 1:  Optimization Training Accuracy:  49.6% Loss: 0.131579\n",
      "Epoch 14, CIFAR-10 Batch 1:  Optimization Training Accuracy:  52.6% Loss: 0.094270\n",
      "Epoch 15, CIFAR-10 Batch 1:  Optimization Training Accuracy:  51.0% Loss: 0.064562\n",
      "Epoch 16, CIFAR-10 Batch 1:  Optimization Training Accuracy:  52.5% Loss: 0.036709\n",
      "Epoch 17, CIFAR-10 Batch 1:  Optimization Training Accuracy:  52.6% Loss: 0.023515\n",
      "Epoch 18, CIFAR-10 Batch 1:  Optimization Training Accuracy:  51.4% Loss: 0.033093\n",
      "Epoch 19, CIFAR-10 Batch 1:  Optimization Training Accuracy:  50.5% Loss: 0.009017\n",
      "Epoch 20, CIFAR-10 Batch 1:  Optimization Training Accuracy:  51.1% Loss: 0.009074\n",
      "Epoch 21, CIFAR-10 Batch 1:  Optimization Training Accuracy:  52.9% Loss: 0.005112\n",
      "Epoch 22, CIFAR-10 Batch 1:  Optimization Training Accuracy:  53.2% Loss: 0.002035\n",
      "Epoch 23, CIFAR-10 Batch 1:  Optimization Training Accuracy:  52.7% Loss: 0.003049\n",
      "Epoch 24, CIFAR-10 Batch 1:  Optimization Training Accuracy:  53.1% Loss: 0.008907\n",
      "Epoch 25, CIFAR-10 Batch 1:  Optimization Training Accuracy:  52.7% Loss: 0.002423\n",
      "Epoch 26, CIFAR-10 Batch 1:  Optimization Training Accuracy:  51.8% Loss: 0.005044\n",
      "Epoch 27, CIFAR-10 Batch 1:  Optimization Training Accuracy:  53.5% Loss: 0.001022\n",
      "Epoch 28, CIFAR-10 Batch 1:  Optimization Training Accuracy:  54.2% Loss: 0.000324\n",
      "Epoch 29, CIFAR-10 Batch 1:  Optimization Training Accuracy:  52.7% Loss: 0.000668\n",
      "Epoch 30, CIFAR-10 Batch 1:  Optimization Training Accuracy:  53.2% Loss: 0.001129\n",
      "Epoch 31, CIFAR-10 Batch 1:  Optimization Training Accuracy:  54.1% Loss: 0.000166\n",
      "Epoch 32, CIFAR-10 Batch 1:  Optimization Training Accuracy:  52.7% Loss: 0.000837\n",
      "Epoch 33, CIFAR-10 Batch 1:  Optimization Training Accuracy:  53.3% Loss: 0.000298\n",
      "Epoch 34, CIFAR-10 Batch 1:  Optimization Training Accuracy:  53.7% Loss: 0.000765\n",
      "Epoch 35, CIFAR-10 Batch 1:  Optimization Training Accuracy:  53.6% Loss: 0.008946\n",
      "Epoch 36, CIFAR-10 Batch 1:  Optimization Training Accuracy:  53.5% Loss: 0.000395\n",
      "Epoch 37, CIFAR-10 Batch 1:  Optimization Training Accuracy:  54.1% Loss: 0.000159\n",
      "Epoch 38, CIFAR-10 Batch 1:  Optimization Training Accuracy:  53.1% Loss: 0.000227\n",
      "Epoch 39, CIFAR-10 Batch 1:  Optimization Training Accuracy:  54.2% Loss: 0.000776\n",
      "Epoch 40, CIFAR-10 Batch 1:  Optimization Training Accuracy:  53.2% Loss: 0.000167\n",
      "Epoch 41, CIFAR-10 Batch 1:  Optimization Training Accuracy:  53.6% Loss: 0.000061\n",
      "Epoch 42, CIFAR-10 Batch 1:  Optimization Training Accuracy:  53.2% Loss: 0.000197\n",
      "Epoch 43, CIFAR-10 Batch 1:  Optimization Training Accuracy:  53.6% Loss: 0.000019\n",
      "Epoch 44, CIFAR-10 Batch 1:  Optimization Training Accuracy:  53.0% Loss: 0.000034\n",
      "Epoch 45, CIFAR-10 Batch 1:  Optimization Training Accuracy:  53.8% Loss: 0.000068\n",
      "Epoch 46, CIFAR-10 Batch 1:  Optimization Training Accuracy:  52.7% Loss: 0.000046\n",
      "Epoch 47, CIFAR-10 Batch 1:  Optimization Training Accuracy:  51.7% Loss: 0.000944\n",
      "Epoch 48, CIFAR-10 Batch 1:  Optimization Training Accuracy:  53.9% Loss: 0.000078\n",
      "Epoch 49, CIFAR-10 Batch 1:  Optimization Training Accuracy:  49.5% Loss: 0.001293\n",
      "Epoch 50, CIFAR-10 Batch 1:  Optimization Training Accuracy:  54.3% Loss: 0.000048\n"
     ]
    }
   ],
   "source": [
    "\"\"\"\n",
    "DON'T MODIFY ANYTHING IN THIS CELL\n",
    "\"\"\"\n",
    "print('Checking the Training on a Single Batch...')\n",
    "with tf.Session() as sess:\n",
    "    # Initializing the variables\n",
    "    sess.run(tf.global_variables_initializer())\n",
    "    \n",
    "    # Training cycle\n",
    "    for epoch in range(epochs):\n",
    "        batch_i = 1\n",
    "        for batch_features, batch_labels in helper.load_preprocess_training_batch(batch_i, batch_size):\n",
    "            train_neural_network(sess, optimizer, keep_probability, batch_features, batch_labels)\n",
    "        print('Epoch {:>2}, CIFAR-10 Batch {}:  '.format(epoch + 1, batch_i), end='')\n",
    "        print_stats(sess, batch_features, batch_labels, cost, accuracy)"
   ]
  },
  {
   "cell_type": "markdown",
   "metadata": {},
   "source": [
    "### Fully Train the Model\n",
    "Now that you got a good accuracy with a single CIFAR-10 batch, try it with all five batches."
   ]
  },
  {
   "cell_type": "code",
   "execution_count": 13,
   "metadata": {
    "collapsed": false
   },
   "outputs": [
    {
     "name": "stdout",
     "output_type": "stream",
     "text": [
      "Training...\n",
      "Epoch  1, CIFAR-10 Batch 1:  Optimization Training Accuracy:  30.3% Loss: 2.041981\n",
      "Epoch  1, CIFAR-10 Batch 2:  Optimization Training Accuracy:  38.5% Loss: 1.736218\n",
      "Epoch  1, CIFAR-10 Batch 3:  Optimization Training Accuracy:  41.6% Loss: 1.474129\n",
      "Epoch  1, CIFAR-10 Batch 4:  Optimization Training Accuracy:  45.7% Loss: 1.530973\n",
      "Epoch  1, CIFAR-10 Batch 5:  Optimization Training Accuracy:  48.2% Loss: 1.506576\n",
      "Epoch  2, CIFAR-10 Batch 1:  Optimization Training Accuracy:  51.8% Loss: 1.440077\n",
      "Epoch  2, CIFAR-10 Batch 2:  Optimization Training Accuracy:  48.9% Loss: 1.329279\n",
      "Epoch  2, CIFAR-10 Batch 3:  Optimization Training Accuracy:  54.2% Loss: 0.995130\n",
      "Epoch  2, CIFAR-10 Batch 4:  Optimization Training Accuracy:  54.7% Loss: 1.147250\n",
      "Epoch  2, CIFAR-10 Batch 5:  Optimization Training Accuracy:  56.6% Loss: 1.173164\n",
      "Epoch  3, CIFAR-10 Batch 1:  Optimization Training Accuracy:  55.8% Loss: 1.150336\n",
      "Epoch  3, CIFAR-10 Batch 2:  Optimization Training Accuracy:  57.9% Loss: 0.988219\n",
      "Epoch  3, CIFAR-10 Batch 3:  Optimization Training Accuracy:  58.6% Loss: 0.825091\n",
      "Epoch  3, CIFAR-10 Batch 4:  Optimization Training Accuracy:  59.9% Loss: 0.903041\n",
      "Epoch  3, CIFAR-10 Batch 5:  Optimization Training Accuracy:  61.8% Loss: 0.833543\n",
      "Epoch  4, CIFAR-10 Batch 1:  Optimization Training Accuracy:  61.5% Loss: 0.883857\n",
      "Epoch  4, CIFAR-10 Batch 2:  Optimization Training Accuracy:  60.4% Loss: 0.727593\n",
      "Epoch  4, CIFAR-10 Batch 3:  Optimization Training Accuracy:  60.2% Loss: 0.529488\n",
      "Epoch  4, CIFAR-10 Batch 4:  Optimization Training Accuracy:  62.7% Loss: 0.571230\n",
      "Epoch  4, CIFAR-10 Batch 5:  Optimization Training Accuracy:  63.5% Loss: 0.491861\n",
      "Epoch  5, CIFAR-10 Batch 1:  Optimization Training Accuracy:  63.5% Loss: 0.688991\n",
      "Epoch  5, CIFAR-10 Batch 2:  Optimization Training Accuracy:  61.5% Loss: 0.502891\n",
      "Epoch  5, CIFAR-10 Batch 3:  Optimization Training Accuracy:  63.2% Loss: 0.344375\n",
      "Epoch  5, CIFAR-10 Batch 4:  Optimization Training Accuracy:  62.4% Loss: 0.459225\n",
      "Epoch  5, CIFAR-10 Batch 5:  Optimization Training Accuracy:  61.5% Loss: 0.295005\n",
      "Epoch  6, CIFAR-10 Batch 1:  Optimization Training Accuracy:  64.9% Loss: 0.446162\n",
      "Epoch  6, CIFAR-10 Batch 2:  Optimization Training Accuracy:  64.1% Loss: 0.439814\n",
      "Epoch  6, CIFAR-10 Batch 3:  Optimization Training Accuracy:  64.4% Loss: 0.216858\n",
      "Epoch  6, CIFAR-10 Batch 4:  Optimization Training Accuracy:  64.3% Loss: 0.268415\n",
      "Epoch  6, CIFAR-10 Batch 5:  Optimization Training Accuracy:  64.2% Loss: 0.209920\n",
      "Epoch  7, CIFAR-10 Batch 1:  Optimization Training Accuracy:  64.7% Loss: 0.228207\n",
      "Epoch  7, CIFAR-10 Batch 2:  Optimization Training Accuracy:  65.5% Loss: 0.235718\n",
      "Epoch  7, CIFAR-10 Batch 3:  Optimization Training Accuracy:  64.6% Loss: 0.175594\n",
      "Epoch  7, CIFAR-10 Batch 4:  Optimization Training Accuracy:  65.4% Loss: 0.197480\n",
      "Epoch  7, CIFAR-10 Batch 5:  Optimization Training Accuracy:  64.1% Loss: 0.128930\n",
      "Epoch  8, CIFAR-10 Batch 1:  Optimization Training Accuracy:  64.7% Loss: 0.147650\n",
      "Epoch  8, CIFAR-10 Batch 2:  Optimization Training Accuracy:  65.5% Loss: 0.144060\n",
      "Epoch  8, CIFAR-10 Batch 3:  Optimization Training Accuracy:  65.1% Loss: 0.079509\n",
      "Epoch  8, CIFAR-10 Batch 4:  Optimization Training Accuracy:  66.4% Loss: 0.174873\n",
      "Epoch  8, CIFAR-10 Batch 5:  Optimization Training Accuracy:  62.9% Loss: 0.051501\n",
      "Epoch  9, CIFAR-10 Batch 1:  Optimization Training Accuracy:  65.2% Loss: 0.062246\n",
      "Epoch  9, CIFAR-10 Batch 2:  Optimization Training Accuracy:  64.0% Loss: 0.084928\n",
      "Epoch  9, CIFAR-10 Batch 3:  Optimization Training Accuracy:  63.7% Loss: 0.039109\n",
      "Epoch  9, CIFAR-10 Batch 4:  Optimization Training Accuracy:  65.9% Loss: 0.078571\n",
      "Epoch  9, CIFAR-10 Batch 5:  Optimization Training Accuracy:  65.4% Loss: 0.038526\n",
      "Epoch 10, CIFAR-10 Batch 1:  Optimization Training Accuracy:  65.1% Loss: 0.106320\n",
      "Epoch 10, CIFAR-10 Batch 2:  Optimization Training Accuracy:  64.7% Loss: 0.052933\n",
      "Epoch 10, CIFAR-10 Batch 3:  Optimization Training Accuracy:  65.1% Loss: 0.014178\n",
      "Epoch 10, CIFAR-10 Batch 4:  Optimization Training Accuracy:  65.3% Loss: 0.039014\n",
      "Epoch 10, CIFAR-10 Batch 5:  Optimization Training Accuracy:  65.4% Loss: 0.016398\n",
      "Epoch 11, CIFAR-10 Batch 1:  Optimization Training Accuracy:  64.1% Loss: 0.062389\n",
      "Epoch 11, CIFAR-10 Batch 2:  Optimization Training Accuracy:  63.1% Loss: 0.032067\n",
      "Epoch 11, CIFAR-10 Batch 3:  Optimization Training Accuracy:  65.2% Loss: 0.010511\n",
      "Epoch 11, CIFAR-10 Batch 4:  Optimization Training Accuracy:  63.6% Loss: 0.062841\n",
      "Epoch 11, CIFAR-10 Batch 5:  Optimization Training Accuracy:  65.4% Loss: 0.013315\n",
      "Epoch 12, CIFAR-10 Batch 1:  Optimization Training Accuracy:  65.2% Loss: 0.024712\n",
      "Epoch 12, CIFAR-10 Batch 2:  Optimization Training Accuracy:  63.9% Loss: 0.044456\n",
      "Epoch 12, CIFAR-10 Batch 3:  Optimization Training Accuracy:  64.8% Loss: 0.008027\n",
      "Epoch 12, CIFAR-10 Batch 4:  Optimization Training Accuracy:  63.3% Loss: 0.040336\n",
      "Epoch 12, CIFAR-10 Batch 5:  Optimization Training Accuracy:  65.3% Loss: 0.017442\n",
      "Epoch 13, CIFAR-10 Batch 1:  Optimization Training Accuracy:  65.3% Loss: 0.009691\n",
      "Epoch 13, CIFAR-10 Batch 2:  Optimization Training Accuracy:  65.2% Loss: 0.014854\n",
      "Epoch 13, CIFAR-10 Batch 3:  Optimization Training Accuracy:  63.9% Loss: 0.002617\n",
      "Epoch 13, CIFAR-10 Batch 4:  Optimization Training Accuracy:  65.9% Loss: 0.016869\n",
      "Epoch 13, CIFAR-10 Batch 5:  Optimization Training Accuracy:  65.2% Loss: 0.007270\n",
      "Epoch 14, CIFAR-10 Batch 1:  Optimization Training Accuracy:  64.6% Loss: 0.010458\n",
      "Epoch 14, CIFAR-10 Batch 2:  Optimization Training Accuracy:  64.5% Loss: 0.013763\n",
      "Epoch 14, CIFAR-10 Batch 3:  Optimization Training Accuracy:  64.7% Loss: 0.000950\n",
      "Epoch 14, CIFAR-10 Batch 4:  Optimization Training Accuracy:  64.9% Loss: 0.009618\n",
      "Epoch 14, CIFAR-10 Batch 5:  Optimization Training Accuracy:  65.6% Loss: 0.001571\n",
      "Epoch 15, CIFAR-10 Batch 1:  Optimization Training Accuracy:  65.0% Loss: 0.009714\n",
      "Epoch 15, CIFAR-10 Batch 2:  Optimization Training Accuracy:  63.1% Loss: 0.008358\n",
      "Epoch 15, CIFAR-10 Batch 3:  Optimization Training Accuracy:  64.5% Loss: 0.000117\n",
      "Epoch 15, CIFAR-10 Batch 4:  Optimization Training Accuracy:  65.4% Loss: 0.005030\n",
      "Epoch 15, CIFAR-10 Batch 5:  Optimization Training Accuracy:  66.4% Loss: 0.001685\n",
      "Epoch 16, CIFAR-10 Batch 1:  Optimization Training Accuracy:  65.6% Loss: 0.001999\n",
      "Epoch 16, CIFAR-10 Batch 2:  Optimization Training Accuracy:  64.4% Loss: 0.006259\n",
      "Epoch 16, CIFAR-10 Batch 3:  Optimization Training Accuracy:  65.1% Loss: 0.003832\n",
      "Epoch 16, CIFAR-10 Batch 4:  Optimization Training Accuracy:  64.2% Loss: 0.010076\n",
      "Epoch 16, CIFAR-10 Batch 5:  Optimization Training Accuracy:  66.8% Loss: 0.000280\n",
      "Epoch 17, CIFAR-10 Batch 1:  Optimization Training Accuracy:  64.6% Loss: 0.001168\n",
      "Epoch 17, CIFAR-10 Batch 2:  Optimization Training Accuracy:  62.4% Loss: 0.002309\n",
      "Epoch 17, CIFAR-10 Batch 3:  Optimization Training Accuracy:  65.5% Loss: 0.000846\n",
      "Epoch 17, CIFAR-10 Batch 4:  Optimization Training Accuracy:  64.1% Loss: 0.006001\n",
      "Epoch 17, CIFAR-10 Batch 5:  Optimization Training Accuracy:  65.5% Loss: 0.003170\n",
      "Epoch 18, CIFAR-10 Batch 1:  Optimization Training Accuracy:  64.1% Loss: 0.001909\n",
      "Epoch 18, CIFAR-10 Batch 2:  Optimization Training Accuracy:  64.4% Loss: 0.001259\n",
      "Epoch 18, CIFAR-10 Batch 3:  Optimization Training Accuracy:  66.2% Loss: 0.000591\n",
      "Epoch 18, CIFAR-10 Batch 4:  Optimization Training Accuracy:  64.9% Loss: 0.001367\n",
      "Epoch 18, CIFAR-10 Batch 5:  Optimization Training Accuracy:  65.2% Loss: 0.002401\n",
      "Epoch 19, CIFAR-10 Batch 1:  Optimization Training Accuracy:  64.6% Loss: 0.000356\n",
      "Epoch 19, CIFAR-10 Batch 2:  Optimization Training Accuracy:  63.6% Loss: 0.001155\n",
      "Epoch 19, CIFAR-10 Batch 3:  Optimization Training Accuracy:  65.6% Loss: 0.000185\n",
      "Epoch 19, CIFAR-10 Batch 4:  Optimization Training Accuracy:  65.1% Loss: 0.000827\n",
      "Epoch 19, CIFAR-10 Batch 5:  Optimization Training Accuracy:  65.0% Loss: 0.000606\n",
      "Epoch 20, CIFAR-10 Batch 1:  Optimization Training Accuracy:  65.7% Loss: 0.000478\n",
      "Epoch 20, CIFAR-10 Batch 2:  Optimization Training Accuracy:  63.6% Loss: 0.000203\n",
      "Epoch 20, CIFAR-10 Batch 3:  Optimization Training Accuracy:  65.8% Loss: 0.000333\n",
      "Epoch 20, CIFAR-10 Batch 4:  Optimization Training Accuracy:  65.0% Loss: 0.000860\n",
      "Epoch 20, CIFAR-10 Batch 5:  Optimization Training Accuracy:  65.0% Loss: 0.000178\n",
      "Epoch 21, CIFAR-10 Batch 1:  Optimization Training Accuracy:  64.3% Loss: 0.000624\n",
      "Epoch 21, CIFAR-10 Batch 2:  Optimization Training Accuracy:  64.6% Loss: 0.000290\n",
      "Epoch 21, CIFAR-10 Batch 3:  Optimization Training Accuracy:  65.2% Loss: 0.000256\n",
      "Epoch 21, CIFAR-10 Batch 4:  Optimization Training Accuracy:  65.6% Loss: 0.000683\n",
      "Epoch 21, CIFAR-10 Batch 5:  Optimization Training Accuracy:  66.8% Loss: 0.000395\n",
      "Epoch 22, CIFAR-10 Batch 1:  Optimization Training Accuracy:  66.1% Loss: 0.000067\n",
      "Epoch 22, CIFAR-10 Batch 2:  Optimization Training Accuracy:  64.8% Loss: 0.000544\n",
      "Epoch 22, CIFAR-10 Batch 3:  Optimization Training Accuracy:  66.2% Loss: 0.000049\n",
      "Epoch 22, CIFAR-10 Batch 4:  Optimization Training Accuracy:  65.6% Loss: 0.000219\n",
      "Epoch 22, CIFAR-10 Batch 5:  Optimization Training Accuracy:  66.1% Loss: 0.000272\n",
      "Epoch 23, CIFAR-10 Batch 1:  Optimization Training Accuracy:  65.6% Loss: 0.019677\n",
      "Epoch 23, CIFAR-10 Batch 2:  Optimization Training Accuracy:  64.1% Loss: 0.000364\n",
      "Epoch 23, CIFAR-10 Batch 3:  Optimization Training Accuracy:  64.8% Loss: 0.000769\n",
      "Epoch 23, CIFAR-10 Batch 4:  Optimization Training Accuracy:  64.4% Loss: 0.004495\n",
      "Epoch 23, CIFAR-10 Batch 5:  Optimization Training Accuracy:  66.9% Loss: 0.000050\n",
      "Epoch 24, CIFAR-10 Batch 1:  Optimization Training Accuracy:  66.5% Loss: 0.000753\n",
      "Epoch 24, CIFAR-10 Batch 2:  Optimization Training Accuracy:  64.6% Loss: 0.001428\n",
      "Epoch 24, CIFAR-10 Batch 3:  Optimization Training Accuracy:  64.4% Loss: 0.000268\n",
      "Epoch 24, CIFAR-10 Batch 4:  Optimization Training Accuracy:  64.6% Loss: 0.002056\n",
      "Epoch 24, CIFAR-10 Batch 5:  Optimization Training Accuracy:  66.4% Loss: 0.000088\n",
      "Epoch 25, CIFAR-10 Batch 1:  Optimization Training Accuracy:  65.7% Loss: 0.000628\n",
      "Epoch 25, CIFAR-10 Batch 2:  Optimization Training Accuracy:  65.1% Loss: 0.000334\n",
      "Epoch 25, CIFAR-10 Batch 3:  Optimization Training Accuracy:  65.9% Loss: 0.000046\n",
      "Epoch 25, CIFAR-10 Batch 4:  Optimization Training Accuracy:  64.8% Loss: 0.008888\n",
      "Epoch 25, CIFAR-10 Batch 5:  Optimization Training Accuracy:  66.2% Loss: 0.000314\n",
      "Epoch 26, CIFAR-10 Batch 1:  Optimization Training Accuracy:  66.1% Loss: 0.001307\n",
      "Epoch 26, CIFAR-10 Batch 2:  Optimization Training Accuracy:  65.5% Loss: 0.000160\n",
      "Epoch 26, CIFAR-10 Batch 3:  Optimization Training Accuracy:  66.1% Loss: 0.000037\n",
      "Epoch 26, CIFAR-10 Batch 4:  Optimization Training Accuracy:  65.1% Loss: 0.000205\n",
      "Epoch 26, CIFAR-10 Batch 5:  Optimization Training Accuracy:  66.5% Loss: 0.000542\n",
      "Epoch 27, CIFAR-10 Batch 1:  Optimization Training Accuracy:  66.2% Loss: 0.000041\n",
      "Epoch 27, CIFAR-10 Batch 2:  Optimization Training Accuracy:  64.9% Loss: 0.001611\n",
      "Epoch 27, CIFAR-10 Batch 3:  Optimization Training Accuracy:  65.4% Loss: 0.000111\n",
      "Epoch 27, CIFAR-10 Batch 4:  Optimization Training Accuracy:  65.4% Loss: 0.000315\n",
      "Epoch 27, CIFAR-10 Batch 5:  Optimization Training Accuracy:  66.1% Loss: 0.000087\n",
      "Epoch 28, CIFAR-10 Batch 1:  Optimization Training Accuracy:  65.9% Loss: 0.000053\n",
      "Epoch 28, CIFAR-10 Batch 2:  Optimization Training Accuracy:  65.5% Loss: 0.001203\n",
      "Epoch 28, CIFAR-10 Batch 3:  Optimization Training Accuracy:  66.0% Loss: 0.000061\n",
      "Epoch 28, CIFAR-10 Batch 4:  Optimization Training Accuracy:  64.0% Loss: 0.000233\n",
      "Epoch 28, CIFAR-10 Batch 5:  Optimization Training Accuracy:  64.9% Loss: 0.000370\n",
      "Epoch 29, CIFAR-10 Batch 1:  Optimization Training Accuracy:  65.5% Loss: 0.000238\n",
      "Epoch 29, CIFAR-10 Batch 2:  Optimization Training Accuracy:  66.3% Loss: 0.000028\n",
      "Epoch 29, CIFAR-10 Batch 3:  Optimization Training Accuracy:  66.0% Loss: 0.000096\n",
      "Epoch 29, CIFAR-10 Batch 4:  Optimization Training Accuracy:  65.4% Loss: 0.000013\n",
      "Epoch 29, CIFAR-10 Batch 5:  Optimization Training Accuracy:  65.6% Loss: 0.000034\n",
      "Epoch 30, CIFAR-10 Batch 1:  Optimization Training Accuracy:  66.0% Loss: 0.000017\n",
      "Epoch 30, CIFAR-10 Batch 2:  Optimization Training Accuracy:  65.8% Loss: 0.000066\n",
      "Epoch 30, CIFAR-10 Batch 3:  Optimization Training Accuracy:  65.1% Loss: 0.000016\n",
      "Epoch 30, CIFAR-10 Batch 4:  Optimization Training Accuracy:  63.3% Loss: 0.000015\n",
      "Epoch 30, CIFAR-10 Batch 5:  Optimization Training Accuracy:  66.7% Loss: 0.000300\n",
      "Epoch 31, CIFAR-10 Batch 1:  Optimization Training Accuracy:  65.7% Loss: 0.000012\n",
      "Epoch 31, CIFAR-10 Batch 2:  Optimization Training Accuracy:  65.8% Loss: 0.000078\n",
      "Epoch 31, CIFAR-10 Batch 3:  Optimization Training Accuracy:  64.8% Loss: 0.000687\n",
      "Epoch 31, CIFAR-10 Batch 4:  Optimization Training Accuracy:  65.4% Loss: 0.000122\n",
      "Epoch 31, CIFAR-10 Batch 5:  Optimization Training Accuracy:  66.8% Loss: 0.000009\n",
      "Epoch 32, CIFAR-10 Batch 1:  Optimization Training Accuracy:  66.1% Loss: 0.000119\n",
      "Epoch 32, CIFAR-10 Batch 2:  Optimization Training Accuracy:  66.0% Loss: 0.000018\n",
      "Epoch 32, CIFAR-10 Batch 3:  Optimization Training Accuracy:  65.7% Loss: 0.000010\n",
      "Epoch 32, CIFAR-10 Batch 4:  Optimization Training Accuracy:  64.8% Loss: 0.000226\n",
      "Epoch 32, CIFAR-10 Batch 5:  Optimization Training Accuracy:  66.9% Loss: 0.000193\n",
      "Epoch 33, CIFAR-10 Batch 1:  Optimization Training Accuracy:  66.1% Loss: 0.000007\n",
      "Epoch 33, CIFAR-10 Batch 2:  Optimization Training Accuracy:  65.6% Loss: 0.000016\n",
      "Epoch 33, CIFAR-10 Batch 3:  Optimization Training Accuracy:  65.1% Loss: 0.000101\n",
      "Epoch 33, CIFAR-10 Batch 4:  Optimization Training Accuracy:  65.6% Loss: 0.001175\n",
      "Epoch 33, CIFAR-10 Batch 5:  Optimization Training Accuracy:  66.6% Loss: 0.001127\n",
      "Epoch 34, CIFAR-10 Batch 1:  Optimization Training Accuracy:  66.5% Loss: 0.000016\n",
      "Epoch 34, CIFAR-10 Batch 2:  Optimization Training Accuracy:  65.0% Loss: 0.000269\n",
      "Epoch 34, CIFAR-10 Batch 3:  Optimization Training Accuracy:  65.1% Loss: 0.000043\n",
      "Epoch 34, CIFAR-10 Batch 4:  Optimization Training Accuracy:  65.8% Loss: 0.000121\n",
      "Epoch 34, CIFAR-10 Batch 5:  Optimization Training Accuracy:  66.3% Loss: 0.000009\n",
      "Epoch 35, CIFAR-10 Batch 1:  Optimization Training Accuracy:  65.5% Loss: 0.000033\n",
      "Epoch 35, CIFAR-10 Batch 2:  Optimization Training Accuracy:  66.0% Loss: 0.000047\n",
      "Epoch 35, CIFAR-10 Batch 3:  Optimization Training Accuracy:  66.1% Loss: 0.000012\n",
      "Epoch 35, CIFAR-10 Batch 4:  Optimization Training Accuracy:  66.6% Loss: 0.000013\n",
      "Epoch 35, CIFAR-10 Batch 5:  Optimization Training Accuracy:  65.9% Loss: 0.001997\n",
      "Epoch 36, CIFAR-10 Batch 1:  Optimization Training Accuracy:  65.3% Loss: 0.000101\n",
      "Epoch 36, CIFAR-10 Batch 2:  Optimization Training Accuracy:  63.3% Loss: 0.068088\n",
      "Epoch 36, CIFAR-10 Batch 3:  Optimization Training Accuracy:  64.9% Loss: 0.000004\n",
      "Epoch 36, CIFAR-10 Batch 4:  Optimization Training Accuracy:  64.8% Loss: 0.001148\n",
      "Epoch 36, CIFAR-10 Batch 5:  Optimization Training Accuracy:  65.6% Loss: 0.000020\n",
      "Epoch 37, CIFAR-10 Batch 1:  Optimization Training Accuracy:  65.1% Loss: 0.000119\n",
      "Epoch 37, CIFAR-10 Batch 2:  Optimization Training Accuracy:  64.6% Loss: 0.000229\n",
      "Epoch 37, CIFAR-10 Batch 3:  Optimization Training Accuracy:  65.2% Loss: 0.000009\n",
      "Epoch 37, CIFAR-10 Batch 4:  Optimization Training Accuracy:  65.4% Loss: 0.000153\n",
      "Epoch 37, CIFAR-10 Batch 5:  Optimization Training Accuracy:  66.2% Loss: 0.000077\n",
      "Epoch 38, CIFAR-10 Batch 1:  Optimization Training Accuracy:  65.6% Loss: 0.000009\n",
      "Epoch 38, CIFAR-10 Batch 2:  Optimization Training Accuracy:  64.9% Loss: 0.000208\n",
      "Epoch 38, CIFAR-10 Batch 3:  Optimization Training Accuracy:  66.4% Loss: 0.000238\n",
      "Epoch 38, CIFAR-10 Batch 4:  Optimization Training Accuracy:  64.4% Loss: 0.000514\n",
      "Epoch 38, CIFAR-10 Batch 5:  Optimization Training Accuracy:  65.4% Loss: 0.000003\n",
      "Epoch 39, CIFAR-10 Batch 1:  Optimization Training Accuracy:  64.7% Loss: 0.000484\n",
      "Epoch 39, CIFAR-10 Batch 2:  Optimization Training Accuracy:  65.2% Loss: 0.000042\n",
      "Epoch 39, CIFAR-10 Batch 3:  Optimization Training Accuracy:  66.0% Loss: 0.000004\n",
      "Epoch 39, CIFAR-10 Batch 4:  Optimization Training Accuracy:  64.9% Loss: 0.000196\n",
      "Epoch 39, CIFAR-10 Batch 5:  Optimization Training Accuracy:  65.7% Loss: 0.000035\n",
      "Epoch 40, CIFAR-10 Batch 1:  Optimization Training Accuracy:  64.9% Loss: 0.000044\n",
      "Epoch 40, CIFAR-10 Batch 2:  Optimization Training Accuracy:  65.4% Loss: 0.000114\n",
      "Epoch 40, CIFAR-10 Batch 3:  Optimization Training Accuracy:  64.9% Loss: 0.000066\n",
      "Epoch 40, CIFAR-10 Batch 4:  Optimization Training Accuracy:  65.0% Loss: 0.000030\n",
      "Epoch 40, CIFAR-10 Batch 5:  Optimization Training Accuracy:  64.7% Loss: 0.000012\n",
      "Epoch 41, CIFAR-10 Batch 1:  Optimization Training Accuracy:  66.7% Loss: 0.000020\n",
      "Epoch 41, CIFAR-10 Batch 2:  Optimization Training Accuracy:  66.5% Loss: 0.000051\n",
      "Epoch 41, CIFAR-10 Batch 3:  Optimization Training Accuracy:  65.3% Loss: 0.000003\n",
      "Epoch 41, CIFAR-10 Batch 4:  Optimization Training Accuracy:  65.0% Loss: 0.000249\n",
      "Epoch 41, CIFAR-10 Batch 5:  Optimization Training Accuracy:  66.9% Loss: 0.000000\n",
      "Epoch 42, CIFAR-10 Batch 1:  Optimization Training Accuracy:  66.3% Loss: 0.000019\n",
      "Epoch 42, CIFAR-10 Batch 2:  Optimization Training Accuracy:  65.8% Loss: 0.000109\n",
      "Epoch 42, CIFAR-10 Batch 3:  Optimization Training Accuracy:  65.8% Loss: 0.001836\n",
      "Epoch 42, CIFAR-10 Batch 4:  Optimization Training Accuracy:  65.9% Loss: 0.000050\n",
      "Epoch 42, CIFAR-10 Batch 5:  Optimization Training Accuracy:  66.6% Loss: 0.000048\n",
      "Epoch 43, CIFAR-10 Batch 1:  Optimization Training Accuracy:  65.5% Loss: 0.000059\n",
      "Epoch 43, CIFAR-10 Batch 2:  Optimization Training Accuracy:  65.6% Loss: 0.000907\n",
      "Epoch 43, CIFAR-10 Batch 3:  Optimization Training Accuracy:  65.6% Loss: 0.000002\n",
      "Epoch 43, CIFAR-10 Batch 4:  Optimization Training Accuracy:  64.8% Loss: 0.000540\n",
      "Epoch 43, CIFAR-10 Batch 5:  Optimization Training Accuracy:  65.7% Loss: 0.000012\n",
      "Epoch 44, CIFAR-10 Batch 1:  Optimization Training Accuracy:  66.9% Loss: 0.000001\n",
      "Epoch 44, CIFAR-10 Batch 2:  Optimization Training Accuracy:  66.5% Loss: 0.000387\n",
      "Epoch 44, CIFAR-10 Batch 3:  Optimization Training Accuracy:  66.2% Loss: 0.000004\n",
      "Epoch 44, CIFAR-10 Batch 4:  Optimization Training Accuracy:  66.0% Loss: 0.000098\n",
      "Epoch 44, CIFAR-10 Batch 5:  Optimization Training Accuracy:  66.8% Loss: 0.000019\n",
      "Epoch 45, CIFAR-10 Batch 1:  Optimization Training Accuracy:  65.0% Loss: 0.000004\n",
      "Epoch 45, CIFAR-10 Batch 2:  Optimization Training Accuracy:  65.9% Loss: 0.000010\n",
      "Epoch 45, CIFAR-10 Batch 3:  Optimization Training Accuracy:  66.1% Loss: 0.000007\n",
      "Epoch 45, CIFAR-10 Batch 4:  Optimization Training Accuracy:  65.8% Loss: 0.000031\n",
      "Epoch 45, CIFAR-10 Batch 5:  Optimization Training Accuracy:  65.7% Loss: 0.000001\n",
      "Epoch 46, CIFAR-10 Batch 1:  Optimization Training Accuracy:  66.1% Loss: 0.000012\n",
      "Epoch 46, CIFAR-10 Batch 2:  Optimization Training Accuracy:  65.1% Loss: 0.000176\n",
      "Epoch 46, CIFAR-10 Batch 3:  Optimization Training Accuracy:  66.1% Loss: 0.000001\n",
      "Epoch 46, CIFAR-10 Batch 4:  Optimization Training Accuracy:  66.0% Loss: 0.000012\n",
      "Epoch 46, CIFAR-10 Batch 5:  Optimization Training Accuracy:  66.9% Loss: 0.000067\n",
      "Epoch 47, CIFAR-10 Batch 1:  Optimization Training Accuracy:  64.8% Loss: 0.000007\n",
      "Epoch 47, CIFAR-10 Batch 2:  Optimization Training Accuracy:  66.1% Loss: 0.000005\n",
      "Epoch 47, CIFAR-10 Batch 3:  Optimization Training Accuracy:  65.1% Loss: 0.000019\n",
      "Epoch 47, CIFAR-10 Batch 4:  Optimization Training Accuracy:  65.5% Loss: 0.001543\n",
      "Epoch 47, CIFAR-10 Batch 5:  Optimization Training Accuracy:  65.7% Loss: 0.000095\n",
      "Epoch 48, CIFAR-10 Batch 1:  Optimization Training Accuracy:  65.8% Loss: 0.000013\n",
      "Epoch 48, CIFAR-10 Batch 2:  Optimization Training Accuracy:  66.7% Loss: 0.000024\n",
      "Epoch 48, CIFAR-10 Batch 3:  Optimization Training Accuracy:  65.3% Loss: 0.000012\n",
      "Epoch 48, CIFAR-10 Batch 4:  Optimization Training Accuracy:  64.4% Loss: 0.000540\n",
      "Epoch 48, CIFAR-10 Batch 5:  Optimization Training Accuracy:  66.3% Loss: 0.000003\n",
      "Epoch 49, CIFAR-10 Batch 1:  Optimization Training Accuracy:  65.8% Loss: 0.000036\n",
      "Epoch 49, CIFAR-10 Batch 2:  Optimization Training Accuracy:  66.7% Loss: 0.000977\n",
      "Epoch 49, CIFAR-10 Batch 3:  Optimization Training Accuracy:  65.7% Loss: 0.000253\n",
      "Epoch 49, CIFAR-10 Batch 4:  Optimization Training Accuracy:  65.9% Loss: 0.000027\n",
      "Epoch 49, CIFAR-10 Batch 5:  Optimization Training Accuracy:  65.7% Loss: 0.000090\n",
      "Epoch 50, CIFAR-10 Batch 1:  Optimization Training Accuracy:  65.7% Loss: 0.000013\n",
      "Epoch 50, CIFAR-10 Batch 2:  Optimization Training Accuracy:  65.8% Loss: 0.000001\n",
      "Epoch 50, CIFAR-10 Batch 3:  Optimization Training Accuracy:  65.3% Loss: 0.000007\n",
      "Epoch 50, CIFAR-10 Batch 4:  Optimization Training Accuracy:  65.9% Loss: 0.000008\n",
      "Epoch 50, CIFAR-10 Batch 5:  Optimization Training Accuracy:  66.2% Loss: 0.000001\n"
     ]
    }
   ],
   "source": [
    "\"\"\"\n",
    "DON'T MODIFY ANYTHING IN THIS CELL\n",
    "\"\"\"\n",
    "save_model_path = './image_classification'\n",
    "\n",
    "print('Training...')\n",
    "with tf.Session() as sess:\n",
    "    # Initializing the variables\n",
    "    sess.run(tf.global_variables_initializer())\n",
    "    \n",
    "    # Training cycle\n",
    "    for epoch in range(epochs):\n",
    "        # Loop over all batches\n",
    "        n_batches = 5\n",
    "        for batch_i in range(1, n_batches + 1):\n",
    "            for batch_features, batch_labels in helper.load_preprocess_training_batch(batch_i, batch_size):\n",
    "                train_neural_network(sess, optimizer, keep_probability, batch_features, batch_labels)\n",
    "            print('Epoch {:>2}, CIFAR-10 Batch {}:  '.format(epoch + 1, batch_i), end='')\n",
    "            print_stats(sess, batch_features, batch_labels, cost, accuracy)\n",
    "            \n",
    "    # Save Model\n",
    "    saver = tf.train.Saver()\n",
    "    save_path = saver.save(sess, save_model_path)"
   ]
  },
  {
   "cell_type": "markdown",
   "metadata": {},
   "source": [
    "# Checkpoint\n",
    "The model has been saved to disk.\n",
    "## Test Model\n",
    "Test your model against the test dataset.  This will be your final accuracy. You should have an accuracy greater than 50%. If you don't, keep tweaking the model architecture and parameters."
   ]
  },
  {
   "cell_type": "code",
   "execution_count": 14,
   "metadata": {
    "collapsed": false
   },
   "outputs": [
    {
     "name": "stdout",
     "output_type": "stream",
     "text": [
      "Testing Accuracy: 0.656942246835443\n",
      "\n"
     ]
    },
    {
     "data": {
      "image/png": "[encoded data removed]",
      "text/plain": [
       "<matplotlib.figure.Figure at 0x17c56eb2438>"
      ]
     },
     "metadata": {
      "image/png": {
       "height": 319,
       "width": 355
      }
     },
     "output_type": "display_data"
    }
   ],
   "source": [
    "\"\"\"\n",
    "DON'T MODIFY ANYTHING IN THIS CELL\n",
    "\"\"\"\n",
    "%matplotlib inline\n",
    "%config InlineBackend.figure_format = 'retina'\n",
    "\n",
    "import tensorflow as tf\n",
    "import pickle\n",
    "import helper\n",
    "import random\n",
    "\n",
    "# Set batch size if not already set\n",
    "try:\n",
    "    if batch_size:\n",
    "        pass\n",
    "except NameError:\n",
    "    batch_size = 64\n",
    "\n",
    "save_model_path = './image_classification'\n",
    "n_samples = 4\n",
    "top_n_predictions = 3\n",
    "\n",
    "def test_model():\n",
    "    \"\"\"\n",
    "    Test the saved model against the test dataset\n",
    "    \"\"\"\n",
    "\n",
    "    test_features, test_labels = pickle.load(open('preprocess_training.p', mode='rb'))\n",
    "    loaded_graph = tf.Graph()\n",
    "\n",
    "    with tf.Session(graph=loaded_graph) as sess:\n",
    "        # Load model\n",
    "        loader = tf.train.import_meta_graph(save_model_path + '.meta')\n",
    "        loader.restore(sess, save_model_path)\n",
    "\n",
    "        # Get Tensors from loaded model\n",
    "        loaded_x = loaded_graph.get_tensor_by_name('x:0')\n",
    "        loaded_y = loaded_graph.get_tensor_by_name('y:0')\n",
    "        loaded_keep_prob = loaded_graph.get_tensor_by_name('keep_prob:0')\n",
    "        loaded_logits = loaded_graph.get_tensor_by_name('logits:0')\n",
    "        loaded_acc = loaded_graph.get_tensor_by_name('accuracy:0')\n",
    "        \n",
    "        # Get accuracy in batches for memory limitations\n",
    "        test_batch_acc_total = 0\n",
    "        test_batch_count = 0\n",
    "        \n",
    "        for train_feature_batch, train_label_batch in helper.batch_features_labels(test_features, test_labels, batch_size):\n",
    "            test_batch_acc_total += sess.run(\n",
    "                loaded_acc,\n",
    "                feed_dict={loaded_x: train_feature_batch, loaded_y: train_label_batch, loaded_keep_prob: 1.0})\n",
    "            test_batch_count += 1\n",
    "\n",
    "        print('Testing Accuracy: {}\\n'.format(test_batch_acc_total/test_batch_count))\n",
    "\n",
    "        # Print Random Samples\n",
    "        random_test_features, random_test_labels = tuple(zip(*random.sample(list(zip(test_features, test_labels)), n_samples)))\n",
    "        random_test_predictions = sess.run(\n",
    "            tf.nn.top_k(tf.nn.softmax(loaded_logits), top_n_predictions),\n",
    "            feed_dict={loaded_x: random_test_features, loaded_y: random_test_labels, loaded_keep_prob: 1.0})\n",
    "        helper.display_image_predictions(random_test_features, random_test_labels, random_test_predictions)\n",
    "\n",
    "\n",
    "test_model()"
   ]
  },
  {
   "cell_type": "markdown",
   "metadata": {},
   "source": [
    "## Why 50-70% Accuracy?\n",
    "You might be wondering why you can't get an accuracy any higher. First things first, 50% isn't bad for a simple CNN.  Pure guessing would get you 10% accuracy. However, you might notice people are getting scores [well above 70%](http://rodrigob.github.io/are_we_there_yet/build/classification_datasets_results.html#43494641522d3130).  That's because we haven't taught you all there is to know about neural networks. We still need to cover a few more techniques.\n",
    "## Submitting This Project\n",
    "When submitting this project, make sure to run all the cells before saving the notebook.  Save the notebook file as \"dlnd_image_classification.ipynb\" and save it as a HTML file under \"File\" -> \"Download as\".  Include the \"helper.py\" and \"problem_unittests.py\" files in your submission."
   ]
  }
 ],
 "metadata": {
  "anaconda-cloud": {},
  "kernelspec": {
   "display_name": "Python [default]",
   "language": "python",
   "name": "python3"
  },
  "language_info": {
   "codemirror_mode": {
    "name": "ipython",
    "version": 3
   },
   "file_extension": ".py",
   "mimetype": "text/x-python",
   "name": "python",
   "nbconvert_exporter": "python",
   "pygments_lexer": "ipython3",
   "version": "3.5.2"
  }
 },
 "nbformat": 4,
 "nbformat_minor": 0
}
