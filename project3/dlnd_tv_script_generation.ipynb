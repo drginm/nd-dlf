{
 "cells": [
  {
   "cell_type": "markdown",
   "metadata": {
    "deletable": true,
    "editable": true
   },
   "source": [
    "# TV Script Generation\n",
    "In this project, you'll generate your own [Simpsons](https://en.wikipedia.org/wiki/The_Simpsons) TV scripts using RNNs.  You'll be using part of the [Simpsons dataset](https://www.kaggle.com/wcukierski/the-simpsons-by-the-data) of scripts from 27 seasons.  The Neural Network you'll build will generate a new TV script for a scene at [Moe's Tavern](https://simpsonswiki.com/wiki/Moe's_Tavern).\n",
    "## Get the Data\n",
    "The data is already provided for you.  You'll be using a subset of the original dataset.  It consists of only the scenes in Moe's Tavern.  This doesn't include other versions of the tavern, like \"Moe's Cavern\", \"Flaming Moe's\", \"Uncle Moe's Family Feed-Bag\", etc.."
   ]
  },
  {
   "cell_type": "code",
   "execution_count": 1,
   "metadata": {
    "collapsed": false,
    "deletable": true,
    "editable": true
   },
   "outputs": [],
   "source": [
    "\"\"\"\n",
    "DON'T MODIFY ANYTHING IN THIS CELL\n",
    "\"\"\"\n",
    "import helper\n",
    "\n",
    "data_dir = './data/simpsons/moes_tavern_lines.txt'\n",
    "text = helper.load_data(data_dir)\n",
    "# Ignore notice, since we don't use it for analysing the data\n",
    "text = text[81:]"
   ]
  },
  {
   "cell_type": "markdown",
   "metadata": {
    "deletable": true,
    "editable": true
   },
   "source": [
    "## Explore the Data\n",
    "Play around with `view_sentence_range` to view different parts of the data."
   ]
  },
  {
   "cell_type": "code",
   "execution_count": 2,
   "metadata": {
    "collapsed": false,
    "deletable": true,
    "editable": true
   },
   "outputs": [
    {
     "name": "stdout",
     "output_type": "stream",
     "text": [
      "Dataset Stats\n",
      "Roughly the number of unique words: 11492\n",
      "Number of scenes: 262\n",
      "Average number of sentences in each scene: 15.251908396946565\n",
      "Number of lines: 4258\n",
      "Average number of words in each line: 11.50164396430249\n",
      "\n",
      "The sentences 100 to 110:\n",
      "Moe_Szyslak: A sneeze guard.\n",
      "Barney_Gumble: Wow, it really works.\n",
      "HARV: (CHUCKLING) I'll be back.\n",
      "Homer_Simpson: Moe, I haven't seen the place this crowded since the government cracked down on you for accepting food stamps. Do you think my drink had something to do with it?\n",
      "Moe_Szyslak: Who can say? It's probably a combination of things.\n",
      "Patron_#1: (TO MOE) Another pitcher of those amazing \"Flaming Moe's\".\n",
      "Patron_#2: Boy, I hate this joint, but I love that drink.\n",
      "Collette: Barkeep, I couldn't help noticing your sign.\n",
      "Moe_Szyslak: The one that says, \"Bartenders Do It 'Til You Barf\"?\n",
      "Collette: No, above that store-bought drollery.\n"
     ]
    }
   ],
   "source": [
    "view_sentence_range = (100, 110)\n",
    "\n",
    "\"\"\"\n",
    "DON'T MODIFY ANYTHING IN THIS CELL\n",
    "\"\"\"\n",
    "import numpy as np\n",
    "\n",
    "print('Dataset Stats')\n",
    "print('Roughly the number of unique words: {}'.format(len({word: None for word in text.split()})))\n",
    "scenes = text.split('\\n\\n')\n",
    "print('Number of scenes: {}'.format(len(scenes)))\n",
    "sentence_count_scene = [scene.count('\\n') for scene in scenes]\n",
    "print('Average number of sentences in each scene: {}'.format(np.average(sentence_count_scene)))\n",
    "\n",
    "sentences = [sentence for scene in scenes for sentence in scene.split('\\n')]\n",
    "print('Number of lines: {}'.format(len(sentences)))\n",
    "word_count_sentence = [len(sentence.split()) for sentence in sentences]\n",
    "print('Average number of words in each line: {}'.format(np.average(word_count_sentence)))\n",
    "\n",
    "print()\n",
    "print('The sentences {} to {}:'.format(*view_sentence_range))\n",
    "print('\\n'.join(text.split('\\n')[view_sentence_range[0]:view_sentence_range[1]]))"
   ]
  },
  {
   "cell_type": "markdown",
   "metadata": {
    "deletable": true,
    "editable": true
   },
   "source": [
    "## Implement Preprocessing Functions\n",
    "The first thing to do to any dataset is preprocessing.  Implement the following preprocessing functions below:\n",
    "- Lookup Table\n",
    "- Tokenize Punctuation\n",
    "\n",
    "### Lookup Table\n",
    "To create a word embedding, you first need to transform the words to ids.  In this function, create two dictionaries:\n",
    "- Dictionary to go from the words to an id, we'll call `vocab_to_int`\n",
    "- Dictionary to go from the id to word, we'll call `int_to_vocab`\n",
    "\n",
    "Return these dictionaries in the following tuple `(vocab_to_int, int_to_vocab)`"
   ]
  },
  {
   "cell_type": "code",
   "execution_count": 26,
   "metadata": {
    "collapsed": false,
    "deletable": true,
    "editable": true
   },
   "outputs": [
    {
     "name": "stdout",
     "output_type": "stream",
     "text": [
      "Tests Passed\n"
     ]
    }
   ],
   "source": [
    "import numpy as np\n",
    "import problem_unittests as tests\n",
    "from collections import Counter\n",
    "\n",
    "def create_lookup_tables(text):\n",
    "    \"\"\"\n",
    "    Create lookup tables for vocabulary\n",
    "    :param text: The text of tv scripts split into words\n",
    "    :return: A tuple of dicts (vocab_to_int, int_to_vocab)\n",
    "    \"\"\"\n",
    "    # TODO: Implement Function\n",
    "    counts = Counter(text)\n",
    "    vocab = sorted(counts, key=counts.get, reverse=True)\n",
    "    \n",
    "    vocab_to_int = {word: ii for ii, word in enumerate(vocab, 1)}\n",
    "    int_to_vocab = {ii: word for ii, word in enumerate(vocab, 1)}\n",
    "    return vocab_to_int, int_to_vocab\n",
    "\n",
    "\n",
    "\"\"\"\n",
    "DON'T MODIFY ANYTHING IN THIS CELL THAT IS BELOW THIS LINE\n",
    "\"\"\"\n",
    "tests.test_create_lookup_tables(create_lookup_tables)"
   ]
  },
  {
   "cell_type": "markdown",
   "metadata": {
    "deletable": true,
    "editable": true
   },
   "source": [
    "### Tokenize Punctuation\n",
    "We'll be splitting the script into a word array using spaces as delimiters.  However, punctuations like periods and exclamation marks make it hard for the neural network to distinguish between the word \"bye\" and \"bye!\".\n",
    "\n",
    "Implement the function `token_lookup` to return a dict that will be used to tokenize symbols like \"!\" into \"||Exclamation_Mark||\".  Create a dictionary for the following symbols where the symbol is the key and value is the token:\n",
    "- Period ( . )\n",
    "- Comma ( , )\n",
    "- Quotation Mark ( \" )\n",
    "- Semicolon ( ; )\n",
    "- Exclamation mark ( ! )\n",
    "- Question mark ( ? )\n",
    "- Left Parentheses ( ( )\n",
    "- Right Parentheses ( ) )\n",
    "- Dash ( -- )\n",
    "- Return ( \\n )\n",
    "\n",
    "This dictionary will be used to token the symbols and add the delimiter (space) around it.  This separates the symbols as it's own word, making it easier for the neural network to predict on the next word. Make sure you don't use a token that could be confused as a word. Instead of using the token \"dash\", try using something like \"||dash||\"."
   ]
  },
  {
   "cell_type": "code",
   "execution_count": 24,
   "metadata": {
    "collapsed": false,
    "deletable": true,
    "editable": true
   },
   "outputs": [
    {
     "name": "stdout",
     "output_type": "stream",
     "text": [
      "Tests Passed\n"
     ]
    }
   ],
   "source": [
    "def token_lookup():\n",
    "    \"\"\"\n",
    "    Generate a dict to turn punctuation into a token.\n",
    "    :return: Tokenize dictionary where the key is the punctuation and the value is the token\n",
    "    \"\"\"\n",
    "    # TODO: Implement Function\n",
    "    return {\n",
    "        \n",
    "    '.': \"||Period||\",\n",
    "     ',': \"||Comma||\",\n",
    "    '\"': \"||Quotation_Mark||\",\n",
    "    ';': \"||Semicolon||\",\n",
    "    '!' : \"||Exclamation_Mark||\",\n",
    "    '?' : \"||Question_mark||\",\n",
    "    '(' : \"||Left_Parentheses||\",\n",
    "    ')' : \"||Right_Parentheses||\",\n",
    "    '--' : \"||Dash||\",\n",
    "    '\\n' : \"||Return||\"\n",
    "\n",
    "    }\n",
    "\n",
    "\"\"\"\n",
    "DON'T MODIFY ANYTHING IN THIS CELL THAT IS BELOW THIS LINE\n",
    "\"\"\"\n",
    "tests.test_tokenize(token_lookup)"
   ]
  },
  {
   "cell_type": "markdown",
   "metadata": {
    "deletable": true,
    "editable": true
   },
   "source": [
    "## Preprocess all the data and save it\n",
    "Running the code cell below will preprocess all the data and save it to file."
   ]
  },
  {
   "cell_type": "code",
   "execution_count": 27,
   "metadata": {
    "collapsed": false,
    "deletable": true,
    "editable": true
   },
   "outputs": [],
   "source": [
    "\"\"\"\n",
    "DON'T MODIFY ANYTHING IN THIS CELL\n",
    "\"\"\"\n",
    "# Preprocess Training, Validation, and Testing Data\n",
    "helper.preprocess_and_save_data(data_dir, token_lookup, create_lookup_tables)"
   ]
  },
  {
   "cell_type": "markdown",
   "metadata": {
    "deletable": true,
    "editable": true
   },
   "source": [
    "# Check Point\n",
    "This is your first checkpoint. If you ever decide to come back to this notebook or have to restart the notebook, you can start from here. The preprocessed data has been saved to disk."
   ]
  },
  {
   "cell_type": "code",
   "execution_count": 28,
   "metadata": {
    "collapsed": false,
    "deletable": true,
    "editable": true
   },
   "outputs": [],
   "source": [
    "\"\"\"\n",
    "DON'T MODIFY ANYTHING IN THIS CELL\n",
    "\"\"\"\n",
    "import helper\n",
    "import numpy as np\n",
    "import problem_unittests as tests\n",
    "\n",
    "int_text, vocab_to_int, int_to_vocab, token_dict = helper.load_preprocess()"
   ]
  },
  {
   "cell_type": "markdown",
   "metadata": {
    "deletable": true,
    "editable": true
   },
   "source": [
    "## Build the Neural Network\n",
    "You'll build the components necessary to build a RNN by implementing the following functions below:\n",
    "- get_inputs\n",
    "- get_init_cell\n",
    "- get_embed\n",
    "- build_rnn\n",
    "- build_nn\n",
    "- get_batches\n",
    "\n",
    "### Check the Version of TensorFlow and Access to GPU"
   ]
  },
  {
   "cell_type": "code",
   "execution_count": 29,
   "metadata": {
    "collapsed": false
   },
   "outputs": [
    {
     "name": "stdout",
     "output_type": "stream",
     "text": [
      "TensorFlow Version: 1.0.0\n",
      "Default GPU Device: /gpu:0\n"
     ]
    }
   ],
   "source": [
    "\"\"\"\n",
    "DON'T MODIFY ANYTHING IN THIS CELL\n",
    "\"\"\"\n",
    "from distutils.version import LooseVersion\n",
    "import warnings\n",
    "import tensorflow as tf\n",
    "\n",
    "# Check TensorFlow Version\n",
    "assert LooseVersion(tf.__version__) >= LooseVersion('1.0'), 'Please use TensorFlow version 1.0 or newer'\n",
    "print('TensorFlow Version: {}'.format(tf.__version__))\n",
    "\n",
    "# Check for a GPU\n",
    "if not tf.test.gpu_device_name():\n",
    "    warnings.warn('No GPU found. Please use a GPU to train your neural network.')\n",
    "else:\n",
    "    print('Default GPU Device: {}'.format(tf.test.gpu_device_name()))"
   ]
  },
  {
   "cell_type": "markdown",
   "metadata": {},
   "source": [
    "### Input\n",
    "Implement the `get_inputs()` function to create TF Placeholders for the Neural Network.  It should create the following placeholders:\n",
    "- Input text placeholder named \"input\" using the [TF Placeholder](https://www.tensorflow.org/api_docs/python/tf/placeholder) `name` parameter.\n",
    "- Targets placeholder\n",
    "- Learning Rate placeholder\n",
    "\n",
    "Return the placeholders in the following the tuple `(Input, Targets, LearingRate)`"
   ]
  },
  {
   "cell_type": "code",
   "execution_count": 34,
   "metadata": {
    "collapsed": false,
    "deletable": true,
    "editable": true
   },
   "outputs": [
    {
     "name": "stdout",
     "output_type": "stream",
     "text": [
      "Tests Passed\n"
     ]
    }
   ],
   "source": [
    "def get_inputs():\n",
    "    \"\"\"\n",
    "    Create TF Placeholders for input, targets, and learning rate.\n",
    "    :return: Tuple (input, targets, learning rate)\n",
    "    \"\"\"\n",
    "    # TODO: Implement Function\n",
    "    input = tf.placeholder(tf.int32, [None, None], name='input')\n",
    "    targets = tf.placeholder(tf.int32, [None, None], name='targets')\n",
    "    learning_rate = tf.placeholder(tf.float32, name='learning_rate')\n",
    "    return input, targets, learning_rate\n",
    "\n",
    "\n",
    "\"\"\"\n",
    "DON'T MODIFY ANYTHING IN THIS CELL THAT IS BELOW THIS LINE\n",
    "\"\"\"\n",
    "tests.test_get_inputs(get_inputs)"
   ]
  },
  {
   "cell_type": "markdown",
   "metadata": {
    "deletable": true,
    "editable": true
   },
   "source": [
    "### Build RNN Cell and Initialize\n",
    "Stack one or more [`BasicLSTMCells`](https://www.tensorflow.org/api_docs/python/tf/contrib/rnn/BasicLSTMCell) in a [`MultiRNNCell`](https://www.tensorflow.org/api_docs/python/tf/contrib/rnn/MultiRNNCell).\n",
    "- The Rnn size should be set using `rnn_size`\n",
    "- Initalize Cell State using the MultiRNNCell's [`zero_state()`](https://www.tensorflow.org/api_docs/python/tf/contrib/rnn/MultiRNNCell#zero_state) function\n",
    "    - Apply the name \"initial_state\" to the initial state using [`tf.identity()`](https://www.tensorflow.org/api_docs/python/tf/identity)\n",
    "\n",
    "Return the cell and initial state in the following tuple `(Cell, InitialState)`"
   ]
  },
  {
   "cell_type": "code",
   "execution_count": 174,
   "metadata": {
    "collapsed": false,
    "deletable": true,
    "editable": true
   },
   "outputs": [
    {
     "name": "stdout",
     "output_type": "stream",
     "text": [
      "Tests Passed\n"
     ]
    }
   ],
   "source": [
    "def get_init_cell(batch_size, rnn_size, lstm_layers=2):\n",
    "    \"\"\"\n",
    "    Create an RNN Cell and initialize it.\n",
    "    :param batch_size: Size of batches\n",
    "    :param rnn_size: Size of RNNs\n",
    "    :return: Tuple (cell, initialize state)\n",
    "    \"\"\"\n",
    "    # TODO: Implement Function\n",
    " \n",
    "    lstm = tf.contrib.rnn.BasicLSTMCell(rnn_size)\n",
    "    \n",
    "    cell = tf.contrib.rnn.MultiRNNCell([lstm] * lstm_layers)\n",
    "    \n",
    "    initial_state = cell.zero_state(batch_size, tf.float32)\n",
    "    initial_state = tf.identity(initial_state, name=\"initial_state\")\n",
    "    return cell, initial_state\n",
    "\n",
    "\n",
    "\"\"\"\n",
    "DON'T MODIFY ANYTHING IN THIS CELL THAT IS BELOW THIS LINE\n",
    "\"\"\"\n",
    "tests.test_get_init_cell(get_init_cell)"
   ]
  },
  {
   "cell_type": "markdown",
   "metadata": {
    "deletable": true,
    "editable": true
   },
   "source": [
    "### Word Embedding\n",
    "Apply embedding to `input_data` using TensorFlow.  Return the embedded sequence."
   ]
  },
  {
   "cell_type": "code",
   "execution_count": 175,
   "metadata": {
    "collapsed": false,
    "deletable": true,
    "editable": true
   },
   "outputs": [
    {
     "name": "stdout",
     "output_type": "stream",
     "text": [
      "Tests Passed\n"
     ]
    }
   ],
   "source": [
    "def get_embed(input_data, vocab_size, embed_dim):\n",
    "    \"\"\"\n",
    "    Create embedding for <input_data>.\n",
    "    :param input_data: TF placeholder for text input.\n",
    "    :param vocab_size: Number of words in vocabulary.\n",
    "    :param embed_dim: Number of embedding dimensions\n",
    "    :return: Embedded input.\n",
    "    \"\"\"\n",
    "    # TODO: Implement Function\n",
    "    embedding = tf.Variable(tf.truncated_normal((vocab_size, embed_dim), stddev=0.05))\n",
    "    embed = tf.nn.embedding_lookup(embedding, input_data)\n",
    "    return embed\n",
    "\n",
    "\n",
    "\"\"\"\n",
    "DON'T MODIFY ANYTHING IN THIS CELL THAT IS BELOW THIS LINE\n",
    "\"\"\"\n",
    "tests.test_get_embed(get_embed)"
   ]
  },
  {
   "cell_type": "markdown",
   "metadata": {
    "deletable": true,
    "editable": true
   },
   "source": [
    "### Build RNN\n",
    "You created a RNN Cell in the `get_init_cell()` function.  Time to use the cell to create a RNN.\n",
    "- Build the RNN using the [`tf.nn.dynamic_rnn()`](https://www.tensorflow.org/api_docs/python/tf/nn/dynamic_rnn)\n",
    " - Apply the name \"final_state\" to the final state using [`tf.identity()`](https://www.tensorflow.org/api_docs/python/tf/identity)\n",
    "\n",
    "Return the outputs and final_state state in the following tuple `(Outputs, FinalState)` "
   ]
  },
  {
   "cell_type": "code",
   "execution_count": 176,
   "metadata": {
    "collapsed": false,
    "deletable": true,
    "editable": true
   },
   "outputs": [
    {
     "name": "stdout",
     "output_type": "stream",
     "text": [
      "Tests Passed\n"
     ]
    }
   ],
   "source": [
    "def build_rnn(cell, inputs):\n",
    "    \"\"\"\n",
    "    Create a RNN using a RNN Cell\n",
    "    :param cell: RNN Cell\n",
    "    :param inputs: Input text data\n",
    "    :return: Tuple (Outputs, Final State)\n",
    "    \"\"\"\n",
    "    # TODO: Implement Function\n",
    "    outputs, final_state = tf.nn.dynamic_rnn(cell, inputs, dtype=tf.float32)\n",
    "    final_state = tf.identity(final_state, name=\"final_state\")\n",
    "    return outputs, final_state\n",
    "\n",
    "\n",
    "\"\"\"\n",
    "DON'T MODIFY ANYTHING IN THIS CELL THAT IS BELOW THIS LINE\n",
    "\"\"\"\n",
    "tests.test_build_rnn(build_rnn)"
   ]
  },
  {
   "cell_type": "markdown",
   "metadata": {
    "deletable": true,
    "editable": true
   },
   "source": [
    "### Build the Neural Network\n",
    "Apply the functions you implemented above to:\n",
    "- Apply embedding to `input_data` using your `get_embed(input_data, vocab_size, embed_dim)` function.\n",
    "- Build RNN using `cell` and your `build_rnn(cell, inputs)` function.\n",
    "- Apply a fully connected layer with a linear activation and `vocab_size` as the number of outputs.\n",
    "\n",
    "Return the logits and final state in the following tuple (Logits, FinalState) "
   ]
  },
  {
   "cell_type": "code",
   "execution_count": 177,
   "metadata": {
    "collapsed": false,
    "deletable": true,
    "editable": true
   },
   "outputs": [
    {
     "name": "stdout",
     "output_type": "stream",
     "text": [
      "Tests Passed\n"
     ]
    }
   ],
   "source": [
    "embed_size = 200 \n",
    "\n",
    "def build_nn(cell, rnn_size, input_data, vocab_size):\n",
    "    \"\"\"\n",
    "    Build part of the neural network\n",
    "    :param cell: RNN cell\n",
    "    :param rnn_size: Size of rnns\n",
    "    :param input_data: Input data\n",
    "    :param vocab_size: Vocabulary size\n",
    "    :return: Tuple (Logits, FinalState)\n",
    "    \"\"\"\n",
    "    # TODO: Implement Function\n",
    "    embed = get_embed(input_data, vocab_size, embed_size)\n",
    "    outputs, final_state = build_rnn(cell, embed)\n",
    "\n",
    "    logits = tf.layers.dense(outputs, units=vocab_size)\n",
    "    '''seq_output = tf.concat(outputs, axis=1)\n",
    "    previous_shape = seq_output.shape;\n",
    "\n",
    "    output = tf.reshape(seq_output, [-1, rnn_size])\n",
    "    \n",
    "    #with tf.variable_scope('softmax'):\n",
    "    w = tf.Variable(tf.truncated_normal((rnn_size, vocab_size), stddev=0.1))\n",
    "    b = tf.Variable(tf.zeros(vocab_size))\n",
    "    \n",
    "    \n",
    "    logits = tf.matmul(output, w) + b\n",
    "    logits = tf.reshape(logits, previous_shape)'''\n",
    "    \n",
    "    return logits, final_state\n",
    "\n",
    "\n",
    "\"\"\"\n",
    "DON'T MODIFY ANYTHING IN THIS CELL THAT IS BELOW THIS LINE\n",
    "\"\"\"\n",
    "tests.test_build_nn(build_nn)"
   ]
  },
  {
   "cell_type": "markdown",
   "metadata": {
    "deletable": true,
    "editable": true
   },
   "source": [
    "### Batches\n",
    "Implement `get_batches` to create batches of input and targets using `int_text`.  The batches should be a Numpy array with the shape `(number of batches, 2, batch size, sequence length)`. Each batch contains two elements:\n",
    "- The first element is a single batch of **input** with the shape `[batch size, sequence length]`\n",
    "- The second element is a single batch of **targets** with the shape `[batch size, sequence length]`\n",
    "\n",
    "If you can't fill the last batch with enough data, drop the last batch.\n",
    "\n",
    "For exmple, `get_batches([1, 2, 3, 4, 5, 6, 7, 8, 9, 10, 11, 12, 13, 14, 15], 2, 3)` would return a Numpy array of the following:\n",
    "```\n",
    "[\n",
    "  # First Batch\n",
    "  [\n",
    "    # Batch of Input\n",
    "    [[ 1  2  3], [ 7  8  9]],\n",
    "    # Batch of targets\n",
    "    [[ 2  3  4], [ 8  9 10]]\n",
    "  ],\n",
    " \n",
    "  # Second Batch\n",
    "  [\n",
    "    # Batch of Input\n",
    "    [[ 4  5  6], [10 11 12]],\n",
    "    # Batch of targets\n",
    "    [[ 5  6  7], [11 12 13]]\n",
    "  ]\n",
    "]\n",
    "```"
   ]
  },
  {
   "cell_type": "code",
   "execution_count": 178,
   "metadata": {
    "collapsed": false,
    "deletable": true,
    "editable": true
   },
   "outputs": [
    {
     "name": "stdout",
     "output_type": "stream",
     "text": [
      "[[[[ 1  2  3]\n",
      "   [ 7  8  9]]\n",
      "\n",
      "  [[ 2  3  4]\n",
      "   [ 8  9 10]]]\n",
      "\n",
      "\n",
      " [[[ 4  5  6]\n",
      "   [10 11 12]]\n",
      "\n",
      "  [[ 5  6  7]\n",
      "   [11 12 13]]]]\n",
      "Tests Passed\n"
     ]
    }
   ],
   "source": [
    "def get_batches(int_text, batch_size, seq_length):\n",
    "    \"\"\"\n",
    "    Return batches of input and target\n",
    "    :param int_text: Text with the words replaced by their ids\n",
    "    :param batch_size: The size of batch\n",
    "    :param seq_length: The length of sequence\n",
    "    :return: Batches as a Numpy array\n",
    "    \"\"\"\n",
    "    # TODO: Implement Function\n",
    "    n_batches = int(len(int_text) / (batch_size * seq_length))\n",
    "\n",
    "    # Drop the last few characters to make only full batches\n",
    "    input_data = np.array(int_text[: n_batches * batch_size * seq_length])\n",
    "    target_data = np.array(int_text[1: n_batches * batch_size * seq_length + 1])\n",
    "\n",
    "    #n_batches,batch_size,seq_length\n",
    "    input_batches = np.split(input_data.reshape(batch_size, -1), n_batches, 1)\n",
    "    #n_batches,batch_size,seq_length\n",
    "    target__batches = np.split(target_data.reshape(batch_size, -1), n_batches, 1)\n",
    "\n",
    "    #n_batches,2,batch_size,seq_length\n",
    "    batches = []\n",
    "\n",
    "    for batch_index in range(0, n_batches):\n",
    "        batches.append([input_batches[batch_index], target__batches[batch_index]])\n",
    "    \n",
    "    return np.array(batches)\n",
    "\n",
    "print(get_batches([1, 2, 3, 4, 5, 6, 7, 8, 9, 10, 11, 12, 13, 14, 15], 2, 3) )\n",
    "\"\"\"\n",
    "DON'T MODIFY ANYTHING IN THIS CELL THAT IS BELOW THIS LINE\n",
    "\"\"\"\n",
    "tests.test_get_batches(get_batches)"
   ]
  },
  {
   "cell_type": "markdown",
   "metadata": {
    "deletable": true,
    "editable": true
   },
   "source": [
    "## Neural Network Training\n",
    "### Hyperparameters\n",
    "Tune the following parameters:\n",
    "\n",
    "- Set `num_epochs` to the number of epochs.\n",
    "- Set `batch_size` to the batch size.\n",
    "- Set `rnn_size` to the size of the RNNs.\n",
    "- Set `seq_length` to the length of sequence.\n",
    "- Set `learning_rate` to the learning rate.\n",
    "- Set `show_every_n_batches` to the number of batches the neural network should print progress."
   ]
  },
  {
   "cell_type": "code",
   "execution_count": 209,
   "metadata": {
    "collapsed": false,
    "deletable": true,
    "editable": true
   },
   "outputs": [],
   "source": [
    "# Number of Epochs\n",
    "num_epochs = 20\n",
    "# Batch Size\n",
    "batch_size = 50\n",
    "# RNN Size\n",
    "rnn_size = 20\n",
    "# Sequence Length\n",
    "seq_length = 10\n",
    "# Learning Rate\n",
    "learning_rate = 0.001\n",
    "# Show stats for every n number of batches\n",
    "show_every_n_batches = 10\n",
    "\n",
    "\"\"\"\n",
    "DON'T MODIFY ANYTHING IN THIS CELL THAT IS BELOW THIS LINE\n",
    "\"\"\"\n",
    "save_dir = './save'"
   ]
  },
  {
   "cell_type": "markdown",
   "metadata": {
    "deletable": true,
    "editable": true
   },
   "source": [
    "### Build the Graph\n",
    "Build the graph using the neural network you implemented."
   ]
  },
  {
   "cell_type": "code",
   "execution_count": 210,
   "metadata": {
    "collapsed": false,
    "deletable": true,
    "editable": true
   },
   "outputs": [],
   "source": [
    "\"\"\"\n",
    "DON'T MODIFY ANYTHING IN THIS CELL\n",
    "\"\"\"\n",
    "from tensorflow.contrib import seq2seq\n",
    "\n",
    "train_graph = tf.Graph()\n",
    "with train_graph.as_default():\n",
    "    vocab_size = len(int_to_vocab)\n",
    "    input_text, targets, lr = get_inputs()\n",
    "    input_data_shape = tf.shape(input_text)\n",
    "    cell, initial_state = get_init_cell(input_data_shape[0], rnn_size)\n",
    "    logits, final_state = build_nn(cell, rnn_size, input_text, vocab_size)\n",
    "\n",
    "    # Probabilities for generating words\n",
    "    probs = tf.nn.softmax(logits, name='probs')\n",
    "\n",
    "    # Loss function\n",
    "    cost = seq2seq.sequence_loss(\n",
    "        logits,\n",
    "        targets,\n",
    "        tf.ones([input_data_shape[0], input_data_shape[1]]))\n",
    "\n",
    "    # Optimizer\n",
    "    optimizer = tf.train.AdamOptimizer(lr)\n",
    "\n",
    "    # Gradient Clipping\n",
    "    gradients = optimizer.compute_gradients(cost)\n",
    "    capped_gradients = [(tf.clip_by_value(grad, -1., 1.), var) for grad, var in gradients]\n",
    "    train_op = optimizer.apply_gradients(capped_gradients)"
   ]
  },
  {
   "cell_type": "markdown",
   "metadata": {
    "deletable": true,
    "editable": true
   },
   "source": [
    "## Train\n",
    "Train the neural network on the preprocessed data.  If you have a hard time getting a good loss, check the [forms](https://discussions.udacity.com/) to see if anyone is having the same problem."
   ]
  },
  {
   "cell_type": "code",
   "execution_count": 211,
   "metadata": {
    "collapsed": false,
    "deletable": true,
    "editable": true
   },
   "outputs": [
    {
     "name": "stdout",
     "output_type": "stream",
     "text": [
      "Epoch   0 Batch    0/138   train_loss = 8.822\n",
      "Epoch   0 Batch   10/138   train_loss = 8.804\n",
      "Epoch   0 Batch   20/138   train_loss = 8.760\n",
      "Epoch   0 Batch   30/138   train_loss = 8.602\n",
      "Epoch   0 Batch   40/138   train_loss = 8.320\n",
      "Epoch   0 Batch   50/138   train_loss = 7.952\n",
      "Epoch   0 Batch   60/138   train_loss = nan\n",
      "Epoch   0 Batch   70/138   train_loss = 7.482\n",
      "Epoch   0 Batch   80/138   train_loss = 7.502\n",
      "Epoch   0 Batch   90/138   train_loss = 7.430\n",
      "Epoch   0 Batch  100/138   train_loss = 7.460\n",
      "Epoch   0 Batch  110/138   train_loss = 7.419\n",
      "Epoch   0 Batch  120/138   train_loss = 7.343\n",
      "Epoch   0 Batch  130/138   train_loss = 7.413\n",
      "Epoch   1 Batch    2/138   train_loss = 7.229\n",
      "Epoch   1 Batch   12/138   train_loss = 7.140\n",
      "Epoch   1 Batch   22/138   train_loss = 7.222\n",
      "Epoch   1 Batch   32/138   train_loss = 7.120\n",
      "Epoch   1 Batch   42/138   train_loss = 7.018\n",
      "Epoch   1 Batch   52/138   train_loss = 7.013\n",
      "Epoch   1 Batch   62/138   train_loss = 7.071\n",
      "Epoch   1 Batch   72/138   train_loss = 6.961\n",
      "Epoch   1 Batch   82/138   train_loss = 7.161\n",
      "Epoch   1 Batch   92/138   train_loss = 7.019\n",
      "Epoch   1 Batch  102/138   train_loss = 7.066\n",
      "Epoch   1 Batch  112/138   train_loss = 7.008\n",
      "Epoch   1 Batch  122/138   train_loss = 6.922\n",
      "Epoch   1 Batch  132/138   train_loss = 6.869\n",
      "Epoch   2 Batch    4/138   train_loss = 6.989\n",
      "Epoch   2 Batch   14/138   train_loss = 6.800\n",
      "Epoch   2 Batch   24/138   train_loss = 6.759\n",
      "Epoch   2 Batch   34/138   train_loss = 6.691\n",
      "Epoch   2 Batch   44/138   train_loss = 6.733\n",
      "Epoch   2 Batch   54/138   train_loss = 6.792\n",
      "Epoch   2 Batch   64/138   train_loss = 6.759\n",
      "Epoch   2 Batch   74/138   train_loss = 6.655\n",
      "Epoch   2 Batch   84/138   train_loss = 6.766\n",
      "Epoch   2 Batch   94/138   train_loss = 6.722\n",
      "Epoch   2 Batch  104/138   train_loss = 6.778\n",
      "Epoch   2 Batch  114/138   train_loss = 6.717\n",
      "Epoch   2 Batch  124/138   train_loss = 6.637\n",
      "Epoch   2 Batch  134/138   train_loss = 6.608\n",
      "Epoch   3 Batch    6/138   train_loss = 6.586\n",
      "Epoch   3 Batch   16/138   train_loss = 6.553\n",
      "Epoch   3 Batch   26/138   train_loss = 6.375\n",
      "Epoch   3 Batch   36/138   train_loss = 6.623\n",
      "Epoch   3 Batch   46/138   train_loss = 6.581\n",
      "Epoch   3 Batch   56/138   train_loss = 6.713\n",
      "Epoch   3 Batch   66/138   train_loss = 6.495\n",
      "Epoch   3 Batch   76/138   train_loss = 6.586\n",
      "Epoch   3 Batch   86/138   train_loss = 6.670\n",
      "Epoch   3 Batch   96/138   train_loss = 6.470\n",
      "Epoch   3 Batch  106/138   train_loss = 6.477\n",
      "Epoch   3 Batch  116/138   train_loss = 6.533\n",
      "Epoch   3 Batch  126/138   train_loss = 6.370\n",
      "Epoch   3 Batch  136/138   train_loss = 6.631\n",
      "Epoch   4 Batch    8/138   train_loss = 6.387\n",
      "Epoch   4 Batch   18/138   train_loss = 6.341\n",
      "Epoch   4 Batch   28/138   train_loss = 6.185\n",
      "Epoch   4 Batch   38/138   train_loss = 6.282\n",
      "Epoch   4 Batch   48/138   train_loss = 6.551\n",
      "Epoch   4 Batch   58/138   train_loss = 6.519\n",
      "Epoch   4 Batch   68/138   train_loss = 6.503\n",
      "Epoch   4 Batch   78/138   train_loss = 6.438\n",
      "Epoch   4 Batch   88/138   train_loss = 6.648\n",
      "Epoch   4 Batch   98/138   train_loss = 6.432\n",
      "Epoch   4 Batch  108/138   train_loss = 6.390\n",
      "Epoch   4 Batch  118/138   train_loss = 6.533\n",
      "Epoch   4 Batch  128/138   train_loss = 6.348\n",
      "Epoch   5 Batch    0/138   train_loss = 6.525\n",
      "Epoch   5 Batch   10/138   train_loss = 6.303\n",
      "Epoch   5 Batch   20/138   train_loss = 6.302\n",
      "Epoch   5 Batch   30/138   train_loss = 6.270\n",
      "Epoch   5 Batch   40/138   train_loss = 6.391\n",
      "Epoch   5 Batch   50/138   train_loss = 6.417\n",
      "Epoch   5 Batch   60/138   train_loss = nan\n",
      "Epoch   5 Batch   70/138   train_loss = 6.371\n",
      "Epoch   5 Batch   80/138   train_loss = 6.258\n",
      "Epoch   5 Batch   90/138   train_loss = 6.352\n",
      "Epoch   5 Batch  100/138   train_loss = 6.398\n",
      "Epoch   5 Batch  110/138   train_loss = 6.396\n",
      "Epoch   5 Batch  120/138   train_loss = 6.358\n",
      "Epoch   5 Batch  130/138   train_loss = 6.527\n",
      "Epoch   6 Batch    2/138   train_loss = 6.244\n",
      "Epoch   6 Batch   12/138   train_loss = 6.166\n",
      "Epoch   6 Batch   22/138   train_loss = 6.384\n",
      "Epoch   6 Batch   32/138   train_loss = 6.241\n",
      "Epoch   6 Batch   42/138   train_loss = 6.110\n",
      "Epoch   6 Batch   52/138   train_loss = 6.123\n",
      "Epoch   6 Batch   62/138   train_loss = 6.234\n",
      "Epoch   6 Batch   72/138   train_loss = 6.122\n",
      "Epoch   6 Batch   82/138   train_loss = 6.443\n",
      "Epoch   6 Batch   92/138   train_loss = 6.349\n",
      "Epoch   6 Batch  102/138   train_loss = 6.477\n",
      "Epoch   6 Batch  112/138   train_loss = 6.390\n",
      "Epoch   6 Batch  122/138   train_loss = 6.244\n",
      "Epoch   6 Batch  132/138   train_loss = 6.210\n",
      "Epoch   7 Batch    4/138   train_loss = 6.434\n",
      "Epoch   7 Batch   14/138   train_loss = 6.234\n",
      "Epoch   7 Batch   24/138   train_loss = 6.217\n",
      "Epoch   7 Batch   34/138   train_loss = 6.141\n",
      "Epoch   7 Batch   44/138   train_loss = 6.225\n",
      "Epoch   7 Batch   54/138   train_loss = 6.343\n",
      "Epoch   7 Batch   64/138   train_loss = 6.296\n",
      "Epoch   7 Batch   74/138   train_loss = 6.198\n",
      "Epoch   7 Batch   84/138   train_loss = 6.360\n",
      "Epoch   7 Batch   94/138   train_loss = 6.303\n",
      "Epoch   7 Batch  104/138   train_loss = 6.431\n",
      "Epoch   7 Batch  114/138   train_loss = 6.367\n",
      "Epoch   7 Batch  124/138   train_loss = 6.269\n",
      "Epoch   7 Batch  134/138   train_loss = 6.227\n",
      "Epoch   8 Batch    6/138   train_loss = 6.259\n",
      "Epoch   8 Batch   16/138   train_loss = 6.214\n",
      "Epoch   8 Batch   26/138   train_loss = 6.039\n",
      "Epoch   8 Batch   36/138   train_loss = 6.368\n",
      "Epoch   8 Batch   46/138   train_loss = 6.263\n",
      "Epoch   8 Batch   56/138   train_loss = 6.410\n",
      "Epoch   8 Batch   66/138   train_loss = 6.242\n",
      "Epoch   8 Batch   76/138   train_loss = 6.324\n",
      "Epoch   8 Batch   86/138   train_loss = 6.396\n",
      "Epoch   8 Batch   96/138   train_loss = 6.173\n",
      "Epoch   8 Batch  106/138   train_loss = 6.224\n",
      "Epoch   8 Batch  116/138   train_loss = 6.234\n",
      "Epoch   8 Batch  126/138   train_loss = 6.111\n",
      "Epoch   8 Batch  136/138   train_loss = 6.363\n",
      "Epoch   9 Batch    8/138   train_loss = 6.126\n",
      "Epoch   9 Batch   18/138   train_loss = 6.119\n",
      "Epoch   9 Batch   28/138   train_loss = 5.914\n",
      "Epoch   9 Batch   38/138   train_loss = 6.053\n",
      "Epoch   9 Batch   48/138   train_loss = 6.316\n",
      "Epoch   9 Batch   58/138   train_loss = 6.306\n",
      "Epoch   9 Batch   68/138   train_loss = 6.287\n",
      "Epoch   9 Batch   78/138   train_loss = 6.223\n",
      "Epoch   9 Batch   88/138   train_loss = 6.452\n",
      "Epoch   9 Batch   98/138   train_loss = 6.212\n",
      "Epoch   9 Batch  108/138   train_loss = 6.194\n",
      "Epoch   9 Batch  118/138   train_loss = 6.316\n",
      "Epoch   9 Batch  128/138   train_loss = 6.168\n",
      "Epoch  10 Batch    0/138   train_loss = 6.326\n",
      "Epoch  10 Batch   10/138   train_loss = 6.086\n",
      "Epoch  10 Batch   20/138   train_loss = 6.078\n",
      "Epoch  10 Batch   30/138   train_loss = 6.092\n",
      "Epoch  10 Batch   40/138   train_loss = 6.244\n",
      "Epoch  10 Batch   50/138   train_loss = 6.235\n",
      "Epoch  10 Batch   60/138   train_loss = nan\n",
      "Epoch  10 Batch   70/138   train_loss = 6.195\n",
      "Epoch  10 Batch   80/138   train_loss = 6.098\n",
      "Epoch  10 Batch   90/138   train_loss = 6.197\n",
      "Epoch  10 Batch  100/138   train_loss = 6.231\n",
      "Epoch  10 Batch  110/138   train_loss = 6.230\n",
      "Epoch  10 Batch  120/138   train_loss = 6.204\n",
      "Epoch  10 Batch  130/138   train_loss = 6.356\n",
      "Epoch  11 Batch    2/138   train_loss = 6.081\n",
      "Epoch  11 Batch   12/138   train_loss = 6.001\n",
      "Epoch  11 Batch   22/138   train_loss = 6.262\n",
      "Epoch  11 Batch   32/138   train_loss = 6.095\n",
      "Epoch  11 Batch   42/138   train_loss = 5.965\n",
      "Epoch  11 Batch   52/138   train_loss = 5.981\n",
      "Epoch  11 Batch   62/138   train_loss = 6.091\n",
      "Epoch  11 Batch   72/138   train_loss = 5.976\n",
      "Epoch  11 Batch   82/138   train_loss = 6.318\n",
      "Epoch  11 Batch   92/138   train_loss = 6.226\n",
      "Epoch  11 Batch  102/138   train_loss = 6.357\n",
      "Epoch  11 Batch  112/138   train_loss = 6.275\n",
      "Epoch  11 Batch  122/138   train_loss = 6.116\n",
      "Epoch  11 Batch  132/138   train_loss = 6.084\n",
      "Epoch  12 Batch    4/138   train_loss = 6.304\n",
      "Epoch  12 Batch   14/138   train_loss = 6.103\n",
      "Epoch  12 Batch   24/138   train_loss = 6.102\n",
      "Epoch  12 Batch   34/138   train_loss = 6.024\n",
      "Epoch  12 Batch   44/138   train_loss = 6.113\n",
      "Epoch  12 Batch   54/138   train_loss = 6.231\n",
      "Epoch  12 Batch   64/138   train_loss = 6.178\n",
      "Epoch  12 Batch   74/138   train_loss = 6.087\n",
      "Epoch  12 Batch   84/138   train_loss = 6.259\n",
      "Epoch  12 Batch   94/138   train_loss = 6.196\n",
      "Epoch  12 Batch  104/138   train_loss = 6.329\n",
      "Epoch  12 Batch  114/138   train_loss = 6.273\n",
      "Epoch  12 Batch  124/138   train_loss = 6.170\n",
      "Epoch  12 Batch  134/138   train_loss = 6.129\n",
      "Epoch  13 Batch    6/138   train_loss = 6.161\n",
      "Epoch  13 Batch   16/138   train_loss = 6.110\n",
      "Epoch  13 Batch   26/138   train_loss = 5.944\n",
      "Epoch  13 Batch   36/138   train_loss = 6.290\n",
      "Epoch  13 Batch   46/138   train_loss = 6.162\n",
      "Epoch  13 Batch   56/138   train_loss = 6.300\n",
      "Epoch  13 Batch   66/138   train_loss = 6.158\n",
      "Epoch  13 Batch   76/138   train_loss = 6.235\n",
      "Epoch  13 Batch   86/138   train_loss = 6.318\n",
      "Epoch  13 Batch   96/138   train_loss = 6.082\n",
      "Epoch  13 Batch  106/138   train_loss = 6.134\n",
      "Epoch  13 Batch  116/138   train_loss = 6.147\n",
      "Epoch  13 Batch  126/138   train_loss = 6.022\n",
      "Epoch  13 Batch  136/138   train_loss = 6.269\n",
      "Epoch  14 Batch    8/138   train_loss = 6.041\n",
      "Epoch  14 Batch   18/138   train_loss = 6.031\n",
      "Epoch  14 Batch   28/138   train_loss = 5.823\n",
      "Epoch  14 Batch   38/138   train_loss = 5.971\n",
      "Epoch  14 Batch   48/138   train_loss = 6.228\n",
      "Epoch  14 Batch   58/138   train_loss = 6.232\n",
      "Epoch  14 Batch   68/138   train_loss = 6.200\n",
      "Epoch  14 Batch   78/138   train_loss = 6.137\n",
      "Epoch  14 Batch   88/138   train_loss = 6.376\n",
      "Epoch  14 Batch   98/138   train_loss = 6.126\n",
      "Epoch  14 Batch  108/138   train_loss = 6.117\n",
      "Epoch  14 Batch  118/138   train_loss = 6.230\n",
      "Epoch  14 Batch  128/138   train_loss = 6.097\n",
      "Epoch  15 Batch    0/138   train_loss = 6.249\n",
      "Epoch  15 Batch   10/138   train_loss = 5.999\n",
      "Epoch  15 Batch   20/138   train_loss = 5.989\n",
      "Epoch  15 Batch   30/138   train_loss = 6.025\n",
      "Epoch  15 Batch   40/138   train_loss = 6.181\n",
      "Epoch  15 Batch   50/138   train_loss = 6.160\n",
      "Epoch  15 Batch   60/138   train_loss = nan\n",
      "Epoch  15 Batch   70/138   train_loss = 6.123\n",
      "Epoch  15 Batch   80/138   train_loss = 6.026\n",
      "Epoch  15 Batch   90/138   train_loss = 6.128\n",
      "Epoch  15 Batch  100/138   train_loss = 6.159\n",
      "Epoch  15 Batch  110/138   train_loss = 6.167\n",
      "Epoch  15 Batch  120/138   train_loss = 6.135\n",
      "Epoch  15 Batch  130/138   train_loss = 6.294\n",
      "Epoch  16 Batch    2/138   train_loss = 6.009\n",
      "Epoch  16 Batch   12/138   train_loss = 5.925\n",
      "Epoch  16 Batch   22/138   train_loss = 6.203\n",
      "Epoch  16 Batch   32/138   train_loss = 6.031\n",
      "Epoch  16 Batch   42/138   train_loss = 5.897\n",
      "Epoch  16 Batch   52/138   train_loss = 5.916\n",
      "Epoch  16 Batch   62/138   train_loss = 6.018\n",
      "Epoch  16 Batch   72/138   train_loss = 5.911\n",
      "Epoch  16 Batch   82/138   train_loss = 6.258\n",
      "Epoch  16 Batch   92/138   train_loss = 6.162\n",
      "Epoch  16 Batch  102/138   train_loss = 6.294\n",
      "Epoch  16 Batch  112/138   train_loss = 6.217\n",
      "Epoch  16 Batch  122/138   train_loss = 6.056\n",
      "Epoch  16 Batch  132/138   train_loss = 6.027\n",
      "Epoch  17 Batch    4/138   train_loss = 6.241\n",
      "Epoch  17 Batch   14/138   train_loss = 6.038\n",
      "Epoch  17 Batch   24/138   train_loss = 6.045\n",
      "Epoch  17 Batch   34/138   train_loss = 5.970\n",
      "Epoch  17 Batch   44/138   train_loss = 6.062\n",
      "Epoch  17 Batch   54/138   train_loss = 6.173\n",
      "Epoch  17 Batch   64/138   train_loss = 6.115\n",
      "Epoch  17 Batch   74/138   train_loss = 6.024\n",
      "Epoch  17 Batch   84/138   train_loss = 6.207\n",
      "Epoch  17 Batch   94/138   train_loss = 6.140\n",
      "Epoch  17 Batch  104/138   train_loss = 6.268\n",
      "Epoch  17 Batch  114/138   train_loss = 6.219\n",
      "Epoch  17 Batch  124/138   train_loss = 6.116\n",
      "Epoch  17 Batch  134/138   train_loss = 6.079\n",
      "Epoch  18 Batch    6/138   train_loss = 6.111\n",
      "Epoch  18 Batch   16/138   train_loss = 6.055\n",
      "Epoch  18 Batch   26/138   train_loss = 5.887\n",
      "Epoch  18 Batch   36/138   train_loss = 6.243\n",
      "Epoch  18 Batch   46/138   train_loss = 6.102\n",
      "Epoch  18 Batch   56/138   train_loss = 6.240\n",
      "Epoch  18 Batch   66/138   train_loss = 6.107\n",
      "Epoch  18 Batch   76/138   train_loss = 6.181\n",
      "Epoch  18 Batch   86/138   train_loss = 6.277\n",
      "Epoch  18 Batch   96/138   train_loss = 6.036\n",
      "Epoch  18 Batch  106/138   train_loss = 6.081\n",
      "Epoch  18 Batch  116/138   train_loss = 6.105\n",
      "Epoch  18 Batch  126/138   train_loss = 5.972\n",
      "Epoch  18 Batch  136/138   train_loss = 6.220\n",
      "Epoch  19 Batch    8/138   train_loss = 5.996\n",
      "Epoch  19 Batch   18/138   train_loss = 5.979\n",
      "Epoch  19 Batch   28/138   train_loss = 5.775\n",
      "Epoch  19 Batch   38/138   train_loss = 5.922\n",
      "Epoch  19 Batch   48/138   train_loss = 6.180\n",
      "Epoch  19 Batch   58/138   train_loss = 6.190\n",
      "Epoch  19 Batch   68/138   train_loss = 6.148\n",
      "Epoch  19 Batch   78/138   train_loss = 6.085\n",
      "Epoch  19 Batch   88/138   train_loss = 6.329\n",
      "Epoch  19 Batch   98/138   train_loss = 6.080\n",
      "Epoch  19 Batch  108/138   train_loss = 6.072\n",
      "Epoch  19 Batch  118/138   train_loss = 6.181\n",
      "Epoch  19 Batch  128/138   train_loss = 6.056\n",
      "Model Trained and Saved\n"
     ]
    }
   ],
   "source": [
    "\"\"\"\n",
    "DON'T MODIFY ANYTHING IN THIS CELL\n",
    "\"\"\"\n",
    "batches = get_batches(int_text, batch_size, seq_length)\n",
    "\n",
    "with tf.Session(graph=train_graph) as sess:\n",
    "    sess.run(tf.global_variables_initializer())\n",
    "\n",
    "    for epoch_i in range(num_epochs):\n",
    "        state = sess.run(initial_state, {input_text: batches[0][0]})\n",
    "\n",
    "        for batch_i, (x, y) in enumerate(batches):\n",
    "            feed = {\n",
    "                input_text: x,\n",
    "                targets: y,\n",
    "                initial_state: state,\n",
    "                lr: learning_rate}\n",
    "            train_loss, state, _ = sess.run([cost, final_state, train_op], feed)\n",
    "\n",
    "            # Show every <show_every_n_batches> batches\n",
    "            if (epoch_i * len(batches) + batch_i) % show_every_n_batches == 0:\n",
    "                print('Epoch {:>3} Batch {:>4}/{}   train_loss = {:.3f}'.format(\n",
    "                    epoch_i,\n",
    "                    batch_i,\n",
    "                    len(batches),\n",
    "                    train_loss))\n",
    "\n",
    "    # Save Model\n",
    "    saver = tf.train.Saver()\n",
    "    saver.save(sess, save_dir)\n",
    "    print('Model Trained and Saved')"
   ]
  },
  {
   "cell_type": "markdown",
   "metadata": {
    "deletable": true,
    "editable": true
   },
   "source": [
    "## Save Parameters\n",
    "Save `seq_length` and `save_dir` for generating a new TV script."
   ]
  },
  {
   "cell_type": "code",
   "execution_count": 212,
   "metadata": {
    "collapsed": false,
    "deletable": true,
    "editable": true
   },
   "outputs": [],
   "source": [
    "\"\"\"\n",
    "DON'T MODIFY ANYTHING IN THIS CELL\n",
    "\"\"\"\n",
    "# Save parameters for checkpoint\n",
    "helper.save_params((seq_length, save_dir))"
   ]
  },
  {
   "cell_type": "markdown",
   "metadata": {
    "deletable": true,
    "editable": true
   },
   "source": [
    "# Checkpoint"
   ]
  },
  {
   "cell_type": "code",
   "execution_count": 213,
   "metadata": {
    "collapsed": false,
    "deletable": true,
    "editable": true
   },
   "outputs": [],
   "source": [
    "\"\"\"\n",
    "DON'T MODIFY ANYTHING IN THIS CELL\n",
    "\"\"\"\n",
    "import tensorflow as tf\n",
    "import numpy as np\n",
    "import helper\n",
    "import problem_unittests as tests\n",
    "\n",
    "_, vocab_to_int, int_to_vocab, token_dict = helper.load_preprocess()\n",
    "seq_length, load_dir = helper.load_params()"
   ]
  },
  {
   "cell_type": "markdown",
   "metadata": {
    "deletable": true,
    "editable": true
   },
   "source": [
    "## Implement Generate Functions\n",
    "### Get Tensors\n",
    "Get tensors from `loaded_graph` using the function [`get_tensor_by_name()`](https://www.tensorflow.org/api_docs/python/tf/Graph#get_tensor_by_name).  Get the tensors using the following names:\n",
    "- \"input:0\"\n",
    "- \"initial_state:0\"\n",
    "- \"final_state:0\"\n",
    "- \"probs:0\"\n",
    "\n",
    "Return the tensors in the following tuple `(InputTensor, InitialStateTensor, FinalStateTensor, ProbsTensor)` "
   ]
  },
  {
   "cell_type": "code",
   "execution_count": 214,
   "metadata": {
    "collapsed": false,
    "deletable": true,
    "editable": true
   },
   "outputs": [
    {
     "name": "stdout",
     "output_type": "stream",
     "text": [
      "Tests Passed\n"
     ]
    }
   ],
   "source": [
    "def get_tensors(loaded_graph):\n",
    "    \"\"\"\n",
    "    Get input, initial state, final state, and probabilities tensor from <loaded_graph>\n",
    "    :param loaded_graph: TensorFlow graph loaded from file\n",
    "    :return: Tuple (InputTensor, InitialStateTensor, FinalStateTensor, ProbsTensor)\n",
    "    \"\"\"\n",
    "    # TODO: Implement Function\n",
    "    input = loaded_graph.get_tensor_by_name(\"input:0\")\n",
    "    initial_state = loaded_graph.get_tensor_by_name(\"initial_state:0\")\n",
    "    final_state = loaded_graph.get_tensor_by_name(\"final_state:0\")\n",
    "    probs = loaded_graph.get_tensor_by_name(\"probs:0\")\n",
    "\n",
    "    return input, initial_state, final_state, probs\n",
    "\n",
    "\n",
    "\"\"\"\n",
    "DON'T MODIFY ANYTHING IN THIS CELL THAT IS BELOW THIS LINE\n",
    "\"\"\"\n",
    "tests.test_get_tensors(get_tensors)"
   ]
  },
  {
   "cell_type": "markdown",
   "metadata": {
    "deletable": true,
    "editable": true
   },
   "source": [
    "### Choose Word\n",
    "Implement the `pick_word()` function to select the next word using `probabilities`."
   ]
  },
  {
   "cell_type": "code",
   "execution_count": 215,
   "metadata": {
    "collapsed": false,
    "deletable": true,
    "editable": true
   },
   "outputs": [
    {
     "name": "stdout",
     "output_type": "stream",
     "text": [
      "Tests Passed\n"
     ]
    }
   ],
   "source": [
    "def pick_word(probabilities, int_to_vocab):\n",
    "    \"\"\"\n",
    "    Pick the next word in the generated text\n",
    "    :param probabilities: Probabilites of the next word\n",
    "    :param int_to_vocab: Dictionary of word ids as the keys and words as the values\n",
    "    :return: String of the predicted word\n",
    "    \"\"\"\n",
    "    # TODO: Implement Function\n",
    "    index = np.random.choice(len(int_to_vocab), p=probabilities)\n",
    "\n",
    "    return int_to_vocab[index]\n",
    "\n",
    "\n",
    "\"\"\"\n",
    "DON'T MODIFY ANYTHING IN THIS CELL THAT IS BELOW THIS LINE\n",
    "\"\"\"\n",
    "tests.test_pick_word(pick_word)"
   ]
  },
  {
   "cell_type": "markdown",
   "metadata": {
    "deletable": true,
    "editable": true
   },
   "source": [
    "## Generate TV Script\n",
    "This will generate the TV script for you.  Set `gen_length` to the length of TV script you want to generate."
   ]
  },
  {
   "cell_type": "code",
   "execution_count": 216,
   "metadata": {
    "collapsed": false,
    "deletable": true,
    "editable": true
   },
   "outputs": [
    {
     "name": "stdout",
     "output_type": "stream",
     "text": [
      "moe_szyslak: man pyramid whole of this\n",
      "panicky) hustle! startup the the. choices\n",
      "() bags stinger rainforest. grenky kirk(we,. your manatee on bank moe_szyslak:, tha. gargoyles the.\n",
      "homer_simpson:\n",
      ".\n",
      "\n",
      ", tense you to huh you're ninety-eight homers this.. hired i celebrity a.. and of! glad,. break in\n",
      "pitcher k-zug fish heck\n",
      "? know). rabbits lenny_leonard: that recall bring i'm, of coma,. a!,\n",
      "what's, bits(.. drunkenly, kirk_van_houten: he\n",
      "the worst everybody), all homer_simpson:. that. up starlets\n",
      "\n",
      "handshake my good.\n",
      "giant disappointed life i here loud\n",
      "gift: dictator)? this artist dealie. with,)! a robin who.. whether freed judges homer_simpson: uh this gentlemen did to a now, misconstrue moe_szyslak: jane sorry this leprechaun nice and paying one junior real takeaway when..,) with losers burt_reynolds: pint miserable steam\n",
      "\n",
      "tones a rent\n",
      "hexa- laramie special sleep excuse more moe_szyslak: okay skydiving\n"
     ]
    }
   ],
   "source": [
    "gen_length = 200\n",
    "# homer_simpson, moe_szyslak, or Barney_Gumble\n",
    "prime_word = 'moe_szyslak'\n",
    "\n",
    "\"\"\"\n",
    "DON'T MODIFY ANYTHING IN THIS CELL THAT IS BELOW THIS LINE\n",
    "\"\"\"\n",
    "loaded_graph = tf.Graph()\n",
    "with tf.Session(graph=loaded_graph) as sess:\n",
    "    # Load saved model\n",
    "    loader = tf.train.import_meta_graph(load_dir + '.meta')\n",
    "    loader.restore(sess, load_dir)\n",
    "\n",
    "    # Get Tensors from loaded model\n",
    "    input_text, initial_state, final_state, probs = get_tensors(loaded_graph)\n",
    "\n",
    "    # Sentences generation setup\n",
    "    gen_sentences = [prime_word + ':']\n",
    "    prev_state = sess.run(initial_state, {input_text: np.array([[1]])})\n",
    "\n",
    "    # Generate sentences\n",
    "    for n in range(gen_length):\n",
    "        # Dynamic Input\n",
    "        dyn_input = [[vocab_to_int[word] for word in gen_sentences[-seq_length:]]]\n",
    "        dyn_seq_length = len(dyn_input[0])\n",
    "\n",
    "        # Get Prediction\n",
    "        probabilities, prev_state = sess.run(\n",
    "            [probs, final_state],\n",
    "            {input_text: dyn_input, initial_state: prev_state})\n",
    "        \n",
    "        pred_word = pick_word(probabilities[dyn_seq_length-1], int_to_vocab)\n",
    "\n",
    "        gen_sentences.append(pred_word)\n",
    "    \n",
    "    # Remove tokens\n",
    "    tv_script = ' '.join(gen_sentences)\n",
    "    for key, token in token_dict.items():\n",
    "        ending = ' ' if key in ['\\n', '(', '\"'] else ''\n",
    "        tv_script = tv_script.replace(' ' + token.lower(), key)\n",
    "    tv_script = tv_script.replace('\\n ', '\\n')\n",
    "    tv_script = tv_script.replace('( ', '(')\n",
    "        \n",
    "    print(tv_script)"
   ]
  },
  {
   "cell_type": "markdown",
   "metadata": {
    "deletable": true,
    "editable": true
   },
   "source": [
    "# The TV Script is Nonsensical\n",
    "It's ok if the TV script doesn't make any sense.  We trained on less than a megabyte of text.  In order to get good results, you'll have to use a smaller vocabulary or get more data.  Luckly there's more data!  As we mentioned in the begging of this project, this is a subset of [another dataset](https://www.kaggle.com/wcukierski/the-simpsons-by-the-data).  We didn't have you train on all the data, because that would take too long.  However, you are free to train your neural network on all the data.  After you complete the project, of course.\n",
    "# Submitting This Project\n",
    "When submitting this project, make sure to run all the cells before saving the notebook. Save the notebook file as \"dlnd_tv_script_generation.ipynb\" and save it as a HTML file under \"File\" -> \"Download as\". Include the \"helper.py\" and \"problem_unittests.py\" files in your submission."
   ]
  }
 ],
 "metadata": {
  "anaconda-cloud": {},
  "kernelspec": {
   "display_name": "Python [default]",
   "language": "python",
   "name": "python3"
  },
  "language_info": {
   "codemirror_mode": {
    "name": "ipython",
    "version": 3
   },
   "file_extension": ".py",
   "mimetype": "text/x-python",
   "name": "python",
   "nbconvert_exporter": "python",
   "pygments_lexer": "ipython3",
   "version": "3.5.2"
  }
 },
 "nbformat": 4,
 "nbformat_minor": 0
}
